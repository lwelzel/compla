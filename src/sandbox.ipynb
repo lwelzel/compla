{
 "cells": [
  {
   "cell_type": "code",
   "execution_count": 17,
   "metadata": {
    "collapsed": true
   },
   "outputs": [],
   "source": [
    "import numpy as np\n",
    "import sys\n",
    "import re\n",
    "import os\n",
    "import pandas as pd\n",
    "import warnings\n",
    "from pathlib import Path\n",
    "from typing import List, Dict, Tuple, Any, Union, Callable\n",
    "from tqdm import tqdm\n",
    "import csv\n",
    "import json\n",
    "from dataclasses import dataclass\n",
    "from configobj import ConfigObj"
   ]
  },
  {
   "cell_type": "code",
   "execution_count": 3,
   "outputs": [],
   "source": [
    "WDIR = Path().cwd().parent\n",
    "\n",
    "PLANET_DB_PATH = str(WDIR / \"data/planet_database_composite.csv\")\n",
    "OPACITY_PATH = str(WDIR / \"data/Input/xsec/xsec_sampled_R15000_0.3-15\")\n",
    "CIA_PATH = str(WDIR / \"data/Input/cia/hitran\")\n",
    "MOLECULE_PATH = str(WDIR / \"data/molecule_db.json\")"
   ],
   "metadata": {
    "collapsed": false
   }
  },
  {
   "cell_type": "code",
   "execution_count": 5,
   "outputs": [
    {
     "name": "stdout",
     "output_type": "stream",
     "text": [
      "[{'molecule': 'H2O', 'abundance': -3, 'type': 'ConstantGas'}, {'molecule': 'CH4', 'abundance': -7, 'type': 'ConstantGas'}, {'molecule': 'NH3', 'abundance': -7, 'type': 'ConstantGas'}, {'molecule': 'CO', 'abundance': -7, 'type': 'ConstantGas'}, {'molecule': 'CO2', 'abundance': -7, 'type': 'ConstantGas'}, {'molecule': 'HCN', 'abundance': -7, 'type': 'ConstantGas'}, {'molecule': 'Na', 'abundance': -7, 'type': 'ConstantGas'}, {'molecule': 'K', 'abundance': -7, 'type': 'ConstantGas'}, {'molecule': 'TiO', 'abundance': -15, 'type': 'ConstantGas'}, {'molecule': 'VO', 'abundance': -15, 'type': 'ConstantGas'}, {'molecule': 'FeH', 'abundance': -15, 'type': 'ConstantGas'}, {'molecule': 'e-', 'abundance': -15, 'type': 'ConstantGas'}]\n"
     ]
    }
   ],
   "source": [
    "def read_json_file(file_path):\n",
    "    with open(file_path, 'r') as f:\n",
    "        data = json.load(f)\n",
    "    return data\n",
    "\n",
    "print(read_json_file(MOLECULE_PATH))"
   ],
   "metadata": {
    "collapsed": false
   }
  },
  {
   "cell_type": "code",
   "execution_count": 19,
   "outputs": [
    {
     "data": {
      "text/plain": "ConfigObj({'Global': {'xsec_path': '/path/to/xsec', 'cia_path': '/path/to/cia'}, 'Chemistry': {'chemistry_type': 'taurex', 'fill_gases': ['H2', 'He'], 'ratio': '4.8962e-2', 'CO2': {'gas_type': 'constant', 'mix_ratio': '1.1185e-4'}, 'N2': {'gas_type': 'constant', 'mix_ratio': '3.00739e-9'}}, 'Temperature': {'profile_type': 'isothermal', 'T': '1265.97764826'}, 'Pressure': {'profile_type': 'Simple', 'atm_min_pressure': '1e-0', 'atm_max_pressure': '1e6', 'nlayers': '30'}, 'Planet': {'planet_type': 'Simple', 'planet_mass': '1.0', 'planet_radius': '0.999430455828'}, 'Star': {'star_type': 'blackbody', 'temperature': '5800'}, 'Model': {'model_type': 'transmission', 'Absorption': {}, 'CIA': {'cia_pairs': ['H2-He', 'H2-H2']}, 'Rayleigh': {}}, 'Observation': {'observation': 'spectra_w_offsets', 'path_spectra': ['spectrum1.txt', 'spectrum2.txt', 'spectrum3.txt'], 'offsets': ['0.0', '0.0', '0.0'], 'slopes': ['0.0', '0.0', '0.0']}, 'Binning': {}, 'Instrument': {}, 'Optimizer': {'optimizer': 'nestle', 'num_live_points': '100', 'method': 'single'}, 'Fitting': {'Offset_1:fit': 'True', 'Offset_1:bounds': ['-1e-15', '1e-15'], 'Offset_1:mode': 'linear', 'Offset_2:fit': 'True', 'Offset_2:bounds': ['-1e-15', '1e-15'], 'Offset_2:mode': 'linear', 'Offset_3:fit': 'True', 'Offset_3:bounds': ['-1e-15', '1e-15'], 'Offset_3:mode': 'linear', 'Slope_1:fit': 'True', 'Slope_1:bounds': ['-1e-15', '1e-15'], 'Slope_1:mode': 'linear', 'Slope_2:fit': 'True', 'Slope_2:bounds': ['-1e-15', '1e-15'], 'Slope_2:mode': 'linear', 'Slope_3:fit': 'True', 'Slope_3:bounds': ['-1e-15', '1e-15'], 'Slope_3:mode': 'linear'}})"
     },
     "execution_count": 19,
     "metadata": {},
     "output_type": "execute_result"
    }
   ],
   "source": [
    "config = ConfigObj(str(WDIR / \"data/default.par\"))\n",
    "\n",
    "config\n",
    "\n"
   ],
   "metadata": {
    "collapsed": false
   }
  },
  {
   "cell_type": "code",
   "execution_count": 36,
   "outputs": [
    {
     "name": "stdout",
     "output_type": "stream",
     "text": [
      "{'Global': {'xsec_path': '/path/to/xsec', 'cia_path': '/path/to/cia'}, 'Chemistry': {'chemistry_type': 'taurex', 'fill_gases': ['H2', 'He'], 'ratio': '4.8962e-2', 'CO2': {'gas_type': 'constant', 'mix_ratio': '1.1185e-4'}, 'N2': {'gas_type': 'constant', 'mix_ratio': '3.00739e-9'}}, 'Temperature': {'profile_type': 'isothermal', 'T': '1265.97764826'}, 'Pressure': {'profile_type': 'Simple', 'atm_min_pressure': '1e-0', 'atm_max_pressure': '1e6', 'nlayers': '30'}, 'Planet': {'planet_type': 'Simple', 'planet_mass': '1.0', 'planet_radius': '0.999430455828'}, 'Star': {'star_type': 'blackbody', 'temperature': '5800'}, 'Model': {'model_type': 'transmission', 'Absorption': {}, 'CIA': {'cia_pairs': ['H2-He', 'H2-H2']}, 'Rayleigh': {}}, 'Observation': {'observation': 'spectra_w_offsets', 'path_spectra': ['spectrum1.txt', 'spectrum2.txt', 'spectrum3.txt'], 'offsets': ['0.0', '0.0', '0.0'], 'slopes': ['0.0', '0.0', '0.0']}, 'Binning': {}, 'Instrument': {}, 'Optimizer': {'optimizer': 'nestle', 'num_live_points': '100', 'method': 'single'}, 'Fitting': {'Offset_1:fit': 'True', 'Offset_1:bounds': ['-1e-15', '1e-15'], 'Offset_1:mode': 'linear', 'Offset_2:fit': 'True', 'Offset_2:bounds': ['-1e-15', '1e-15'], 'Offset_2:mode': 'linear', 'Offset_3:fit': 'True', 'Offset_3:bounds': ['-1e-15', '1e-15'], 'Offset_3:mode': 'linear', 'Slope_1:fit': 'True', 'Slope_1:bounds': ['-1e-15', '1e-15'], 'Slope_1:mode': 'linear', 'Slope_2:fit': 'True', 'Slope_2:bounds': ['-1e-15', '1e-15'], 'Slope_2:mode': 'linear', 'Slope_3:fit': 'True', 'Slope_3:bounds': ['-1e-15', '1e-15'], 'Slope_3:mode': 'linear'}}\n"
     ]
    }
   ],
   "source": [
    "def write_global(config, settings=None):\n",
    "    config['Global']['xsec_path'] = str(OPACITY_PATH)\n",
    "    config['Global']['cia_path'] = str(CIA_PATH)\n",
    "\n",
    "def write_chemistry(config, settings=None):\n",
    "    config['Chemistry']['chemistry_type'] = 'taurex'\n",
    "    config['Chemistry']['fill_gases'] = ['H2', 'He']\n",
    "    config['Chemistry']['ratio'] = 0.17\n",
    "\n",
    "def _write_abstract(config, settings, level=0):\n",
    "    for k, v in settings.items():\n",
    "        config[k] = {}\n",
    "        try:\n",
    "            assert isinstance(v, dict)\n",
    "            _write_abstract(config=config[k], settings=v, level=level+1)\n",
    "        except AssertionError:\n",
    "            config[k] = v\n",
    "            return\n",
    "\n",
    "config_empt = ConfigObj()\n",
    "\n",
    "def make_Obs_ObsFit_dict(path_list, fitting_bounds=None, fitting_mode=\"linear\"):\n",
    "    observation_dict = {\n",
    "        'observation': 'spectra_w_offsets',\n",
    "        'path_spectra': ['spectrum1.txt',\n",
    "                         'spectrum2.txt',\n",
    "                         'spectrum3.txt'],\n",
    "        'offsets': [\"0.0\"] * len(path_list),\n",
    "        'slopes': [\"0.0\"] * len(path_list),\n",
    "    }\n",
    "\n",
    "    if fitting_mode is None:\n",
    "        fitting_mode = ['-1e-15', '1e-15']\n",
    "\n",
    "    if isinstance(fitting_bounds[0], (str, float)) and isinstance(fitting_mode, str):\n",
    "        fitting_dict = {}\n",
    "        for i, __ in enumerate(path_list):\n",
    "\n",
    "            obs_fit_dict = {\n",
    "                f'Offset_{i+1}:fit': 'True',\n",
    "                f'Offset_{i+1}:bounds': fitting_mode,\n",
    "                f'Offset_{i+1}:mode': fitting_mode,\n",
    "            }\n",
    "\n",
    "            fitting_dict = {**fitting_dict, **obs_fit_dict}\n",
    "    else:\n",
    "        raise NotImplementedError(\"Only same options for each observation fit is supported.\")\n",
    "\n",
    "    out_dict = {\n",
    "        'Observation': observation_dict,\n",
    "        'Fitting': fitting_dict,\n",
    "    }\n",
    "    return out_dict\n",
    "\n",
    "\n",
    "\n",
    "def make_Chem_dict(molecule_dp_path, which_molecules=None, settings=None):\n",
    "    # TODO: use types as type hinting?\n",
    "    types = {\n",
    "        'ConstantGas': ConstantGas,\n",
    "        'TwoLayerGas': TwoLayerGas,\n",
    "        'HydrogenIon': HydrogenIon,\n",
    "    }\n",
    "\n",
    "    # TODO: unpack, into which gasses, k, v\n",
    "    gas_para_db = read_json_file(MOLECULE_PATH)\n",
    "\n",
    "    gases_dict = {}\n",
    "\n",
    "\n",
    "\n",
    "    # TODO: add gas_type as attr to json separate from type? for .par files\n",
    "    for gas in which_molecules:\n",
    "        gas_dict ={gas[\"molecule\"]:\n",
    "            {\n",
    "                \"gas_type\": gas[\"gas_type\"],\n",
    "                \"mix_ratio\": 10 ** gas[\"abundance\"],\n",
    "            }\n",
    "        }\n",
    "        gases_dict = {**gases_dict, **gas_dict}\n",
    "\n",
    "    chemistry_dict = {\n",
    "        \"chemistry_type\": \"free\",  # TODO: free or taurex?\n",
    "        \"fill_gasses\": [\"H2\", \"He\"],\n",
    "        \"ratio\": 0.17,\n",
    "        **gases_dict,\n",
    "    }\n",
    "\n",
    "    return chemistry_dict\n",
    "\n",
    "def make_Temp_dict(target, settings=None):\n",
    "    if settings is None:\n",
    "        settings = {}\n",
    "\n",
    "    # TODO: default is isothermal. Check re npoint or Guillot2016/2018?\n",
    "    default_dict = {\n",
    "        \"profile_type\": \"isothermal\",\n",
    "        \"T\": target[\"Equilibrium Temperature [K]\"],\n",
    "    }\n",
    "\n",
    "    # TODO: issues because errors are thrown if unexpected keys in Temperature config\n",
    "    # overwrite partial if type key is same, overwrite fully if mismatch\n",
    "    return {\"Temperature\": {**default_dict, **settings}}\n",
    "\n",
    "\n",
    "def make_Press_dict(settings=None):\n",
    "    if settings is None:\n",
    "        settings = {}\n",
    "\n",
    "    return {\"Pressure\": settings}\n",
    "\n",
    "\n",
    "def make_Planet_dict(target, settings=None):\n",
    "\n",
    "    # planet_radius=target[\"Planet Radius [Jupiter Radius]\"]\n",
    "    # planet_mass=target[\"Planet Mass or Mass*sin(i) [Jupiter Mass]\"]\n",
    "\n",
    "\n",
    "    planet_dict = {\n",
    "        \"planet_type\": \"Simple\" ##\n",
    "        # ... keys?\n",
    "    }\n",
    "\n",
    "    return {\"Planet\": settings}\n",
    "\n",
    "\n",
    "def make_bounds_from_derived_para(para, interval=None, mode=None, fit=True):\n",
    "    if interval is None:\n",
    "        interval = np.array([0.1, 10.])\n",
    "    if mode is None:\n",
    "        mode = \"linear\" # TODO: check with docs if custom priors instead of bounds\n",
    "\n",
    "    out = {\n",
    "        f\"{para['name']}:fit\": fit,\n",
    "        f\"{para['name']}:bounds\": list(interval * para[\"value\"]),\n",
    "        f\"{para['name']}:mode\": mode,\n",
    "    }\n",
    "\n",
    "    return {\"Fitting\": out}\n",
    "\n",
    "\n",
    "\n",
    "\n",
    "\n",
    "\n",
    "\n",
    "\n",
    "dic = {'Global': {'xsec_path': '/path/to/xsec', 'cia_path': '/path/to/cia'}, 'Chemistry': {'chemistry_type': 'taurex', 'fill_gases': ['H2', 'He'], 'ratio': '4.8962e-2', 'CO2': {'gas_type': 'constant', 'mix_ratio': '1.1185e-4'}, 'N2': {'gas_type': 'constant', 'mix_ratio': '3.00739e-9'}}, 'Temperature': {'profile_type': 'isothermal', 'T': '1265.97764826'}, 'Pressure': {'profile_type': 'Simple', 'atm_min_pressure': '1e-0', 'atm_max_pressure': '1e6', 'nlayers': '30'}, 'Planet': {'planet_type': 'Simple', 'planet_mass': '1.0', 'planet_radius': '0.999430455828'}, 'Star': {'star_type': 'blackbody', 'temperature': '5800'}, 'Model': {'model_type': 'transmission', 'Absorption': {}, 'CIA': {'cia_pairs': ['H2-He', 'H2-H2']}, 'Rayleigh': {}}, 'Observation': {'observation': 'spectra_w_offsets', 'path_spectra': ['spectrum1.txt', 'spectrum2.txt', 'spectrum3.txt'], 'offsets': ['0.0', '0.0', '0.0'], 'slopes': ['0.0', '0.0', '0.0']}, 'Binning': {}, 'Instrument': {}, 'Optimizer': {'optimizer': 'nestle', 'num_live_points': '100', 'method': 'single'}, 'Fitting': {'Offset_1:fit': 'True', 'Offset_1:bounds': ['-1e-15', '1e-15'], 'Offset_1:mode': 'linear', 'Offset_2:fit': 'True', 'Offset_2:bounds': ['-1e-15', '1e-15'], 'Offset_2:mode': 'linear', 'Offset_3:fit': 'True', 'Offset_3:bounds': ['-1e-15', '1e-15'], 'Offset_3:mode': 'linear', 'Slope_1:fit': 'True', 'Slope_1:bounds': ['-1e-15', '1e-15'], 'Slope_1:mode': 'linear', 'Slope_2:fit': 'True', 'Slope_2:bounds': ['-1e-15', '1e-15'], 'Slope_2:mode': 'linear', 'Slope_3:fit': 'True', 'Slope_3:bounds': ['-1e-15', '1e-15'], 'Slope_3:mode': 'linear'}}\n",
    "\n",
    "# _write_abstract(config=config_empt, settings=dic)\n",
    "\n",
    "config_empt = ConfigObj(dic)\n",
    "\n",
    "config_empt.filename = str(WDIR / \"data/test.par\")\n",
    "\n",
    "config_empt.write()\n",
    "\n",
    "print(config_empt)\n",
    "\n",
    "# write_global(config)\n",
    "# write_chemistry(config)\n",
    "#\n",
    "# config.write()"
   ],
   "metadata": {
    "collapsed": false
   }
  },
  {
   "cell_type": "code",
   "execution_count": null,
   "outputs": [],
   "source": [],
   "metadata": {
    "collapsed": false
   }
  }
 ],
 "metadata": {
  "kernelspec": {
   "display_name": "Python 3",
   "language": "python",
   "name": "python3"
  },
  "language_info": {
   "codemirror_mode": {
    "name": "ipython",
    "version": 2
   },
   "file_extension": ".py",
   "mimetype": "text/x-python",
   "name": "python",
   "nbconvert_exporter": "python",
   "pygments_lexer": "ipython2",
   "version": "2.7.6"
  }
 },
 "nbformat": 4,
 "nbformat_minor": 0
}
