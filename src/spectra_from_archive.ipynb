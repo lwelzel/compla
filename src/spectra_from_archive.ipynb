{
 "cells": [
  {
   "cell_type": "markdown",
   "source": [
    "### Extract individual spectra from NASA exoplanet archive"
   ],
   "metadata": {
    "collapsed": false
   }
  },
  {
   "cell_type": "code",
   "execution_count": 8,
   "outputs": [],
   "source": [
    "import numpy as np\n",
    "import pandas as pd\n",
    "from pandas.errors import ParserWarning\n",
    "import re\n",
    "from pathlib import Path\n",
    "import warnings\n",
    "from typing import List, Dict"
   ],
   "metadata": {
    "collapsed": false
   }
  },
  {
   "cell_type": "code",
   "execution_count": 3,
   "outputs": [],
   "source": [
    "# local setup\n",
    "WDIR = Path().cwd().parent"
   ],
   "metadata": {
    "collapsed": false
   }
  },
  {
   "cell_type": "code",
   "execution_count": 4,
   "outputs": [],
   "source": [
    "# load data of all planets with transmission or emission data from exoplanet archive\n",
    "EMISSION_DATABASE_PATH = WDIR / \"data/emissionspec.csv\"\n",
    "TRANSMISSION_DATABASE_PATH = WDIR / \"data/transitspec.csv\"\n",
    "\n",
    "df_emission = pd.read_csv(EMISSION_DATABASE_PATH, header=18, index_col=0)\n",
    "df_transmission = pd.read_csv(TRANSMISSION_DATABASE_PATH, header=26, index_col=0)\n",
    "\n"
   ],
   "metadata": {
    "collapsed": false
   }
  },
  {
   "cell_type": "code",
   "execution_count": 22,
   "outputs": [
    {
     "name": "stdout",
     "output_type": "stream",
     "text": [
      "Index(['plntname', 'centralwavelng', 'bandwidth', 'plntransdep',\n",
      "       'plntransdeperr1', 'plntransdeperr2', 'plntransdeplim', 'plnradj',\n",
      "       'plnradjerr1', 'plnradjerr2', 'plnradjlim', 'plnratror',\n",
      "       'plnratrorerr1', 'plnratrorerr2', 'plnratrorlim', 'plntranmid',\n",
      "       'plntranmiderr1', 'plntranmiderr2', 'plntranmidlim', 'plntranreflink',\n",
      "       'facility', 'instrument'],\n",
      "      dtype='object')\n",
      "\n",
      "Index(['plntname', 'centralwavelng', 'bandwidth', 'especlipdep',\n",
      "       'especlipdeperr1', 'especlipdeperr2', 'especlipdeplim', 'espbritemp',\n",
      "       'espbritemperr1', 'espbritemperr2', 'espbritemplim', 'plntreflink',\n",
      "       'facility', 'instrument'],\n",
      "      dtype='object')\n"
     ]
    }
   ],
   "source": [
    "print(df_transmission.columns)\n",
    "print()\n",
    "print(df_emission.columns)\n",
    "\n",
    "def rename_columns(df: pd.DataFrame) -> pd.DataFrame:\n",
    "    column_mapping = {\n",
    "        'plntname': 'Planet Name',\n",
    "        'centralwavelng': 'Central Wavelength [microns]',\n",
    "        'bandwidth': 'Band Width [microns]',\n",
    "        'plntransdep': 'Transit Depth [percentage]',\n",
    "        'plntransdeperr1': 'Transit Depth Upper Unc. [percentage]',\n",
    "        'plntransdeperr2': 'Transit Depth Lower Unc. [percentage]',\n",
    "        'plntransdeplim': 'Transit Depth Limit Flag',\n",
    "        'plnradj': 'Planet Radius [Jupiter radii]',\n",
    "        'plnradjerr1': 'Planet Radius Upper Unc. [Jupiter radii]',\n",
    "        'plnradjerr2': 'Planet Radius Lower Unc. [Jupiter radii]',\n",
    "        'plnradjlim': 'Planet Radius Limit Flag',\n",
    "        'plnratror': 'Ratio of Planet to Stellar Radius',\n",
    "        'plnratrorerr1': 'Ratio of Planet to Stellar Radius Upper Unc.',\n",
    "        'plnratrorerr2': 'Ratio of Planet to Stellar Radius Lower Unc.',\n",
    "        'plnratrorlim': 'Ratio of Planet to Stellar Radius Limit Flag',\n",
    "        'plntranmid': 'Transit Mid-Point [BJD]',\n",
    "        'plntranmiderr1': 'Transit Mid-Point Upper Unc. [BJD]',\n",
    "        'plntranmiderr2': 'Transit Mid-Point Lower Unc. [BJD]',\n",
    "        'plntranmidlim': 'Transit Mid-Point Limit Flag',\n",
    "        'plntranreflink': 'Reference',\n",
    "        'facility': 'Facility',\n",
    "        'instrument': 'Instrument'\n",
    "    }\n",
    "\n",
    "    # Rename the columns using the column_mapping\n",
    "    renamed_df = df.rename(columns=column_mapping)\n",
    "\n",
    "    return renamed_df"
   ],
   "metadata": {
    "collapsed": false
   }
  },
  {
   "cell_type": "code",
   "execution_count": 23,
   "outputs": [
    {
     "name": "stdout",
     "output_type": "stream",
     "text": [
      "<a refstr=TSIARAS_ET_AL__2016 href=https://ui.adsabs.harvard.edu/abs/2016ApJ...820...99T/abstract target=ref>Tsiaras et al. 2016</a>\n",
      "346\n"
     ]
    }
   ],
   "source": [
    "def add_source_key(data_dict: Dict) -> Dict:\n",
    "    # Extract the plntranreflink value\n",
    "    reflink = data_dict.get('reflink', '')\n",
    "\n",
    "    # Search for the 'authoryear' pattern using a regular expression\n",
    "    pattern = re.compile(r'>(.+? et al\\. \\d{4})</a>|>(.+? \\d{4})</a>')\n",
    "    match = pattern.search(reflink)\n",
    "\n",
    "    if match:\n",
    "        authoryear = match.group(1) if match.group(1) else match.group(2)\n",
    "        if 'et al.' in authoryear:\n",
    "            authoryear = authoryear.replace(' et al. ', '+')\n",
    "\n",
    "        # Add the 'source' key with the extracted authoryear value\n",
    "        data_dict['source'] = authoryear.strip()\n",
    "    else:\n",
    "        data_dict['source'] = None\n",
    "\n",
    "    return data_dict\n",
    "\n",
    "def extract_data(df: pd.DataFrame) -> List[Dict]:\n",
    "    # Group the DataFrame by unique combinations of planet_name, instrument, facility, and reflink\n",
    "    grouped = df.groupby(['plntname', 'facility', 'instrument', 'plntranreflink'])\n",
    "\n",
    "    result = []\n",
    "\n",
    "    for (planet_name, facility, instrument, reflink), group in grouped:\n",
    "        # Convert each group to a dictionary\n",
    "        entry = {\n",
    "            'planet_name': planet_name,\n",
    "            'facility': facility,\n",
    "            'instrument': instrument,\n",
    "            'reflink': reflink,\n",
    "            'data': group\n",
    "        }\n",
    "\n",
    "        # Add the entry to the result list\n",
    "\n",
    "        entry = add_source_key(entry)\n",
    "\n",
    "        result.append(entry)\n",
    "\n",
    "    return result\n",
    "\n",
    "split_transmission = extract_data(df_transmission)\n",
    "# print(split_transmission[0])\n",
    "print(split_transmission[0]['reflink'])\n",
    "\n",
    "print(len(split_transmission))"
   ],
   "metadata": {
    "collapsed": false
   }
  },
  {
   "cell_type": "code",
   "execution_count": 25,
   "outputs": [
    {
     "name": "stdout",
     "output_type": "stream",
     "text": [
      "[WindowsPath('C:/Users/lukas/Documents/git/compla/data/transmission/GJ1214b_transmission_Bean2011.txt'), WindowsPath('C:/Users/lukas/Documents/git/compla/data/transmission/GJ1214b_transmission_Berta2012.txt'), WindowsPath('C:/Users/lukas/Documents/git/compla/data/transmission/GJ1214b_transmission_Kreidberg2014.txt'), WindowsPath('C:/Users/lukas/Documents/git/compla/data/transmission/GJ3470b_transmission_Benneke2019.txt'), WindowsPath('C:/Users/lukas/Documents/git/compla/data/transmission/GJ436b_transmission_Knutson2014.txt')]\n",
      "[{'header': ['# GJ1214b transmission spectrum', '# This file contains:', '# VLT FORS blue - Table 3 - Bean et al. 2011, ApJ, 743', '# VLT FORS red - Table 4 - Bean et al., 2011, ApJ, 743', '#', '# Analysis details:', '# values in this analysis were taken from Bean et al., 2010, Nature, 468', '# Period = 1.58040481 Â± 1.2E-7d days', '# Inclination = 88.94 degrees', '# a/R* = 14.9749', '#', '# Data history:', '# Converted by H.R. Wakeford from: Bean et al. (2011) into units of transit depth', '# ----------------------------------------------------------------------------------------', '# Wavelength (microns)  Delta Wavelength (microns)  (Rp/Rs)^2   (Rp/Rs)^2 +/-uncertainty', '# ----------------------------------------------------------------------------------------'], 'filename': WindowsPath('C:/Users/lukas/Documents/git/compla/data/transmission/GJ1214b_transmission_Bean2011.txt')}, {'header': ['# GJ 1214b transmission spectrum', '# This file contains:', '# WFC3 G141 - GO 12251 - Berta, et al., 2012, ApJ, 747, 1, 35', '#', '# Analysis details:', '# Berta et al. (2012) Table 2', '# Period = 1.58040481 days', '# Inclination = 89.3 degrees', '# a/R* = 15.3', '#', '# Data history:', '# Converted by H.R. Wakeford from: Berta, et al., 2012, ApJ', '# ----------------------------------------------------------------------------------------', '# Wavelength (microns)  Delta Wavelength (microns)  (Rp/Rs)^2   (Rp/Rs)^2 +/-uncertainty', '# ----------------------------------------------------------------------------------------'], 'filename': WindowsPath('C:/Users/lukas/Documents/git/compla/data/transmission/GJ1214b_transmission_Berta2012.txt')}, {'header': ['# GJ 1214b transmission spectrum', '# This file contains:', '# WFC3 G141 - GO 13021 - Kreidberg, et al., 2014, Nature - DOI:10.1038/nature12888', '# Spitzer IRAC 3.6 & 4.5 microns - Desert, et al. 2011, ApJ, 731', '#', '# Analysis details:', '# Kreidberg et al. 2014, Nature, Page 1 coulumn 2', '# Period = 1.58040464894 days', '# Inclination = 89.1 degrees', '# a/R* = 15.23', '#', '# Data history:', '# Converted by H.R. Wakeford from: Kreidberg, et al., 2014, Nature', '# ----------------------------------------------------------------------------------------', '# Wavelength (microns)  Delta Wavelength (microns)  (Rp/Rs)^2   (Rp/Rs)^2 +/-uncertainty', '# ----------------------------------------------------------------------------------------'], 'filename': WindowsPath('C:/Users/lukas/Documents/git/compla/data/transmission/GJ1214b_transmission_Kreidberg2014.txt')}, {'header': ['# GJ 3470b transmission spectrum', '# This file contains:', '# HST STIS G750L - GO 13665 - Benneke et al. 2019, Nature', '# HST WFC3 G141 - GO 13665 - Benneke et al. 2019, Nature', '# Spitzer 3.6, 4.5 - 10054 (Knutson, Desert) - Benneke et al. 2019, Nature', '# Data history:', '# Converted by H.R. Wakeford from: Benneke et al. 2019, Nature', '# ----------------------------------------------------------------------------------------', '# Wavelength (microns)  Delta Wavelength (microns)  (Rp/Rs)^2   (Rp/Rs)^2 +/-uncertainty', '# ----------------------------------------------------------------------------------------'], 'filename': WindowsPath('C:/Users/lukas/Documents/git/compla/data/transmission/GJ3470b_transmission_Benneke2019.txt')}, {'header': ['# GJ 436b transmission spectrum', '# This file contains:', '# WFC3 G141 - GO 11622 - Knutson, et al., 2014, Nature', '#', '# Analysis details:', '# Knutson, et al., 2014, Nature - DOI:10.1038/nature12887', '# Period = 2.64389782 days', '# Inclination = 86.774 degrees', '# a/R* = 14.41', '#', '# Data history:', '# Converted by H.R. Wakeford from: Knutson, et al., 2014, Nature', '# from Extended Data Table 1 of the Averaged differential transit depths', '# --------------------------------------------------------------------------', '# Wavelength (microns)  Delta Wavelength (microns)  (Rp/Rs)^2   (Rp/Rs)^2 +/-uncertainty', '# ---------------------------------------------------------------------------'], 'filename': WindowsPath('C:/Users/lukas/Documents/git/compla/data/transmission/GJ436b_transmission_Knutson2014.txt')}]\n"
     ]
    }
   ],
   "source": [
    "TRANSMISSION_SPECTRA_PATH = WDIR / \"data/transmission\"\n",
    "exts = [\".txt\"]\n",
    "\n",
    "def get_txt_spectra_files_in_path(path, ):\n",
    "    paths = list([\n",
    "        p for p in Path(path).glob('*') if (p.suffix in exts and p.is_file())\n",
    "    ])\n",
    "    return paths\n",
    "\n",
    "def read_headers(file_paths: List[str]) -> List[Dict]:\n",
    "    headers = []\n",
    "\n",
    "    for file_path in file_paths:\n",
    "        # Read the header lines from the file\n",
    "        with open(file_path, 'r') as file:\n",
    "            header_lines = [line.strip() for line in file.readlines() if line.startswith('#')]\n",
    "\n",
    "        # Create a dictionary with the header lines and filename\n",
    "        header_dict = {\n",
    "            'header': header_lines,\n",
    "            'filename': file_path.name,\n",
    "            'path': file_path\n",
    "        }\n",
    "\n",
    "        # Append the dictionary to the headers list\n",
    "        headers.append(header_dict)\n",
    "\n",
    "    return headers\n",
    "\n",
    "transmission_spectra_files = get_txt_spectra_files_in_path(TRANSMISSION_SPECTRA_PATH)\n",
    "test = transmission_spectra_files[0:5]\n",
    "print(test)\n",
    "\n",
    "transmission_spectra_files_info = read_headers(test)\n",
    "\n",
    "print(transmission_spectra_files_info)\n"
   ],
   "metadata": {
    "collapsed": false
   }
  },
  {
   "cell_type": "code",
   "execution_count": 36,
   "outputs": [
    {
     "name": "stdout",
     "output_type": "stream",
     "text": [
      "Number of unique planets with transmission spectra: 103.\n",
      "\tMedian count: 2.0, mean count: 2.0 +/- 3.8, max count: 21 (GJ 1214 b).\n"
     ]
    }
   ],
   "source": [
    "def get_unique_planet_names(df: pd.DataFrame) -> List[str]:\n",
    "    unique_planet_names = df['plntname'].unique().tolist()\n",
    "    return unique_planet_names\n",
    "\n",
    "# all_planets = get_unique_planet_names(df_transmission)\n",
    "\n",
    "def unique_planets_and_counts(dict_list: List[Dict]) -> (List[str], List[float]):\n",
    "    planet_counts = {}\n",
    "\n",
    "    for item in dict_list:\n",
    "        planet_name = item['planet_name']\n",
    "        if planet_name in planet_counts:\n",
    "            planet_counts[planet_name] += 1\n",
    "        else:\n",
    "            planet_counts[planet_name] = 1\n",
    "\n",
    "    unique_planet_names = list(planet_counts.keys())\n",
    "    counts = list(planet_counts.values())\n",
    "\n",
    "    return unique_planet_names, counts\n",
    "\n",
    "# TODO: write regex that checks for number of star systems: all non-special characters must be equal except for the letter at the last position.\n",
    "\n",
    "all_planets, counts =unique_planets_and_counts(split_transmission)\n",
    "\n",
    "print(f\"Number of unique planets with transmission spectra: {len(all_planets)}.\\n\"\n",
    "      f\"\\tMedian count: {np.median(counts)}, mean count: {np.median(counts):.1f} +/- {np.std(counts):.1f}, max count: {np.max(counts)} ({all_planets[np.argmax(counts)]}).\")\n"
   ],
   "metadata": {
    "collapsed": false
   }
  },
  {
   "cell_type": "code",
   "execution_count": 45,
   "outputs": [
    {
     "name": "stdout",
     "output_type": "stream",
     "text": [
      "[{'author': 'Wakeford', 'year': '2013', 'journal': 'MNRAS', 'journal_number': '435.3481W', 'full_reference': 'Wakeford 2013 MNRAS 435.3481W'}, {'author': 'Dragomir', 'year': '2015', 'journal': 'ApJ', 'journal_number': '..814..102D', 'full_reference': 'Dragomir 2015 ApJ ..814..102D'}, {'author': 'Kirk', 'year': '2018', 'journal': 'MNRAS', 'journal_number': '474..876K', 'full_reference': 'Kirk 2018 MNRAS 474..876K'}, {'author': 'Swain', 'year': '2021', 'journal': 'arXiv', 'journal_number': '210305657S', 'full_reference': 'Swain 2021 arXiv 210305657S'}, {'author': 'Fu', 'year': '2022', 'journal': 'arXiv', 'journal_number': '221113761F', 'full_reference': 'Fu 2022 arXiv 221113761F'}]\n"
     ]
    }
   ],
   "source": [
    "def extract_paper_info_from_ref(input_str):\n",
    "    input_str = input_str.split('href=http', 1)[-1]\n",
    "\n",
    "    author_pattern = r\"target=ref>\\s*([\\w]+)\\s+et al\\.\"\n",
    "    year_pattern = r\"et al\\. (\\d{4})\"\n",
    "    journal_pattern = r\"abs\\/(?:\\d+)?([A-Za-z&%]+)\\.?\"\n",
    "    journal_number_pattern = r\"abs\\/\\d*[A-Za-z&%]+\\.?(\\S+?)\\/\"\n",
    "\n",
    "    author_match = re.search(author_pattern, input_str)\n",
    "    year_match = re.search(year_pattern, input_str)\n",
    "    journal_match = re.search(journal_pattern, input_str)\n",
    "    journal_number_match = re.search(journal_number_pattern, input_str)\n",
    "\n",
    "    author = author_match.group(1) if author_match else \"\"\n",
    "    year = year_match.group(1) if year_match else \"\"\n",
    "    journal = journal_match.group(1) if journal_match else \"\"\n",
    "    journal_number = journal_number_match.group(1) if journal_number_match else \"\"\n",
    "\n",
    "    # Replace \"%26\" with \"&\" for A&A journal\n",
    "    journal = journal.replace(\"%26\", \"&\")\n",
    "\n",
    "    result = {\n",
    "        'author': author,\n",
    "        'year': year,\n",
    "        'journal': journal,\n",
    "        'journal_number': journal_number,\n",
    "        'full_reference': f\"{author} {year} {journal} {journal_number}\".strip()\n",
    "    }\n",
    "\n",
    "    return result\n",
    "\n",
    "test_strs_ref = [\n",
    "    \"<a refstr=WAKEFORD_ET_AL__2013 href=https://ui.adsabs.harvard.edu/abs/2013MNRAS.435.3481W/abstract target=ref> Wakeford et al. 2013</a>\",\n",
    "    \"<a refstr=DRAGOMIR_ET_AL__2015 href=https://ui.adsabs.harvard.edu/abs/2015ApJ...814..102D/abstract target=ref>Dragomir et al. 2015</a>\",\n",
    "    \"<a refstr=KIRK_ET_AL__2018 href=https://ui.adsabs.harvard.edu/abs/2018MNRAS.474..876K/abstract target=ref>Kirk et al. 2018</a>\",\n",
    "    \"<a refstr=SWAIN_ET_AL__2021 href=https://ui.adsabs.harvard.edu/abs/2021arXiv210305657S/abstract target=ref>Swain et al. 2021</a>\",\n",
    "    \"<a refstr=FU_ET_AL__2022 href=https://ui.adsabs.harvard.edu/abs/2022arXiv221113761F/abstract target=ref>Fu et al. 2022</a>\",\n",
    "]\n",
    "\n",
    "test_out = [extract_paper_info_from_ref(t) for t in test_strs_ref]\n",
    "\n",
    "print(test_out)"
   ],
   "metadata": {
    "collapsed": false
   }
  },
  {
   "cell_type": "code",
   "execution_count": 64,
   "outputs": [
    {
     "name": "stdout",
     "output_type": "stream",
     "text": [
      "[False, False, False, False, False, False, False, False, False, False, False]\n"
     ]
    }
   ],
   "source": [
    "def extract_paper_info_from_header(text):\n",
    "    if \"et al.\" not in text:\n",
    "        return False\n",
    "\n",
    "    author_pattern = r\"([A-Za-z\\.\\s]+?)et al\\.\"\n",
    "    year_pattern = r\"(\\d{4})\"\n",
    "    journal_pattern = r\"(ApJ|ApJL|Nature|Natur|Science|arXiv|MNRAS|AJ|A&A|A%26A)(?:(?:\\s*,)|(?=\\d{4}))\"\n",
    "    journal_number_pattern = r\"(?:,\\s*)(\\S*?)(?:\\s*-)\"\n",
    "\n",
    "    author = re.search(author_pattern, text)\n",
    "    year = re.search(year_pattern, text)\n",
    "    journal = re.search(journal_pattern, text)\n",
    "    journal_number = re.search(journal_number_pattern, text)\n",
    "\n",
    "    author = author.group(1) if author else \"\"\n",
    "    year = year.group(1) if year else \"\"\n",
    "    journal = journal.group(1) if journal else \"\"\n",
    "    journal_number = journal_number.group(1) if journal_number else \"\"\n",
    "\n",
    "    full_reference = f\"{author} {year} {journal} {journal_number}\".strip()\n",
    "\n",
    "    return {\n",
    "        'author': author.strip() ,\n",
    "        'year': year,\n",
    "        'journal': journal,\n",
    "        'journal_number': journal_number,\n",
    "        'full_reference': full_reference\n",
    "    }\n",
    "\n",
    "def extract_paper_info_from_header(text):\n",
    "    if \"et al.\" not in text:\n",
    "        return False\n",
    "\n",
    "    author_pattern = r\"([\\w\\s]+(?:\\s+de|\\s+van)?[\\w\\s]+?)(?:,|,)et al\\.\"\n",
    "    year_pattern = r\"(198\\d|199\\d|200\\d|201\\d|202[0-3])\"\n",
    "    journal_pattern = r\"(ApJ|ApJL|Nature|Natur|Science|arXiv|MNRAS|AJ|A&A|A%26A)(?:(?:\\s*,)|(?=\\d{4}))\"\n",
    "    journal_number_pattern = r\"(?:,\\s*)(\\S*?)(?:\\s*-)\"\n",
    "    go_pattern = r\"GO \\d{5}\"\n",
    "\n",
    "    text = re.sub(go_pattern, \"\", text)\n",
    "\n",
    "    author = re.search(author_pattern, text)\n",
    "    year = re.search(year_pattern, text)\n",
    "    journal = re.search(journal_pattern, text)\n",
    "    journal_number = re.search(journal_number_pattern, text)\n",
    "\n",
    "    author = author.group(1).strip() if author else \"\"\n",
    "    year = year.group(1) if year else \"\"\n",
    "    journal = journal.group(1) if journal else \"\"\n",
    "    journal_number = journal_number.group(1) if journal_number else \"\"\n",
    "\n",
    "    if not author:\n",
    "        return False\n",
    "\n",
    "    full_reference = f\"{author} {year} {journal} {journal_number}\".strip()\n",
    "\n",
    "    return {\n",
    "        'author': author,\n",
    "        'year': year,\n",
    "        'journal': journal,\n",
    "        'journal_number': journal_number,\n",
    "        'full_reference': full_reference\n",
    "    }\n",
    "\n",
    "test_strs_header = [\n",
    "    \"# VLT FORS blue - Table 3 - Bean et al. 2011, ApJ, 743\",\n",
    "    \"# values in this analysis were taken from Bean et al., 2010, Nature, 468\",\n",
    "    \"# WFC3 G141 - GO 13021 - Kreidberg, et al., 2014, Nature - DOI:10.1038/nature12888\",\n",
    "    \"# WFC3 G141 - GO 12251 - Berta, et al., 2012, ApJ, 747, 1, 35\",\n",
    "    \"# Berta et al. (2012) Table 2\",\n",
    "    \"# WFC3 UVIS G280 - GO 15288 - Wakeford et al. 2020, AJ\",\n",
    "    \"# WFC3 G141 - GO 14873 - de Wit, Wakeford, Lewis, et al. 2018, Nature Astronomy\",\n",
    "    \"# Converted by H.R. Wakeford from: de Wit, Wakeford, Lewis, et al. 2018, Nature Astronomy\",\n",
    "    \"# STIS G430L - GO 12473 - Sing et al. 2013, MNRAS\",\n",
    "    \"# Re-presented in Sing et al. 2016, Nature\",\n",
    "    \"# WFC3 G141 - GO 14468 - Evans et al. 2016, ApJL\"\n",
    "]\n",
    "\n",
    "test_out = [extract_paper_info_from_header(t) for t in test_strs_header]\n",
    "\n",
    "print(test_out)\n"
   ],
   "metadata": {
    "collapsed": false
   }
  },
  {
   "cell_type": "code",
   "execution_count": null,
   "outputs": [],
   "source": [
    "{'first_author': None, 'full_author': None, 'year': None, 'journal': None, 'journal_number': None, 'doi': None, 'full_reference': None}"
   ],
   "metadata": {
    "collapsed": false
   }
  }
 ],
 "metadata": {
  "kernelspec": {
   "display_name": "Python 3",
   "language": "python",
   "name": "python3"
  },
  "language_info": {
   "codemirror_mode": {
    "name": "ipython",
    "version": 2
   },
   "file_extension": ".py",
   "mimetype": "text/x-python",
   "name": "python",
   "nbconvert_exporter": "python",
   "pygments_lexer": "ipython2",
   "version": "2.7.6"
  }
 },
 "nbformat": 4,
 "nbformat_minor": 0
}
