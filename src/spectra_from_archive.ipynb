{
 "cells": [
  {
   "cell_type": "markdown",
   "source": [
    "### Extract individual spectra from NASA exoplanet archive"
   ],
   "metadata": {
    "collapsed": false
   }
  },
  {
   "cell_type": "code",
   "execution_count": 207,
   "outputs": [
    {
     "name": "stdout",
     "output_type": "stream",
     "text": [
      "The autoreload extension is already loaded. To reload it, use:\n",
      "  %reload_ext autoreload\n"
     ]
    }
   ],
   "source": [
    "import numpy as np\n",
    "import pandas as pd\n",
    "from pandas.errors import ParserWarning\n",
    "pd.set_option('display.max_columns', 8)\n",
    "pd.set_option('display.width', 1000)\n",
    "\n",
    "import re\n",
    "from pathlib import Path\n",
    "import warnings\n",
    "from typing import List, Dict\n",
    "\n",
    "from astroquery import mast\n",
    "from astroquery.mast import Observations\n",
    "from astropy.time import Time, TimeJD\n",
    "\n",
    "import matplotlib.pyplot as plt\n",
    "from matplotlib.colors import ListedColormap\n",
    "%matplotlib inline\n",
    "plt.rcParams['figure.figsize'] = [7, 7]\n",
    "plt.rcParams['figure.dpi'] = 300\n",
    "\n",
    "# Autoreload extension\n",
    "if 'autoreload' not in get_ipython().extension_manager.loaded:\n",
    "    %load_ext autoreload\n",
    "\n",
    "%autoreload 2"
   ],
   "metadata": {
    "collapsed": false
   }
  },
  {
   "cell_type": "code",
   "execution_count": 208,
   "outputs": [],
   "source": [
    "# local setup\n",
    "WDIR = Path().cwd().parent\n",
    "\n",
    "EMISSION_DATABASE_PATH = WDIR / \"data/emissionspec.csv\"\n",
    "TRANSMISSION_DATABASE_PATH = WDIR / \"data/transitspec.csv\""
   ],
   "metadata": {
    "collapsed": false
   }
  },
  {
   "cell_type": "code",
   "execution_count": 209,
   "outputs": [],
   "source": [
    "# date in converters\n",
    "jd_converter = lambda bjd_time:Time(bjd_time, format=\"jd\")"
   ],
   "metadata": {
    "collapsed": false
   }
  },
  {
   "cell_type": "code",
   "execution_count": 214,
   "outputs": [],
   "source": [
    "# load data of all planets with transmission or emission data from exoplanet archive\n",
    "\n",
    "df_emission = pd.read_csv(EMISSION_DATABASE_PATH, header=18, index_col=0)\n",
    "\n",
    "df_transmission = pd.read_csv(TRANSMISSION_DATABASE_PATH,\n",
    "                              header=26, index_col=0,\n",
    "                              # converters={\n",
    "                              #     \"plntranmid\": jd_converter,\n",
    "                              # },\n",
    "                              dtype={\n",
    "                                  \"plntranmid\": str,\n",
    "                              }\n",
    "                              )\n",
    "\n",
    "plntranmid = df_transmission[\"plntranmid\"].dropna(axis=\"index\")\n",
    "\n",
    "plntranmid_jd_time = pd.DataFrame(data=Time(plntranmid.to_numpy().astype(float),\n",
    "                                            format=\"jd\"),\n",
    "                                  index=plntranmid.index,\n",
    "                                  columns=[\"plntranmid_jd_time\"])\n",
    "plntranmid_jd_time[\"plntranmid_mjd_time\"] = [t.mjd for t in plntranmid_jd_time[\"plntranmid_jd_time\"]]\n",
    "\n",
    "df_transmission = df_transmission.join(plntranmid_jd_time, how=\"left\")"
   ],
   "metadata": {
    "collapsed": false
   }
  },
  {
   "cell_type": "code",
   "execution_count": 214,
   "outputs": [],
   "source": [],
   "metadata": {
    "collapsed": false
   }
  },
  {
   "cell_type": "code",
   "execution_count": 214,
   "outputs": [],
   "source": [],
   "metadata": {
    "collapsed": false
   }
  },
  {
   "cell_type": "code",
   "execution_count": 215,
   "outputs": [
    {
     "name": "stdout",
     "output_type": "stream",
     "text": [
      "dataproduct_type calib_level obs_collection ... intentType  obsid     objID  \n",
      "---------------- ----------- -------------- ... ---------- -------- ---------\n",
      "        spectrum           3            HST ...    science 26100738 139158454\n",
      "        spectrum           3            HST ...    science 26100778 139201157\n",
      "        spectrum           3            HST ...    science 24964667 153323622\n",
      "        spectrum           3            HST ...    science 24964679 153323633\n",
      "        spectrum           3            HST ...    science 24964645 153325026\n",
      "        spectrum           3            HST ...    science 24964655 153325169\n",
      "        spectrum           3            HST ...    science 24964621 153325334\n",
      "        spectrum           3            HST ...    science 24964633 153325662\n",
      "        spectrum           3            HST ...    science 24964599 153325909\n",
      "        spectrum           3            HST ...    science 24964609 153326353\n",
      "             ...         ...            ... ...        ...      ...       ...\n",
      "        spectrum           3            HST ...    science 24964463 153685408\n",
      "        spectrum           3            HST ...    science 24964625 153685824\n",
      "        spectrum           3            HST ...    science 24964467 153685826\n",
      "        spectrum           3            HST ...    science 24964659 153688738\n",
      "        spectrum           3            HST ...    science 24964619 153688739\n",
      "        spectrum           3            HST ...    science 24964559 153688747\n",
      "        spectrum           3            HST ...    science 24964623 153688753\n",
      "        spectrum           3            HST ...    science 24964503 153688755\n",
      "        spectrum           3            HST ...    science 24964518 153688788\n",
      "        spectrum           3            HST ...    science 24964616 153688789\n",
      "        spectrum           3            HST ...    science 24964534 153691010\n",
      "Length = 238 rows\n",
      "['dataproduct_type', 'calib_level', 'obs_collection', 'obs_id', 'target_name', 's_ra', 's_dec', 't_min', 't_max', 't_exptime', 'wavelength_region', 'filters', 'em_min', 'em_max', 'target_classification', 'obs_title', 't_obs_release', 'instrument_name', 'proposal_pi', 'proposal_id', 'proposal_type', 'project', 'sequence_number', 'provenance_name', 's_region', 'jpegURL', 'dataURL', 'dataRights', 'mtFlag', 'srcDen', 'intentType', 'obsid', 'objID']\n",
      " obsID   obs_collection dataproduct_type ... parent_obsid dataRights calib_level\n",
      "-------- -------------- ---------------- ... ------------ ---------- -----------\n",
      "26100738            HST         spectrum ...     26100738     PUBLIC           2\n",
      "26100738            HST         spectrum ...     26100738     PUBLIC           1\n",
      "26100738            HST         spectrum ...     26100738     PUBLIC           1\n",
      "26100738            HST         spectrum ...     26100738     PUBLIC           1\n",
      "26100738            HST         spectrum ...     26100738     PUBLIC           1\n",
      "26100738            HST         spectrum ...     26100738     PUBLIC           3\n",
      "26100738            HST         spectrum ...     26100738     PUBLIC           1\n",
      "26100738            HST         spectrum ...     26100738     PUBLIC           3\n",
      "26100738            HST         spectrum ...     26100738     PUBLIC           3\n",
      "23884277            HST         spectrum ...     26100738     PUBLIC           2\n",
      "     ...            ...              ... ...          ...        ...         ...\n",
      "23884461            HST         spectrum ...     26100778     PUBLIC           2\n",
      "23884461            HST         spectrum ...     26100778     PUBLIC           1\n",
      "23884462            HST         spectrum ...     26100778     PUBLIC           2\n",
      "23884462            HST         spectrum ...     26100778     PUBLIC           2\n",
      "23884462            HST         spectrum ...     26100778     PUBLIC           1\n",
      "23884462            HST         spectrum ...     26100778     PUBLIC           1\n",
      "23884462            HST         spectrum ...     26100778     PUBLIC           1\n",
      "23884462            HST         spectrum ...     26100778     PUBLIC           1\n",
      "23884462            HST         spectrum ...     26100778     PUBLIC           2\n",
      "23884462            HST         spectrum ...     26100778     PUBLIC           2\n",
      "23884462            HST         spectrum ...     26100778     PUBLIC           1\n",
      "Length = 1683 rows\n",
      "['obsID', 'obs_collection', 'dataproduct_type', 'obs_id', 'description', 'type', 'dataURI', 'productType', 'productGroupDescription', 'productSubGroupDescription', 'productDocumentationURL', 'project', 'prvversion', 'proposal_id', 'productFilename', 'size', 'parent_obsid', 'dataRights', 'calib_level']\n"
     ]
    }
   ],
   "source": [
    "obs_table = Observations.query_criteria(dataproduct_type=\"SPECTRUM\",\n",
    "                                        proposal_id=12473,\n",
    "                                        proposal_pi=\"Sing*\",\n",
    "                                        intentType=\"science\",\n",
    "                                        # instrument_name=None,\n",
    "                                        # target_name=None,\n",
    "                                        # t_max=None,\n",
    "                                        # t_min=None,\n",
    "                                        )\n",
    "\n",
    "\n",
    "print(obs_table)\n",
    "# print(obs_table.info)\n",
    "print(obs_table.colnames)\n",
    "\n",
    "data_products_by_obs = Observations.get_product_list(obs_table[0:2])\n",
    "\n",
    "print(data_products_by_obs)\n",
    "print(data_products_by_obs.colnames)"
   ],
   "metadata": {
    "collapsed": false
   }
  },
  {
   "cell_type": "code",
   "execution_count": 216,
   "outputs": [
    {
     "name": "stdout",
     "output_type": "stream",
     "text": [
      "Index(['plntname', 'centralwavelng', 'bandwidth', 'plntransdep', 'plntransdeperr1', 'plntransdeperr2', 'plntransdeplim', 'plnradj', 'plnradjerr1', 'plnradjerr2', 'plnradjlim', 'plnratror', 'plnratrorerr1', 'plnratrorerr2', 'plnratrorlim', 'plntranmid', 'plntranmiderr1', 'plntranmiderr2', 'plntranmidlim', 'plntranreflink', 'facility', 'instrument', 'plntranmid_jd_time', 'plntranmid_mjd_time'], dtype='object')\n",
      "\n",
      "Index(['plntname', 'centralwavelng', 'bandwidth', 'especlipdep', 'especlipdeperr1', 'especlipdeperr2', 'especlipdeplim', 'espbritemp', 'espbritemperr1', 'espbritemperr2', 'espbritemplim', 'plntreflink', 'facility', 'instrument'], dtype='object')\n"
     ]
    }
   ],
   "source": [
    "print(df_transmission.columns)\n",
    "print()\n",
    "print(df_emission.columns)\n",
    "\n",
    "def rename_columns(df: pd.DataFrame) -> pd.DataFrame:\n",
    "    column_mapping = {\n",
    "        'plntname': 'Planet Name',\n",
    "        'centralwavelng': 'Central Wavelength [microns]',\n",
    "        'bandwidth': 'Band Width [microns]',\n",
    "        'plntransdep': 'Transit Depth [percentage]',\n",
    "        'plntransdeperr1': 'Transit Depth Upper Unc. [percentage]',\n",
    "        'plntransdeperr2': 'Transit Depth Lower Unc. [percentage]',\n",
    "        'plntransdeplim': 'Transit Depth Limit Flag',\n",
    "        'plnradj': 'Planet Radius [Jupiter radii]',\n",
    "        'plnradjerr1': 'Planet Radius Upper Unc. [Jupiter radii]',\n",
    "        'plnradjerr2': 'Planet Radius Lower Unc. [Jupiter radii]',\n",
    "        'plnradjlim': 'Planet Radius Limit Flag',\n",
    "        'plnratror': 'Ratio of Planet to Stellar Radius',\n",
    "        'plnratrorerr1': 'Ratio of Planet to Stellar Radius Upper Unc.',\n",
    "        'plnratrorerr2': 'Ratio of Planet to Stellar Radius Lower Unc.',\n",
    "        'plnratrorlim': 'Ratio of Planet to Stellar Radius Limit Flag',\n",
    "        'plntranmid': 'Transit Mid-Point [BJD]',\n",
    "        'plntranmiderr1': 'Transit Mid-Point Upper Unc. [BJD]',\n",
    "        'plntranmiderr2': 'Transit Mid-Point Lower Unc. [BJD]',\n",
    "        'plntranmidlim': 'Transit Mid-Point Limit Flag',\n",
    "        'plntranreflink': 'Reference',\n",
    "        'facility': 'Facility',\n",
    "        'instrument': 'Instrument'\n",
    "    }\n",
    "\n",
    "    # Rename the columns using the column_mapping\n",
    "    renamed_df = df.rename(columns=column_mapping)\n",
    "\n",
    "    return renamed_df"
   ],
   "metadata": {
    "collapsed": false
   }
  },
  {
   "cell_type": "code",
   "execution_count": 217,
   "outputs": [
    {
     "name": "stdout",
     "output_type": "stream",
     "text": [
      "{'planet_name': '55 Cnc e', 'facility': 'Hubble Space Telescope satellite', 'instrument': 'Wide Field Camera 3', 'reflink': '<a refstr=TSIARAS_ET_AL__2016 href=https://ui.adsabs.harvard.edu/abs/2016ApJ...820...99T/abstract target=ref>Tsiaras et al. 2016</a>', 'data':        plntname  centralwavelng  bandwidth  plntransdep  ...                          facility           instrument  plntranmid_jd_time  plntranmid_mjd_time\n",
      "rowid                                                    ...                                                                                                \n",
      "1639   55 Cnc e          1.1320     0.0174       0.0358  ...  Hubble Space Telescope satellite  Wide Field Camera 3                 NaN                  NaN\n",
      "1640   55 Cnc e          1.1495     0.0177       0.0361  ...  Hubble Space Telescope satellite  Wide Field Camera 3                 NaN                  NaN\n",
      "1641   55 Cnc e          1.1674     0.0180       0.0337  ...  Hubble Space Telescope satellite  Wide Field Camera 3                 NaN                  NaN\n",
      "1642   55 Cnc e          1.1855     0.0182       0.0352  ...  Hubble Space Telescope satellite  Wide Field Camera 3                 NaN                  NaN\n",
      "1643   55 Cnc e          1.2039     0.0185       0.0329  ...  Hubble Space Telescope satellite  Wide Field Camera 3                 NaN                  NaN\n",
      "1644   55 Cnc e          1.2225     0.0188       0.0326  ...  Hubble Space Telescope satellite  Wide Field Camera 3                 NaN                  NaN\n",
      "1645   55 Cnc e          1.2415     0.0191       0.0302  ...  Hubble Space Telescope satellite  Wide Field Camera 3                 NaN                  NaN\n",
      "1646   55 Cnc e          1.2607     0.0194       0.0338  ...  Hubble Space Telescope satellite  Wide Field Camera 3                 NaN                  NaN\n",
      "1647   55 Cnc e          1.2803     0.0197       0.0333  ...  Hubble Space Telescope satellite  Wide Field Camera 3                 NaN                  NaN\n",
      "1648   55 Cnc e          1.3001     0.0200       0.0328  ...  Hubble Space Telescope satellite  Wide Field Camera 3                 NaN                  NaN\n",
      "1649   55 Cnc e          1.3203     0.0203       0.0351  ...  Hubble Space Telescope satellite  Wide Field Camera 3                 NaN                  NaN\n",
      "1650   55 Cnc e          1.3407     0.0207       0.0348  ...  Hubble Space Telescope satellite  Wide Field Camera 3                 NaN                  NaN\n",
      "1651   55 Cnc e          1.3615     0.0209       0.0327  ...  Hubble Space Telescope satellite  Wide Field Camera 3                 NaN                  NaN\n",
      "1652   55 Cnc e          1.3827     0.0213       0.0338  ...  Hubble Space Telescope satellite  Wide Field Camera 3                 NaN                  NaN\n",
      "1653   55 Cnc e          1.4041     0.0216       0.0363  ...  Hubble Space Telescope satellite  Wide Field Camera 3                 NaN                  NaN\n",
      "1654   55 Cnc e          1.4258     0.0219       0.0391  ...  Hubble Space Telescope satellite  Wide Field Camera 3                 NaN                  NaN\n",
      "1655   55 Cnc e          1.4480     0.0223       0.0365  ...  Hubble Space Telescope satellite  Wide Field Camera 3                 NaN                  NaN\n",
      "1656   55 Cnc e          1.4704     0.0226       0.0348  ...  Hubble Space Telescope satellite  Wide Field Camera 3                 NaN                  NaN\n",
      "1657   55 Cnc e          1.4932     0.0230       0.0394  ...  Hubble Space Telescope satellite  Wide Field Camera 3                 NaN                  NaN\n",
      "1658   55 Cnc e          1.5164     0.0233       0.0378  ...  Hubble Space Telescope satellite  Wide Field Camera 3                 NaN                  NaN\n",
      "1659   55 Cnc e          1.5398     0.0237       0.0405  ...  Hubble Space Telescope satellite  Wide Field Camera 3                 NaN                  NaN\n",
      "1660   55 Cnc e          1.5638     0.0241       0.0388  ...  Hubble Space Telescope satellite  Wide Field Camera 3                 NaN                  NaN\n",
      "1661   55 Cnc e          1.5880     0.0244       0.0402  ...  Hubble Space Telescope satellite  Wide Field Camera 3                 NaN                  NaN\n",
      "1662   55 Cnc e          1.6126     0.0248       0.0388  ...  Hubble Space Telescope satellite  Wide Field Camera 3                 NaN                  NaN\n",
      "1663   55 Cnc e          1.6376     0.0252       0.0404  ...  Hubble Space Telescope satellite  Wide Field Camera 3                 NaN                  NaN\n",
      "\n",
      "[25 rows x 24 columns], 'source': 'Tsiaras+2016', 'author': 'Tsiaras', 'year': 2016}\n",
      "346\n"
     ]
    }
   ],
   "source": [
    "def add_source_key(data_dict: Dict) -> Dict:\n",
    "    # Extract the plntranreflink value\n",
    "    reflink = data_dict.get('reflink', '')\n",
    "\n",
    "    # Search for the 'authoryear' pattern using a regular expression\n",
    "    pattern = re.compile(r'>(.+? et al\\. \\d{4})</a>|>(.+? \\d{4})</a>')\n",
    "    match = pattern.search(reflink)\n",
    "\n",
    "    author_pattern = re.compile(r'\\+\\d{4}$')\n",
    "    year_pattern = re.compile(r'\\d{4}')\n",
    "\n",
    "    if match:\n",
    "        authoryear = match.group(1) if match.group(1) else match.group(2)\n",
    "        if 'et al.' in authoryear:\n",
    "            authoryear = authoryear.replace(' et al. ', '+')\n",
    "\n",
    "        # Add the 'source' key with the extracted authoryear value\n",
    "        data_dict['source'] = authoryear.strip()\n",
    "        data_dict['author'] = re.sub(author_pattern, '',  data_dict['source'])\n",
    "        year_match = re.search(year_pattern, data_dict['source'])\n",
    "        data_dict['year'] = int(year_match.group(0)) if match else None\n",
    "    else:\n",
    "        data_dict['source'] = None\n",
    "        data_dict['author'] = None\n",
    "        data_dict['year'] = None\n",
    "\n",
    "    return data_dict\n",
    "\n",
    "def extract_data(df: pd.DataFrame) -> List[Dict]:\n",
    "    # Group the DataFrame by unique combinations of planet_name, instrument, facility, and reflink\n",
    "    grouped = df.groupby(['plntname', 'facility', 'instrument', 'plntranreflink'])\n",
    "\n",
    "    result = []\n",
    "\n",
    "    for (planet_name, facility, instrument, reflink), group in grouped:\n",
    "        # Convert each group to a dictionary\n",
    "        entry = {\n",
    "            'planet_name': planet_name,\n",
    "            'facility': facility,\n",
    "            'instrument': instrument,\n",
    "            'reflink': reflink,\n",
    "            'data': group\n",
    "        }\n",
    "\n",
    "        # Add the entry to the result list\n",
    "\n",
    "        entry = add_source_key(entry)\n",
    "\n",
    "        result.append(entry)\n",
    "\n",
    "    return result\n",
    "\n",
    "split_transmission = extract_data(df_transmission)\n",
    "# print(split_transmission[0])\n",
    "print(split_transmission[0])\n",
    "\n",
    "print(len(split_transmission))"
   ],
   "metadata": {
    "collapsed": false
   }
  },
  {
   "cell_type": "code",
   "execution_count": 218,
   "outputs": [
    {
     "name": "stdout",
     "output_type": "stream",
     "text": [
      "[WindowsPath('C:/Users/lukas/Documents/git/compla/data/transmission/GJ1214b_transmission_Bean2011.txt'), WindowsPath('C:/Users/lukas/Documents/git/compla/data/transmission/GJ1214b_transmission_Berta2012.txt'), WindowsPath('C:/Users/lukas/Documents/git/compla/data/transmission/GJ1214b_transmission_Kreidberg2014.txt'), WindowsPath('C:/Users/lukas/Documents/git/compla/data/transmission/GJ3470b_transmission_Benneke2019.txt'), WindowsPath('C:/Users/lukas/Documents/git/compla/data/transmission/GJ436b_transmission_Knutson2014.txt')]\n",
      "[{'header': ['# GJ1214b transmission spectrum', '# This file contains:', '# VLT FORS blue - Table 3 - Bean et al. 2011, ApJ, 743', '# VLT FORS red - Table 4 - Bean et al., 2011, ApJ, 743', '#', '# Analysis details:', '# values in this analysis were taken from Bean et al., 2010, Nature, 468', '# Period = 1.58040481 Â± 1.2E-7d days', '# Inclination = 88.94 degrees', '# a/R* = 14.9749', '#', '# Data history:', '# Converted by H.R. Wakeford from: Bean et al. (2011) into units of transit depth', '# ----------------------------------------------------------------------------------------', '# Wavelength (microns)  Delta Wavelength (microns)  (Rp/Rs)^2   (Rp/Rs)^2 +/-uncertainty', '# ----------------------------------------------------------------------------------------'], 'filename': 'GJ1214b_transmission_Bean2011.txt', 'path': WindowsPath('C:/Users/lukas/Documents/git/compla/data/transmission/GJ1214b_transmission_Bean2011.txt')}, {'header': ['# GJ 1214b transmission spectrum', '# This file contains:', '# WFC3 G141 - GO 12251 - Berta, et al., 2012, ApJ, 747, 1, 35', '#', '# Analysis details:', '# Berta et al. (2012) Table 2', '# Period = 1.58040481 days', '# Inclination = 89.3 degrees', '# a/R* = 15.3', '#', '# Data history:', '# Converted by H.R. Wakeford from: Berta, et al., 2012, ApJ', '# ----------------------------------------------------------------------------------------', '# Wavelength (microns)  Delta Wavelength (microns)  (Rp/Rs)^2   (Rp/Rs)^2 +/-uncertainty', '# ----------------------------------------------------------------------------------------'], 'filename': 'GJ1214b_transmission_Berta2012.txt', 'path': WindowsPath('C:/Users/lukas/Documents/git/compla/data/transmission/GJ1214b_transmission_Berta2012.txt')}, {'header': ['# GJ 1214b transmission spectrum', '# This file contains:', '# WFC3 G141 - GO 13021 - Kreidberg, et al., 2014, Nature - DOI:10.1038/nature12888', '# Spitzer IRAC 3.6 & 4.5 microns - Desert, et al. 2011, ApJ, 731', '#', '# Analysis details:', '# Kreidberg et al. 2014, Nature, Page 1 coulumn 2', '# Period = 1.58040464894 days', '# Inclination = 89.1 degrees', '# a/R* = 15.23', '#', '# Data history:', '# Converted by H.R. Wakeford from: Kreidberg, et al., 2014, Nature', '# ----------------------------------------------------------------------------------------', '# Wavelength (microns)  Delta Wavelength (microns)  (Rp/Rs)^2   (Rp/Rs)^2 +/-uncertainty', '# ----------------------------------------------------------------------------------------'], 'filename': 'GJ1214b_transmission_Kreidberg2014.txt', 'path': WindowsPath('C:/Users/lukas/Documents/git/compla/data/transmission/GJ1214b_transmission_Kreidberg2014.txt')}, {'header': ['# GJ 3470b transmission spectrum', '# This file contains:', '# HST STIS G750L - GO 13665 - Benneke et al. 2019, Nature', '# HST WFC3 G141 - GO 13665 - Benneke et al. 2019, Nature', '# Spitzer 3.6, 4.5 - 10054 (Knutson, Desert) - Benneke et al. 2019, Nature', '# Data history:', '# Converted by H.R. Wakeford from: Benneke et al. 2019, Nature', '# ----------------------------------------------------------------------------------------', '# Wavelength (microns)  Delta Wavelength (microns)  (Rp/Rs)^2   (Rp/Rs)^2 +/-uncertainty', '# ----------------------------------------------------------------------------------------'], 'filename': 'GJ3470b_transmission_Benneke2019.txt', 'path': WindowsPath('C:/Users/lukas/Documents/git/compla/data/transmission/GJ3470b_transmission_Benneke2019.txt')}, {'header': ['# GJ 436b transmission spectrum', '# This file contains:', '# WFC3 G141 - GO 11622 - Knutson, et al., 2014, Nature', '#', '# Analysis details:', '# Knutson, et al., 2014, Nature - DOI:10.1038/nature12887', '# Period = 2.64389782 days', '# Inclination = 86.774 degrees', '# a/R* = 14.41', '#', '# Data history:', '# Converted by H.R. Wakeford from: Knutson, et al., 2014, Nature', '# from Extended Data Table 1 of the Averaged differential transit depths', '# --------------------------------------------------------------------------', '# Wavelength (microns)  Delta Wavelength (microns)  (Rp/Rs)^2   (Rp/Rs)^2 +/-uncertainty', '# ---------------------------------------------------------------------------'], 'filename': 'GJ436b_transmission_Knutson2014.txt', 'path': WindowsPath('C:/Users/lukas/Documents/git/compla/data/transmission/GJ436b_transmission_Knutson2014.txt')}]\n"
     ]
    }
   ],
   "source": [
    "TRANSMISSION_SPECTRA_PATH = WDIR / \"data/transmission\"\n",
    "exts = [\".txt\"]\n",
    "\n",
    "def get_txt_spectra_files_in_path(path, ):\n",
    "    paths = list([\n",
    "        p for p in Path(path).glob('*') if (p.suffix in exts and p.is_file())\n",
    "    ])\n",
    "    return paths\n",
    "\n",
    "def read_headers(file_paths: List[str]) -> List[Dict]:\n",
    "    headers = []\n",
    "\n",
    "    for file_path in file_paths:\n",
    "        # Read the header lines from the file\n",
    "        with open(file_path, 'r') as file:\n",
    "            header_lines = [line.strip() for line in file.readlines() if line.startswith('#')]\n",
    "\n",
    "        # Create a dictionary with the header lines and filename\n",
    "        header_dict = {\n",
    "            'header': header_lines,\n",
    "            'filename': file_path.name,\n",
    "            'path': file_path\n",
    "        }\n",
    "\n",
    "        # Append the dictionary to the headers list\n",
    "        headers.append(header_dict)\n",
    "\n",
    "    return headers\n",
    "\n",
    "transmission_spectra_files = get_txt_spectra_files_in_path(TRANSMISSION_SPECTRA_PATH)\n",
    "test = transmission_spectra_files[0:5]\n",
    "print(test)\n",
    "\n",
    "transmission_spectra_files_info = read_headers(test)\n",
    "\n",
    "print(transmission_spectra_files_info)\n"
   ],
   "metadata": {
    "collapsed": false
   }
  },
  {
   "cell_type": "code",
   "execution_count": 219,
   "outputs": [
    {
     "name": "stdout",
     "output_type": "stream",
     "text": [
      "Number of unique planets with transmission spectra: 103.\n",
      "\tMedian count: 2.0, mean count: 2.0 +/- 3.8, max count: 21 (GJ 1214 b).\n"
     ]
    }
   ],
   "source": [
    "def get_unique_planet_names(df: pd.DataFrame) -> List[str]:\n",
    "    unique_planet_names = df['plntname'].unique().tolist()\n",
    "    return unique_planet_names\n",
    "\n",
    "# all_planets = get_unique_planet_names(df_transmission)\n",
    "\n",
    "def unique_planets_and_counts(dict_list: List[Dict]) -> (List[str], List[float]):\n",
    "    planet_counts = {}\n",
    "\n",
    "    for item in dict_list:\n",
    "        planet_name = item['planet_name']\n",
    "        if planet_name in planet_counts:\n",
    "            planet_counts[planet_name] += 1\n",
    "        else:\n",
    "            planet_counts[planet_name] = 1\n",
    "\n",
    "    unique_planet_names = list(planet_counts.keys())\n",
    "    counts = list(planet_counts.values())\n",
    "\n",
    "    return unique_planet_names, counts\n",
    "\n",
    "# TODO: write regex that checks for number of star systems: all non-special characters must be equal except for the letter at the last position.\n",
    "\n",
    "all_planets, counts =unique_planets_and_counts(split_transmission)\n",
    "\n",
    "print(f\"Number of unique planets with transmission spectra: {len(all_planets)}.\\n\"\n",
    "      f\"\\tMedian count: {np.median(counts)}, mean count: {np.median(counts):.1f} +/- {np.std(counts):.1f}, max count: {np.max(counts)} ({all_planets[np.argmax(counts)]}).\")\n"
   ],
   "metadata": {
    "collapsed": false
   }
  },
  {
   "cell_type": "code",
   "execution_count": 220,
   "outputs": [
    {
     "name": "stderr",
     "output_type": "stream",
     "text": [
      "C:\\Users\\lukas\\AppData\\Local\\Temp\\ipykernel_19724\\512398153.py:13: MatplotlibDeprecationWarning: The get_cmap function was deprecated in Matplotlib 3.7 and will be removed two minor releases later. Use ``matplotlib.colormaps[name]`` or ``matplotlib.colormaps.get_cmap(obj)`` instead.\n",
      "  cmap = plt.cm.get_cmap('viridis', len(name_list))\n",
      "C:\\Users\\lukas\\miniconda3\\envs\\compla\\lib\\site-packages\\matplotlib\\axes\\_axes.py:1105: RuntimeWarning: All-NaN axis encountered\n",
      "  miny = np.nanmin(masked_verts[..., 1])\n",
      "C:\\Users\\lukas\\miniconda3\\envs\\compla\\lib\\site-packages\\matplotlib\\axes\\_axes.py:1106: RuntimeWarning: All-NaN axis encountered\n",
      "  maxy = np.nanmax(masked_verts[..., 1])\n",
      "C:\\Users\\lukas\\miniconda3\\envs\\compla\\lib\\site-packages\\matplotlib\\axes\\_axes.py:1185: RuntimeWarning: All-NaN axis encountered\n",
      "  miny = np.nanmin(masked_verts[..., 1])\n",
      "C:\\Users\\lukas\\miniconda3\\envs\\compla\\lib\\site-packages\\matplotlib\\axes\\_axes.py:1186: RuntimeWarning: All-NaN axis encountered\n",
      "  maxy = np.nanmax(masked_verts[..., 1])\n",
      "C:\\Users\\lukas\\miniconda3\\envs\\compla\\lib\\site-packages\\matplotlib\\axes\\_axes.py:1103: RuntimeWarning: All-NaN axis encountered\n",
      "  minx = np.nanmin(masked_verts[..., 0])\n",
      "C:\\Users\\lukas\\miniconda3\\envs\\compla\\lib\\site-packages\\matplotlib\\axes\\_axes.py:1104: RuntimeWarning: All-NaN axis encountered\n",
      "  maxx = np.nanmax(masked_verts[..., 0])\n"
     ]
    },
    {
     "data": {
      "text/plain": "<Figure size 2100x2100 with 1 Axes>",
      "image/png": "[encoded data removed]"
     },
     "metadata": {},
     "output_type": "display_data"
    }
   ],
   "source": [
    "def get_color_for_name(name, name_list=all_planets):\n",
    "    \"\"\"\n",
    "    Returns a unique Matplotlib color from the Viridis palette for the given name string.\n",
    "\n",
    "    Parameters:\n",
    "    name (str): the name string for which to generate a unique color.\n",
    "    name_list (list): a list of unique name strings.\n",
    "\n",
    "    Returns:\n",
    "    color (str): a unique Matplotlib color from the Viridis palette.\n",
    "    \"\"\"\n",
    "    # Generate a colormap with the same number of colors as the number of unique names.\n",
    "    cmap = plt.cm.get_cmap('viridis', len(name_list))\n",
    "    # Get the index of the given name in the list of unique names.\n",
    "    index = name_list.index(name)\n",
    "    # Get the corresponding color from the colormap.\n",
    "    color = cmap(index)\n",
    "    return color\n",
    "\n",
    "def add_spec_to_ax(ax, spec_dict, **kwargs):\n",
    "    df = spec_dict[\"data\"]\n",
    "    color = get_color_for_name(spec_dict[\"planet_name\"])\n",
    "\n",
    "    try:\n",
    "        # print(df[['centralwavelng', 'bandwidth', \"plntransdep\", 'plntransdeperr1', 'plntransdeperr2']])\n",
    "        xerr = [0.5 * df['bandwidth'],\n",
    "                0.5 * df['bandwidth']]\n",
    "        ax.errorbar(data=df,\n",
    "                    x=\"centralwavelng\", y=\"plntransdep\",\n",
    "                    yerr=np.abs([df['plntransdeperr1'], df['plntransdeperr2']]),\n",
    "                    xerr=xerr,\n",
    "                    fmt='D', color=color)\n",
    "    except ValueError:\n",
    "        try:\n",
    "            ax.scatter(data=df,\n",
    "                x=\"centralwavelng\", y=\"plntransdep\",\n",
    "                markers='D')\n",
    "        except ValueError:\n",
    "            pass\n",
    "\n",
    "\n",
    "    # ax.scatter(data=df,\n",
    "    #            x=\"centralwavelng\", y=\"plntransdep\",\n",
    "    #            )\n",
    "    pass\n",
    "\n",
    "%matplotlib inline\n",
    "fig, ax = plt.subplots()\n",
    "# [print(_spec) for _spec in split_transmission[0:2]] # if _spec[\"plntname\"] == \"GJ 1214 b\"]\n",
    "for spec in [_spec for _spec in split_transmission if _spec[\"planet_name\"] == \"WASP-39 b\"]:\n",
    "    add_spec_to_ax(ax, spec)\n",
    "\n",
    "plt.show()"
   ],
   "metadata": {
    "collapsed": false
   }
  },
  {
   "cell_type": "code",
   "execution_count": 221,
   "outputs": [
    {
     "name": "stdout",
     "output_type": "stream",
     "text": [
      "[{'author': 'Wakeford', 'year': '2013', 'journal': 'MNRAS', 'journal_number': '435.3481W', 'full_reference': 'Wakeford 2013 MNRAS 435.3481W'}, {'author': 'Dragomir', 'year': '2015', 'journal': 'ApJ', 'journal_number': '..814..102D', 'full_reference': 'Dragomir 2015 ApJ ..814..102D'}, {'author': 'Kirk', 'year': '2018', 'journal': 'MNRAS', 'journal_number': '474..876K', 'full_reference': 'Kirk 2018 MNRAS 474..876K'}, {'author': 'Swain', 'year': '2021', 'journal': 'arXiv', 'journal_number': '210305657S', 'full_reference': 'Swain 2021 arXiv 210305657S'}, {'author': 'Fu', 'year': '2022', 'journal': 'arXiv', 'journal_number': '221113761F', 'full_reference': 'Fu 2022 arXiv 221113761F'}]\n"
     ]
    }
   ],
   "source": [
    "def extract_paper_info_from_ref(input_str):\n",
    "    input_str = input_str.split('href=http', 1)[-1]\n",
    "\n",
    "    author_pattern = r\"target=ref>\\s*([\\w]+)\\s+et al\\.\"\n",
    "    year_pattern = r\"et al\\. (\\d{4})\"\n",
    "    journal_pattern = r\"abs\\/(?:\\d+)?([A-Za-z&%]+)\\.?\"\n",
    "    journal_number_pattern = r\"abs\\/\\d*[A-Za-z&%]+\\.?(\\S+?)\\/\"\n",
    "\n",
    "    author_match = re.search(author_pattern, input_str)\n",
    "    year_match = re.search(year_pattern, input_str)\n",
    "    journal_match = re.search(journal_pattern, input_str)\n",
    "    journal_number_match = re.search(journal_number_pattern, input_str)\n",
    "\n",
    "    author = author_match.group(1) if author_match else \"\"\n",
    "    year = year_match.group(1) if year_match else \"\"\n",
    "    journal = journal_match.group(1) if journal_match else \"\"\n",
    "    journal_number = journal_number_match.group(1) if journal_number_match else \"\"\n",
    "\n",
    "    # Replace \"%26\" with \"&\" for A&A journal\n",
    "    journal = journal.replace(\"%26\", \"&\")\n",
    "\n",
    "    result = {\n",
    "        'author': author,\n",
    "        'year': year,\n",
    "        'journal': journal,\n",
    "        'journal_number': journal_number,\n",
    "        'full_reference': f\"{author} {year} {journal} {journal_number}\".strip()\n",
    "    }\n",
    "\n",
    "    return result\n",
    "\n",
    "test_strs_ref = [\n",
    "    \"<a refstr=WAKEFORD_ET_AL__2013 href=https://ui.adsabs.harvard.edu/abs/2013MNRAS.435.3481W/abstract target=ref> Wakeford et al. 2013</a>\",\n",
    "    \"<a refstr=DRAGOMIR_ET_AL__2015 href=https://ui.adsabs.harvard.edu/abs/2015ApJ...814..102D/abstract target=ref>Dragomir et al. 2015</a>\",\n",
    "    \"<a refstr=KIRK_ET_AL__2018 href=https://ui.adsabs.harvard.edu/abs/2018MNRAS.474..876K/abstract target=ref>Kirk et al. 2018</a>\",\n",
    "    \"<a refstr=SWAIN_ET_AL__2021 href=https://ui.adsabs.harvard.edu/abs/2021arXiv210305657S/abstract target=ref>Swain et al. 2021</a>\",\n",
    "    \"<a refstr=FU_ET_AL__2022 href=https://ui.adsabs.harvard.edu/abs/2022arXiv221113761F/abstract target=ref>Fu et al. 2022</a>\",\n",
    "]\n",
    "\n",
    "test_out = [extract_paper_info_from_ref(t) for t in test_strs_ref]\n",
    "\n",
    "print(test_out)"
   ],
   "metadata": {
    "collapsed": false
   }
  },
  {
   "cell_type": "code",
   "execution_count": 222,
   "outputs": [
    {
     "name": "stdout",
     "output_type": "stream",
     "text": [
      "[{'author': 'Bean', 'year': '2011', 'journal': 'ApJ', 'journal_number': '', 'full_reference': 'Bean  2011 ApJ'}, {'author': 'values in this analysis were taken from Bean', 'year': '2010', 'journal': 'Nature', 'journal_number': '', 'full_reference': 'values in this analysis were taken from Bean  2010 Nature'}, {'author': '', 'year': '1302', 'journal': '', 'journal_number': 'Nature', 'full_reference': '1302  Nature'}, {'author': '', 'year': '1225', 'journal': 'ApJ', 'journal_number': '', 'full_reference': '1225 ApJ'}, {'author': 'Berta', 'year': '2012', 'journal': '', 'journal_number': '', 'full_reference': 'Berta  2012'}, {'author': 'Wakeford', 'year': '1528', 'journal': '', 'journal_number': '', 'full_reference': 'Wakeford  1528'}, {'author': '', 'year': '1487', 'journal': '', 'journal_number': '', 'full_reference': '1487'}, {'author': '', 'year': '2018', 'journal': '', 'journal_number': '', 'full_reference': '2018'}, {'author': 'Sing', 'year': '1247', 'journal': '', 'journal_number': '', 'full_reference': 'Sing  1247'}, {'author': 'presented in Sing', 'year': '2016', 'journal': '', 'journal_number': '', 'full_reference': 'presented in Sing  2016'}, {'author': 'Evans', 'year': '1446', 'journal': '', 'journal_number': '', 'full_reference': 'Evans  1446'}]\n"
     ]
    }
   ],
   "source": [
    "def extract_paper_info_from_header(text):\n",
    "    if \"et al.\" not in text:\n",
    "        return False\n",
    "\n",
    "    author_pattern = r\"([A-Za-z\\.\\s]+?)et al\\.\"\n",
    "    year_pattern = r\"(\\d{4})\"\n",
    "    journal_pattern = r\"(ApJ|ApJL|Nature|Natur|Science|arXiv|MNRAS|AJ|A&A|A%26A)(?:(?:\\s*,)|(?=\\d{4}))\"\n",
    "    journal_number_pattern = r\"(?:,\\s*)(\\S*?)(?:\\s*-)\"\n",
    "\n",
    "    author = re.search(author_pattern, text)\n",
    "    year = re.search(year_pattern, text)\n",
    "    journal = re.search(journal_pattern, text)\n",
    "    journal_number = re.search(journal_number_pattern, text)\n",
    "\n",
    "    author = author.group(1) if author else \"\"\n",
    "    year = year.group(1) if year else \"\"\n",
    "    journal = journal.group(1) if journal else \"\"\n",
    "    journal_number = journal_number.group(1) if journal_number else \"\"\n",
    "\n",
    "    full_reference = f\"{author} {year} {journal} {journal_number}\".strip()\n",
    "\n",
    "    return {\n",
    "        'author': author.strip() ,\n",
    "        'year': year,\n",
    "        'journal': journal,\n",
    "        'journal_number': journal_number,\n",
    "        'full_reference': full_reference\n",
    "    }\n",
    "\n",
    "\n",
    "# TODO: still not good, author_pattern does not match author, author not detected sometimes\n",
    "\n",
    "\n",
    "#  difficult to parse, large diversity, maybe instead break down into multiple parsers?\n",
    "# inconsistencies: et al., commas, multiple authors+ et al.???\n",
    "#\n",
    "\n",
    "# def extract_paper_info_from_header(text):\n",
    "#     if \"et al.\" not in text:\n",
    "#         return False\n",
    "#\n",
    "#     author_pattern = r\"([\\w\\s]+(?:\\s+de|\\s+van)?[\\w\\s]+?)(?:,|,)et al\\.\"\n",
    "#     year_pattern = r\"(198\\d|199\\d|200\\d|201\\d|202[0-3])\"\n",
    "#     journal_pattern = r\"(ApJ|ApJL|Nature|Natur|Science|arXiv|MNRAS|AJ|A&A|A%26A)(?:(?:\\s*,)|(?=\\d{4}))\"\n",
    "#     journal_number_pattern = r\"(?:,\\s*)(\\S*?)(?:\\s*-)\"\n",
    "#     go_pattern = r\"GO \\d{5}\"\n",
    "#\n",
    "#     text = re.sub(go_pattern, \"\", text)\n",
    "#\n",
    "#     author = re.search(author_pattern, text)\n",
    "#     year = re.search(year_pattern, text)\n",
    "#     journal = re.search(journal_pattern, text)\n",
    "#     journal_number = re.search(journal_number_pattern, text)\n",
    "#\n",
    "#     author = author.group(1).strip() if author else \"\"\n",
    "#     year = year.group(1) if year else \"\"\n",
    "#     journal = journal.group(1) if journal else \"\"\n",
    "#     journal_number = journal_number.group(1) if journal_number else \"\"\n",
    "#\n",
    "#     if not author:\n",
    "#         return False\n",
    "#\n",
    "#     full_reference = f\"{author} {year} {journal} {journal_number}\".strip()\n",
    "#\n",
    "#     return {\n",
    "#         'author': author,\n",
    "#         'year': year,\n",
    "#         'journal': journal,\n",
    "#         'journal_number': journal_number,\n",
    "#         'full_reference': full_reference\n",
    "#     }\n",
    "\n",
    "test_strs_header = [\n",
    "    \"# VLT FORS blue - Table 3 - Bean et al. 2011, ApJ, 743\",\n",
    "    \"# values in this analysis were taken from Bean et al., 2010, Nature, 468\",\n",
    "    \"# WFC3 G141 - GO 13021 - Kreidberg, et al., 2014, Nature - DOI:10.1038/nature12888\",\n",
    "    \"# WFC3 G141 - GO 12251 - Berta, et al., 2012, ApJ, 747, 1, 35\",\n",
    "    \"# Berta et al. (2012) Table 2\",\n",
    "    \"# WFC3 UVIS G280 - GO 15288 - Wakeford et al. 2020, AJ\",\n",
    "    \"# WFC3 G141 - GO 14873 - de Wit, Wakeford, Lewis, et al. 2018, Nature Astronomy\",\n",
    "    \"# Converted by H.R. Wakeford from: de Wit, Wakeford, Lewis, et al. 2018, Nature Astronomy\",\n",
    "    \"# STIS G430L - GO 12473 - Sing et al. 2013, MNRAS\",\n",
    "    \"# Re-presented in Sing et al. 2016, Nature\",\n",
    "    \"# WFC3 G141 - GO 14468 - Evans et al. 2016, ApJL\"\n",
    "]\n",
    "\n",
    "test_out = [extract_paper_info_from_header(t) for t in test_strs_header]\n",
    "\n",
    "print(test_out)\n"
   ],
   "metadata": {
    "collapsed": false
   }
  },
  {
   "cell_type": "code",
   "execution_count": 223,
   "outputs": [
    {
     "name": "stdout",
     "output_type": "stream",
     "text": [
      "target_name instrument_name     t_max          t_min     \n",
      "----------- --------------- -------------- --------------\n",
      "   HAT-P-12         WFC3/IR    57368.11931    57368.11801\n",
      "   HAT-P-12         WFC3/IR    57368.26162    57368.26032\n",
      "   HAT-P-12         WFC3/IR    57368.13153    57368.13023\n",
      "   HAT-P-12         WFC3/IR    57368.37169    57368.37039\n",
      "   HAT-P-12         WFC3/IR    57368.12949    57368.12819\n",
      "   HAT-P-12         WFC3/IR    57368.17909    57368.17779\n",
      "   HAT-P-12         WFC3/IR    57368.18723    57368.18594\n",
      "   HAT-P-12         WFC3/IR    57368.13279    57368.13227\n",
      "   HAT-P-12         WFC3/IR    57368.24532    57368.24403\n",
      "   HAT-P-12         WFC3/IR    57368.39002    57368.38873\n",
      "        ...             ...            ...            ...\n",
      "   HAT-P-12         WFC3/IR 57631.73914634 57631.73784968\n",
      "   HAT-P-12         WFC3/IR 57631.86751412 57631.86621783\n",
      "   HAT-P-12         WFC3/IR 57631.67291931 57631.67162301\n",
      "   HAT-P-12         WFC3/IR 57631.74499857 57631.74396079\n",
      "   HAT-P-12         WFC3/IR 57631.60104412 57631.59974783\n",
      "   HAT-P-12         WFC3/IR 57631.86344005 57631.86214375\n",
      "   HAT-P-12         WFC3/IR 57631.71470153 57631.71340523\n",
      "   HAT-P-12         WFC3/IR 57631.60715523 57631.60585894\n",
      "   HAT-P-12         WFC3/IR 57631.86955116 57631.86825486\n",
      "   HAT-P-12         WFC3/IR 57631.58259116 57631.58224783\n",
      "   HAT-P-12         WFC3/IR 57631.58259116 57631.58224783\n",
      "Length = 484 rows\n",
      "['dataproduct_type', 'calib_level', 'obs_collection', 'obs_id', 'target_name', 's_ra', 's_dec', 't_min', 't_max', 't_exptime', 'wavelength_region', 'filters', 'em_min', 'em_max', 'target_classification', 'obs_title', 't_obs_release', 'instrument_name', 'proposal_pi', 'proposal_id', 'proposal_type', 'project', 'sequence_number', 'provenance_name', 's_region', 'jpegURL', 'dataURL', 'dataRights', 'mtFlag', 'srcDen', 'intentType', 'obsid', 'objID']\n"
     ]
    }
   ],
   "source": [
    "# get Sing et al. 2016 planets + spectra\n",
    "sing_spectra = [spec for spec in split_transmission if (spec[\"source\"] in [\"Sing+2016\", \"Sing+2015\"] and spec[\"instrument\"] in [\"Space Telescope Imaging Spectrograph\", \"Wide Field Camera 3\"])]\n",
    "\n",
    "# [print(spec[\"source\"], spec[\"planet_name\"], spec[\"instrument\"]) for spec in sing_spectra];\n",
    "\n",
    "obs_table = Observations.query_criteria(dataRights=\"public\",\n",
    "                                        intentType=\"science\",\n",
    "                                        instrument_name=\"WFC3/IR*\",\n",
    "                                        target_name=\"HAT-P-12\",\n",
    "                                        # t_max=None,\n",
    "                                        # t_min=None,\n",
    "                                        )\n",
    "\n",
    "\n",
    "\n",
    "print(obs_table['target_name', 'instrument_name', \"t_max\", \"t_min\"])\n",
    "# print(obs_table.info)\n",
    "print(obs_table.colnames)\n",
    "\n",
    "# data_products_by_obs = Observations.get_product_list(obs_table[0:10])\n",
    "\n",
    "\n",
    "# print(data_products_by_obs['description', 'type'])\n",
    "# print(data_products_by_obs.colnames)\n",
    "\n",
    "# print()\n",
    "#\n",
    "# [print(spec[\"planet_name\"], spec[\"instrument\"], spec[\"source\"]) for spec in split_transmission\n",
    "#  if (spec[\"instrument\"] in [\"Space Telescope Imaging Spectrograph\", \"Wide Field Camera 3\"]\n",
    "#      and spec[\"planet_name\"] in [\"WASP-6 b\", \"WASP-19 b\", \"WASP-31 b\"])];\n"
   ],
   "metadata": {
    "collapsed": false
   }
  },
  {
   "cell_type": "code",
   "execution_count": 311,
   "outputs": [
    {
     "name": "stdout",
     "output_type": "stream",
     "text": [
      "     description       productType   size  \n",
      "---------------------- ----------- --------\n",
      "      HAP trailer file   AUXILIARY    18825\n",
      "      HAP trailer file   AUXILIARY    18825\n",
      "          Preview-Full     PREVIEW    24498\n",
      "          Preview-Full     PREVIEW    24498\n",
      "HAP fits science image     SCIENCE  1730880\n",
      "HAP fits science image     SCIENCE  1730880\n",
      "    HAP source catalog     SCIENCE     6110\n",
      "    HAP source catalog     SCIENCE     6110\n",
      "    HAP source catalog     SCIENCE     9746\n",
      "    HAP source catalog     SCIENCE     9746\n",
      "                   ...         ...      ...\n",
      "    HAP source catalog     SCIENCE     5032\n",
      "    HAP source catalog     SCIENCE     5074\n",
      "    HAP source catalog     SCIENCE     5074\n",
      "      HAP trailer file   AUXILIARY  1307565\n",
      "      HAP weight image   AUXILIARY   100295\n",
      "          Preview-Full     PREVIEW   209206\n",
      "HAP fits science image     SCIENCE 43148160\n",
      "      HAP trailer file   AUXILIARY  1307644\n",
      "      HAP weight image   AUXILIARY    17328\n",
      "          Preview-Full     PREVIEW    32947\n",
      "HAP fits science image     SCIENCE  4936320\n",
      "Length = 140 rows\n",
      "['obsID', 'obs_collection', 'dataproduct_type', 'obs_id', 'description', 'type', 'dataURI', 'productType', 'productGroupDescription', 'productSubGroupDescription', 'productDocumentationURL', 'project', 'prvversion', 'proposal_id', 'productFilename', 'size', 'parent_obsid', 'dataRights', 'calib_level']\n",
      "\n",
      "     description       productType   size  \n",
      "---------------------- ----------- --------\n",
      "      HAP trailer file   AUXILIARY    18825\n",
      "      HAP trailer file   AUXILIARY    18825\n",
      "          Preview-Full     PREVIEW    24498\n",
      "          Preview-Full     PREVIEW    24498\n",
      "HAP fits science image     SCIENCE  1730880\n",
      "HAP fits science image     SCIENCE  1730880\n",
      "    HAP source catalog     SCIENCE     6110\n",
      "    HAP source catalog     SCIENCE     6110\n",
      "    HAP source catalog     SCIENCE     9746\n",
      "    HAP source catalog     SCIENCE     9746\n",
      "                   ...         ...      ...\n",
      "    HAP source catalog     SCIENCE     5032\n",
      "    HAP source catalog     SCIENCE     5074\n",
      "    HAP source catalog     SCIENCE     5074\n",
      "      HAP trailer file   AUXILIARY  1307565\n",
      "      HAP weight image   AUXILIARY   100295\n",
      "          Preview-Full     PREVIEW   209206\n",
      "HAP fits science image     SCIENCE 43148160\n",
      "      HAP trailer file   AUXILIARY  1307644\n",
      "      HAP weight image   AUXILIARY    17328\n",
      "          Preview-Full     PREVIEW    32947\n",
      "HAP fits science image     SCIENCE  4936320\n",
      "Length = 140 rows\n",
      "['obsID', 'obs_collection', 'dataproduct_type', 'obs_id', 'description', 'type', 'dataURI', 'productType', 'productGroupDescription', 'productSubGroupDescription', 'productDocumentationURL', 'project', 'prvversion', 'proposal_id', 'productFilename', 'size', 'parent_obsid', 'dataRights', 'calib_level']\n",
      "\n",
      "        plntname           instrument  plntranmid_mjd_time spectral_element\n",
      "rowid                                                                      \n",
      "436    WASP-12 b  Wide Field Camera 3         55663.199736               NA\n",
      "437    WASP-12 b  Wide Field Camera 3         55663.199736               NA\n",
      "Index(['plntname', 'centralwavelng', 'bandwidth', 'plntransdep', 'plntransdeperr1', 'plntransdeperr2', 'plntransdeplim', 'plnradj', 'plnradjerr1', 'plnradjerr2', 'plnradjlim', 'plnratror', 'plnratrorerr1', 'plnratrorerr2', 'plnratrorlim', 'plntranmid', 'plntranmiderr1', 'plntranmiderr2', 'plntranmidlim', 'plntranreflink', 'facility', 'instrument', 'plntranmid_jd_time', 'plntranmid_mjd_time', 'spectral_element'], dtype='object')\n"
     ]
    }
   ],
   "source": [
    "from copy import deepcopy\n",
    "#\n",
    "# print(split_transmission[236].keys())\n",
    "# print(split_transmission[236][\"data\"].columns)\n",
    "# print(split_transmission[236][\"data\"][[\"plntname\", \"centralwavelng\", \"bandwidth\", \"facility\", \"instrument\", 'plntranmid_mjd_time']][:5])\n",
    "\n",
    "# Wide Field Camera 3 HAT-P-1 b 28 56113.84530699998 58\n",
    "\n",
    "# [print(s[\"instrument\"], s[\"planet_name\"], len(s[\"data\"]), s[\"data\"]['plntranmid_mjd_time'].iloc[0], i) for i, s in enumerate(split_transmission) if (s[\"instrument\"] == \"Wide Field Camera 3\" and np.isfinite(s[\"data\"]['plntranmid_mjd_time'].iloc[0]))]\n",
    "\n",
    "def alias_instrument(s: str):\n",
    "    alias_dict = {\n",
    "        \"Wide Field Camera 3\": \"WFC3\",\n",
    "        \"Space Telescope Imaging Spectrograph\": \"STIS\",\n",
    "        # Add more aliases as necessary\n",
    "    }\n",
    "    if s in alias_dict:\n",
    "        return alias_dict[s]\n",
    "    else:\n",
    "        return s\n",
    "\n",
    "\n",
    "def assign_spec_element_to_obs(obs):\n",
    "\n",
    "    # print(obs)\n",
    "\n",
    "    planet_name = obs.loc[\"plntname\"]\n",
    "    target_name = re.sub(r'[a-z]$', '', planet_name).strip() # +\"*\"\n",
    "    facility = alias_instrument(obs.loc[\"facility\"])+\"*\"\n",
    "    instrument = alias_instrument(obs.loc['instrument']) +\"*\"\n",
    "\n",
    "    # print(planet_name, target_name)\n",
    "\n",
    "    obs_table = Observations.query_criteria(dataRights=\"public\",\n",
    "                                            intentType=\"science\",\n",
    "                                            instrument_name=instrument,\n",
    "                                            target_name=target_name,\n",
    "                                            )\n",
    "    # print(obs_table['target_name', 'instrument_name', \"t_max\", \"t_min\"])\n",
    "\n",
    "    t_min, t_max = obs_table[\"t_min\"], obs_table[\"t_max\"]\n",
    "    t_plntranmid_mjd = obs[\"plntranmid_mjd_time\"]\n",
    "    t_window_crit = np.argwhere(np.logical_and(t_min <= t_plntranmid_mjd, t_plntranmid_mjd <= t_max))\n",
    "\n",
    "    em_min, em_max = obs_table[\"em_min\"] / 1e3, obs_table[\"em_max\"] / 1e3\n",
    "    centralwavelng = obs.loc[\"centralwavelng\"]\n",
    "    wavelng_window_crit = np.argwhere(np.logical_and(em_min <= centralwavelng, centralwavelng <= em_max))\n",
    "\n",
    "    # print(t_window_crit, wavelng_window_crit) # , em_min,centralwavelng, em_max) TODO: something is funkey with the wl criterion\n",
    "\n",
    "    # print(obs_table[t_window_crit]['instrument_name', 'provenance_name', 'obsid', 'objID'])\n",
    "\n",
    "    data_products_by_obs = Observations.get_product_list(obs_table[t_window_crit])\n",
    "\n",
    "    products = Observations.filter_products(data_products_by_obs,\n",
    "                                            # productType=[\"PREVIEW\"],\n",
    "                                            # extension=\"txt\",\n",
    "                                            )\n",
    "\n",
    "    print(products['description', 'productType', 'size'])\n",
    "    print(products.colnames)\n",
    "\n",
    "    # manifest = Observations.download_products(products,\n",
    "    #                                           download_dir=str(WDIR / \"data\"))\n",
    "\n",
    "    # print(manifest[\"Local Path\"])\n",
    "\n",
    "    # print(products['description', 'productType', 'size'])\n",
    "\n",
    "    # print(t_min[:5])\n",
    "    # print(t_max[:5])\n",
    "\n",
    "    print()\n",
    "\n",
    "    return \"NA\"\n",
    "\n",
    "def get_mast_obs_data(spec):\n",
    "    planet_name = spec[\"planet_name\"]\n",
    "    facility = spec[\"facility\"]\n",
    "    instrument = spec['instrument']\n",
    "    data = spec[\"data\"]\n",
    "    source = spec['source']\n",
    "    author = spec['author']\n",
    "    year = spec['year']\n",
    "\n",
    "    data = deepcopy(data[:2])\n",
    "\n",
    "    data['spectral_element'] = data.apply(assign_spec_element_to_obs, axis=\"columns\",)\n",
    "\n",
    "    # for row in data.iterrows():\n",
    "    #     assign_spec_element_to_obs(row,)\n",
    "    #     pass # assign spectral element to row\n",
    "\n",
    "    print(data[[\"plntname\", \"instrument\", 'plntranmid_mjd_time', \"spectral_element\"]])\n",
    "    print(data.columns)\n",
    "\n",
    "get_mast_obs_data(split_transmission[236])"
   ],
   "metadata": {
    "collapsed": false
   }
  },
  {
   "cell_type": "code",
   "execution_count": 192,
   "outputs": [],
   "source": [
    "\n"
   ],
   "metadata": {
    "collapsed": false
   }
  },
  {
   "cell_type": "code",
   "execution_count": null,
   "outputs": [],
   "source": [
    "# TODO: cross-correlate regex from NASA table and Wakeford archive table\n",
    "# option1: in s1, s2,\n",
    "# out similarity score, what norm? cant take s1/2 lengths due to difference length?\n",
    "# similarity score -> regex for match (slide pattern)\n",
    "# Take mean match score / max(lengths)\n",
    "\n",
    "# option2: in dict1, dict2\n",
    "# out, similarity score\n",
    "# for each pair in dict, match part? -> regex match\n",
    "# scale exp to reward high match %"
   ],
   "metadata": {
    "collapsed": false
   }
  },
  {
   "cell_type": "code",
   "execution_count": 68,
   "outputs": [
    {
     "data": {
      "text/plain": "'\\nWrite a function that takes a string as input and returns a bool and a diffractor_dict: Dict with keywords: instrument, diffractor, survey, author, year, journal.\\nThe instrument is one of WFC, WFC3, STIS.\\nThe diffrator is matches the pattern: the letters G or E, followed by three numbers, followed by nothing, L, M, LB, or MB. diffractor example: \"G141\".\\nThe survey matches the pattern: \"GO \" followed by 5 letters. Survey example: \"GO 12098\".\\nthe author is everything preceding et al. (et al. inclusive with or without dot) and after the previous match.\\n\\nIf no match for the instrument and diffractor: return False, {}\\nElse return True, diffractor_dict\\n\\nExamples: \\n\"# WFC3 G141 - GO 14873 - de Wit, Wakeford, Lewis, et al. 2018, Nature Astronomy\" -> diffractor_dict = {\"instrument\": \"WFC3\", \"diffractor\": \"G141\", \"survey\": \"GO 14873\", \"author\": \"de Wit, Wakeford, Lewis, et al.\", \"year\": 2019, \"journal\": \"Nature Astronomy\"}\\n\\n'"
     },
     "execution_count": 68,
     "metadata": {},
     "output_type": "execute_result"
    }
   ],
   "source": [
    "# TODO: parse grisms/gratings\n",
    "# regex match known HST WFC3, STIS grism/grating names\n",
    "# take names from HST instrument handbook, table 4.2, 8.1 ?\n",
    "\n",
    "\"\"\"\n",
    "Write a function that takes a string as input and returns a bool and a diffractor_dict: Dict with keywords: instrument, diffractor, survey, author, year, journal.\n",
    "The instrument is one of WFC, WFC3, STIS.\n",
    "The diffrator is matches the pattern: the letters G or E, followed by three numbers, followed by nothing, L, M, LB, or MB. diffractor example: \"G141\".\n",
    "The survey matches the pattern: \"GO \" followed by 5 letters. Survey example: \"GO 12098\".\n",
    "the author is everything preceding et al. (et al. inclusive with or without dot) and after the previous match.\n",
    "The journal is everything following the year, specifically one of (ApJ, Nature, Natur, Science, arXiv, MNRAS, AJ, A&A, A%26A, Nature Astronomy) and all following numbers and dots.\n",
    "\n",
    "If no match for the instrument and diffractor: return False, {}\n",
    "Else return True, diffractor_dict\n",
    "\n",
    "Examples:\n",
    "\"# WFC3 G141 - GO 14873 - de Wit, Wakeford, Lewis, et al. 2018, Nature Astronomy\" -> diffractor_dict = {\"instrument\": \"WFC3\", \"diffractor\": \"G141\", \"survey\": \"GO 14873\", \"author\": \"de Wit, Wakeford, Lewis, et al.\", \"year\": 2019, \"journal\": \"Nature Astronomy\"}\n",
    "\n",
    "\"# STIS G750L - GO 14767 - Evans et al., 2018, AJ 156\" -> diffractor_dict = {\"instrument\": \"STIS\", \"diffractor\": \"G750L\", \"survey\": \"GO 14767\", \"author\": \"Evans et al.\", \"year\": 2018, \"journal\": \"AJ 156\"}\n",
    "\n",
    "\"\"\""
   ],
   "metadata": {
    "collapsed": false
   }
  },
  {
   "cell_type": "code",
   "execution_count": 69,
   "outputs": [],
   "source": [
    "# TODO: low priority, parse grism/grating info from json"
   ],
   "metadata": {
    "collapsed": false
   }
  },
  {
   "cell_type": "code",
   "execution_count": null,
   "outputs": [],
   "source": [
    "# TODO: parse .txt files to get for each\n",
    "# N: papers with parsed info, one for each line\n",
    "# keep duplicates\n",
    "# if found_grism_grating in line:\n",
    "    # set matched_grism_grating_pattern to dict"
   ],
   "metadata": {
    "collapsed": false
   }
  },
  {
   "cell_type": "code",
   "execution_count": null,
   "outputs": [],
   "source": [
    "# TODO: asssign grisms/gratings:\n",
    "# for each spectrum (differentiated) in List[df]\n",
    "# match href citation with grism/prism papers -> ranking of similarity scores with grism (+paper)\n",
    "# prelim assign grism to spectrum table"
   ],
   "metadata": {
    "collapsed": false
   }
  },
  {
   "cell_type": "code",
   "execution_count": null,
   "outputs": [],
   "source": [
    "# ideas if no matches, parse abstracts for grism/grating names? Really bad.\n",
    "# where did I see grism/prism names in table??"
   ],
   "metadata": {
    "collapsed": false
   }
  }
 ],
 "metadata": {
  "kernelspec": {
   "display_name": "Python 3",
   "language": "python",
   "name": "python3"
  },
  "language_info": {
   "codemirror_mode": {
    "name": "ipython",
    "version": 2
   },
   "file_extension": ".py",
   "mimetype": "text/x-python",
   "name": "python",
   "nbconvert_exporter": "python",
   "pygments_lexer": "ipython2",
   "version": "2.7.6"
  }
 },
 "nbformat": 4,
 "nbformat_minor": 0
}
