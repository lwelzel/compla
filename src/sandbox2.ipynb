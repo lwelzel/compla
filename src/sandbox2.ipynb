{
 "cells": [
  {
   "cell_type": "code",
   "execution_count": 1,
   "metadata": {
    "collapsed": true
   },
   "outputs": [],
   "source": [
    "import numpy as np\n",
    "import sys\n",
    "import re\n",
    "import os\n",
    "import pandas as pd\n",
    "import warnings\n",
    "from pathlib import Path\n",
    "from typing import List, Dict, Tuple, Any, Union, Callable\n",
    "from tqdm import tqdm\n",
    "import csv\n",
    "import json\n",
    "from dataclasses import dataclass\n",
    "from datetime import datetime\n",
    "from configobj import ConfigObj, Section\n",
    "import shutil\n",
    "from tempfile import NamedTemporaryFile\n",
    "\n",
    "# Autoreload extension\n",
    "if 'autoreload' not in get_ipython().extension_manager.loaded:\n",
    "    %load_ext autoreload\n",
    "\n",
    "%autoreload 2"
   ]
  },
  {
   "cell_type": "code",
   "execution_count": 2,
   "outputs": [],
   "source": [
    "WDIR = Path().cwd().parent\n",
    "\n",
    "PLANET_DB_PATH = str(WDIR / \"data/planet_database_composite.csv\")\n",
    "OPACITY_PATH = str(WDIR / \"data/Input/xsec/xsec_sampled_R15000_0.3-15\")\n",
    "CIA_PATH = str(WDIR / \"data/Input/cia/hitran\")\n",
    "KTABLE_PATH = str(WDIR / \"data/Input/ktables/R100\")\n",
    "MOLECULE_PATH = str(WDIR / \"data/molecule_db.json\")\n",
    "\n",
    "SPECTRA_BE_PATH = str(WDIR / \"data/SpectraBE\")\n",
    "SPECTRA_LW_PATH = str(WDIR / \"data/taurex_lightcurves_LW\")"
   ],
   "metadata": {
    "collapsed": false,
    "pycharm": {
     "name": "#%%\n"
    }
   }
  },
  {
   "cell_type": "code",
   "execution_count": 2,
   "outputs": [],
   "source": [],
   "metadata": {
    "collapsed": false,
    "pycharm": {
     "name": "#%%\n"
    }
   }
  },
  {
   "cell_type": "code",
   "execution_count": 3,
   "outputs": [],
   "source": [
    "\n",
    "def make_par_file():\n",
    "    pass\n",
    "\n",
    "def run_retrieval():\n",
    "    pass"
   ],
   "metadata": {
    "collapsed": false,
    "pycharm": {
     "name": "#%%\n"
    }
   }
  },
  {
   "cell_type": "code",
   "execution_count": null,
   "outputs": [],
   "source": [
    "path_list = [\n",
    "    str(WDIR / \"data/taurex_lightcurves_LW\" / \"HAT-P-1-b_HST_STIS_G430L_52X2_Nikolov+2014.txt\"),\n",
    "    str(WDIR / \"data/taurex_lightcurves_LW\" / \"HAT-P-1-b_HST_STIS_G430L_52X2_Sing+2016.txt\"),\n",
    "]\n",
    "\n",
    "target = get_target_data(\"HAT-P-1 b\")\n",
    "\n",
    "write_par_file(path_list, target=target)"
   ],
   "metadata": {
    "collapsed": false,
    "pycharm": {
     "name": "#%%\n"
    }
   }
  },
  {
   "cell_type": "code",
   "execution_count": 3,
   "outputs": [],
   "source": [
    "import numpy as np\n",
    "import sys\n",
    "import re\n",
    "import os\n",
    "import pandas as pd\n",
    "import warnings\n",
    "from pathlib import Path\n",
    "from typing import List, Dict, Tuple, Any, Union, Callable\n",
    "from tqdm import tqdm\n",
    "import csv\n",
    "import json\n",
    "from dataclasses import dataclass\n",
    "\n",
    "import matplotlib.pyplot as plt\n",
    "import seaborn as sns\n",
    "from corner import corner\n",
    "\n",
    "plt.rcParams['figure.figsize'] = [7, 7]\n",
    "plt.rcParams['figure.dpi'] = 300\n",
    "\n",
    "\n",
    "import taurex.log\n",
    "# taurex.log.disableLogging()\n",
    "from taurex.cache import OpacityCache, CIACache\n",
    "from taurex.data.profiles.temperature import Isothermal, Guillot2010, NPoint\n",
    "from taurex.data import Planet\n",
    "from taurex.data.stellar import PhoenixStar\n",
    "from taurex.data.stellar import BlackbodyStar\n",
    "from taurex.data.profiles.chemistry import TaurexChemistry\n",
    "from taurex.data.profiles.chemistry import ConstantGas\n",
    "from taurex.data.profiles.chemistry import TwoLayerGas\n",
    "from taurex.model import TransmissionModel, EmissionModel\n",
    "from taurex.contributions import AbsorptionContribution, CIAContribution, RayleighContribution, HydrogenIon\n",
    "from taurex.data.spectrum.observed import ObservedSpectrum\n",
    "from astropy.io.fits.verify import VerifyWarning\n",
    "from taurex.binning.fluxbinner import FluxBinner\n",
    "from taurex.util.util import wnwidth_to_wlwidth\n",
    "from taurex.optimizer.nestle import NestleOptimizer\n"
   ],
   "metadata": {
    "collapsed": false,
    "pycharm": {
     "name": "#%%\n"
    }
   }
  },
  {
   "cell_type": "code",
   "execution_count": 4,
   "outputs": [],
   "source": [
    "def show_plugins():\n",
    "    from taurex.parameter.classfactory import ClassFactory\n",
    "    from taurex.log import setLogLevel\n",
    "    import logging\n",
    "    setLogLevel(logging.ERROR)\n",
    "\n",
    "    successful_plugins, failed_plugins = ClassFactory().discover_plugins()\n",
    "\n",
    "    print('\\nSuccessfully loaded plugins')\n",
    "    print('---------------------------')\n",
    "    for k, v in successful_plugins.items():\n",
    "        print(k)\n",
    "\n",
    "    print('\\n\\nFailed plugins')\n",
    "    print('---------------------------')\n",
    "    for k, v in failed_plugins.items():\n",
    "        print(k)\n",
    "        print(f'Reason: {v}')\n",
    "\n",
    "    print('\\n')"
   ],
   "metadata": {
    "collapsed": false,
    "pycharm": {
     "name": "#%%\n"
    }
   }
  },
  {
   "cell_type": "code",
   "execution_count": 11,
   "outputs": [
    {
     "name": "stdout",
     "output_type": "stream",
     "text": [
      "(<class 'taurex.data.spectrum.array.ArraySpectrum'>, <class 'taurex.data.fittable.Fittable'>)\n",
      "C:\\Users\\lukas\\anaconda3\\envs\\compla\\lib\\site-packages\\taurex_offset\\offset.py\n",
      "\n",
      "Successfully loaded plugins\n",
      "---------------------------\n",
      "taurex_offset\n",
      "\n",
      "\n",
      "Failed plugins\n",
      "---------------------------\n",
      "\n",
      "\n",
      "None\n",
      "=====================================\n",
      "Unexpected exception formatting exception. Falling back to standard exception\n"
     ]
    },
    {
     "name": "stderr",
     "output_type": "stream",
     "text": [
      "Traceback (most recent call last):\n",
      "  File \"C:\\Users\\lukas\\anaconda3\\envs\\compla\\lib\\site-packages\\IPython\\core\\interactiveshell.py\", line 3505, in run_code\n",
      "    exec(code_obj, self.user_global_ns, self.user_ns)\n",
      "  File \"C:\\Users\\lukas\\AppData\\Local\\Temp\\ipykernel_6976\\2256283754.py\", line 20, in <module>\n",
      "    observation = pp.generate_observation()\n",
      "  File \"C:\\Users\\lukas\\anaconda3\\envs\\compla\\lib\\site-packages\\taurex\\parameter\\parameterparser.py\", line 247, in generate_observation\n",
      "    return create_observation(observation_config)\n",
      "  File \"C:\\Users\\lukas\\anaconda3\\envs\\compla\\lib\\site-packages\\taurex\\parameter\\factory.py\", line 369, in create_observation\n",
      "    obj = klass(**config)\n",
      "  File \"C:\\Users\\lukas\\anaconda3\\envs\\compla\\lib\\site-packages\\taurex_offset\\offset.py\", line 52, in __init__\n",
      "    self.generate_offset_fitting_params()\n",
      "  File \"C:\\Users\\lukas\\anaconda3\\envs\\compla\\lib\\site-packages\\taurex_offset\\offset.py\", line 71, in generate_offset_fitting_params\n",
      "    self.add_fittable_param(param_name, param_latex, fget_point,\n",
      "  File \"C:\\Users\\lukas\\anaconda3\\envs\\compla\\lib\\site-packages\\taurex\\data\\fittable.py\", line 236, in add_fittable_param\n",
      "    if param_name in self._param_dict:\n",
      "AttributeError: 'OffsetSpectra' object has no attribute '_param_dict'\n",
      "\n",
      "During handling of the above exception, another exception occurred:\n",
      "\n",
      "Traceback (most recent call last):\n",
      "  File \"C:\\Users\\lukas\\anaconda3\\envs\\compla\\lib\\site-packages\\IPython\\core\\interactiveshell.py\", line 2102, in showtraceback\n",
      "    stb = self.InteractiveTB.structured_traceback(\n",
      "  File \"C:\\Users\\lukas\\anaconda3\\envs\\compla\\lib\\site-packages\\IPython\\core\\ultratb.py\", line 1310, in structured_traceback\n",
      "    return FormattedTB.structured_traceback(\n",
      "  File \"C:\\Users\\lukas\\anaconda3\\envs\\compla\\lib\\site-packages\\IPython\\core\\ultratb.py\", line 1199, in structured_traceback\n",
      "    return VerboseTB.structured_traceback(\n",
      "  File \"C:\\Users\\lukas\\anaconda3\\envs\\compla\\lib\\site-packages\\IPython\\core\\ultratb.py\", line 1052, in structured_traceback\n",
      "    formatted_exception = self.format_exception_as_a_whole(etype, evalue, etb, number_of_lines_of_context,\n",
      "  File \"C:\\Users\\lukas\\anaconda3\\envs\\compla\\lib\\site-packages\\IPython\\core\\ultratb.py\", line 978, in format_exception_as_a_whole\n",
      "    frames.append(self.format_record(record))\n",
      "  File \"C:\\Users\\lukas\\anaconda3\\envs\\compla\\lib\\site-packages\\IPython\\core\\ultratb.py\", line 878, in format_record\n",
      "    frame_info.lines, Colors, self.has_colors, lvals\n",
      "  File \"C:\\Users\\lukas\\anaconda3\\envs\\compla\\lib\\site-packages\\IPython\\core\\ultratb.py\", line 712, in lines\n",
      "    return self._sd.lines\n",
      "  File \"C:\\Users\\lukas\\anaconda3\\envs\\compla\\lib\\site-packages\\stack_data\\utils.py\", line 145, in cached_property_wrapper\n",
      "    value = obj.__dict__[self.func.__name__] = self.func(obj)\n",
      "  File \"C:\\Users\\lukas\\anaconda3\\envs\\compla\\lib\\site-packages\\stack_data\\core.py\", line 698, in lines\n",
      "    pieces = self.included_pieces\n",
      "  File \"C:\\Users\\lukas\\anaconda3\\envs\\compla\\lib\\site-packages\\stack_data\\utils.py\", line 145, in cached_property_wrapper\n",
      "    value = obj.__dict__[self.func.__name__] = self.func(obj)\n",
      "  File \"C:\\Users\\lukas\\anaconda3\\envs\\compla\\lib\\site-packages\\stack_data\\core.py\", line 649, in included_pieces\n",
      "    pos = scope_pieces.index(self.executing_piece)\n",
      "  File \"C:\\Users\\lukas\\anaconda3\\envs\\compla\\lib\\site-packages\\stack_data\\utils.py\", line 145, in cached_property_wrapper\n",
      "    value = obj.__dict__[self.func.__name__] = self.func(obj)\n",
      "  File \"C:\\Users\\lukas\\anaconda3\\envs\\compla\\lib\\site-packages\\stack_data\\core.py\", line 628, in executing_piece\n",
      "    return only(\n",
      "  File \"C:\\Users\\lukas\\anaconda3\\envs\\compla\\lib\\site-packages\\executing\\executing.py\", line 164, in only\n",
      "    raise NotOneValueFound('Expected one value, found 0')\n",
      "executing.executing.NotOneValueFound: Expected one value, found 0\n"
     ]
    }
   ],
   "source": [
    "from taurex.parameter import ParameterParser\n",
    "from taurex.output.hdf5 import HDF5Output\n",
    "from taurex_offset import OffsetSpectra\n",
    "\n",
    "print(OffsetSpectra.__bases__)\n",
    "\n",
    "import inspect\n",
    "print(inspect.getfile(OffsetSpectra))\n",
    "\n",
    "path = str(WDIR / \"data/retrievals/DEFAULT/default.par\")\n",
    "\n",
    "print(show_plugins())\n",
    "\n",
    "\n",
    "pp = ParameterParser()\n",
    "pp.read(path)\n",
    "\n",
    "pp.setup_globals()\n",
    "\n",
    "observation = pp.generate_observation()\n",
    "\n",
    "binning = pp.generate_binning()\n",
    "\n",
    "instrument = pp.generate_instrument(binner=binning)\n",
    "\n",
    "tm = pp.generate_model()\n",
    "tm.build()\n",
    "\n",
    "print(tm.fittingParameters.keys())\n",
    "\n",
    "opt = pp.generate_optimizer()\n",
    "\n",
    "opt.set_model(tm)\n",
    "\n",
    "\n",
    "pp.setup_optimizer(opt)"
   ],
   "metadata": {
    "collapsed": false,
    "pycharm": {
     "name": "#%%\n"
    }
   }
  },
  {
   "cell_type": "code",
   "execution_count": 54,
   "outputs": [
    {
     "name": "stdout",
     "output_type": "stream",
     "text": [
      "[]\n"
     ]
    }
   ],
   "source": [
    "print(opt.fitting_parameters)"
   ],
   "metadata": {
    "collapsed": false,
    "pycharm": {
     "name": "#%%\n"
    }
   }
  },
  {
   "cell_type": "code",
   "execution_count": 40,
   "outputs": [
    {
     "name": "stdout",
     "output_type": "stream",
     "text": [
      "{'planet_mass': ('planet_mass', '$M_p$', <bound method fitparam.<locals>.wrapper of <taurex.data.planet.Planet object at 0x0000024CAD7D63A0>>, <bound method BasePlanet.mass of <taurex.data.planet.Planet object at 0x0000024CAD7D63A0>>, 'linear', False, [0.5, 1.5]), 'planet_radius': ('planet_radius', '$R_p$', <bound method fitparam.<locals>.wrapper of <taurex.data.planet.Planet object at 0x0000024CAD7D63A0>>, <bound method BasePlanet.radius of <taurex.data.planet.Planet object at 0x0000024CAD7D63A0>>, 'linear', True, [0.9, 1.1]), 'planet_distance': ('planet_distance', '$D_{planet}$', <bound method fitparam.<locals>.wrapper of <taurex.data.planet.Planet object at 0x0000024CAD7D63A0>>, <bound method BasePlanet.distance of <taurex.data.planet.Planet object at 0x0000024CAD7D63A0>>, 'linear', False, [1, 2]), 'planet_sma': ('planet_sma', '$D_{planet}$', <bound method fitparam.<locals>.wrapper of <taurex.data.planet.Planet object at 0x0000024CAD7D63A0>>, <bound method BasePlanet.semiMajorAxis of <taurex.data.planet.Planet object at 0x0000024CAD7D63A0>>, 'linear', False, [1, 2]), 'atm_min_pressure': ('atm_min_pressure', '$P_\\\\mathrm{min}$', <bound method fitparam.<locals>.wrapper of <taurex.data.profiles.pressure.pressureprofile.SimplePressureProfile object at 0x0000024CAD790730>>, <bound method SimplePressureProfile.minAtmospherePressure of <taurex.data.profiles.pressure.pressureprofile.SimplePressureProfile object at 0x0000024CAD790730>>, 'log', False, [0.1, 1.0]), 'atm_max_pressure': ('atm_max_pressure', '$P_\\\\mathrm{max}$', <bound method fitparam.<locals>.wrapper of <taurex.data.profiles.pressure.pressureprofile.SimplePressureProfile object at 0x0000024CAD790730>>, <bound method SimplePressureProfile.maxAtmospherePressure of <taurex.data.profiles.pressure.pressureprofile.SimplePressureProfile object at 0x0000024CAD790730>>, 'log', False, [0.1, 1.0]), 'T_irr': ('T_irr', '$T_\\\\mathrm{irr}$', <bound method fitparam.<locals>.wrapper of <taurex.data.profiles.temperature.guillot.Guillot2010 object at 0x0000024CAD7A4730>>, <bound method Guillot2010.equilTemperature of <taurex.data.profiles.temperature.guillot.Guillot2010 object at 0x0000024CAD7A4730>>, 'linear', True, [1300, 2500]), 'kappa_irr': ('kappa_irr', '$k_\\\\mathrm{irr}$', <bound method fitparam.<locals>.wrapper of <taurex.data.profiles.temperature.guillot.Guillot2010 object at 0x0000024CAD7A4730>>, <bound method Guillot2010.meanInfraOpacity of <taurex.data.profiles.temperature.guillot.Guillot2010 object at 0x0000024CAD7A4730>>, 'log', False, [1e-10, 1]), 'kappa_v1': ('kappa_v1', '$k_\\\\mathrm{1}$', <bound method fitparam.<locals>.wrapper of <taurex.data.profiles.temperature.guillot.Guillot2010 object at 0x0000024CAD7A4730>>, <bound method Guillot2010.meanOpticalOpacity1 of <taurex.data.profiles.temperature.guillot.Guillot2010 object at 0x0000024CAD7A4730>>, 'log', False, [1e-10, 1]), 'kappa_v2': ('kappa_v2', '$k_\\\\mathrm{2}$', <bound method fitparam.<locals>.wrapper of <taurex.data.profiles.temperature.guillot.Guillot2010 object at 0x0000024CAD7A4730>>, <bound method Guillot2010.meanOpticalOpacity2 of <taurex.data.profiles.temperature.guillot.Guillot2010 object at 0x0000024CAD7A4730>>, 'log', False, [1e-10, 1]), 'alpha': ('alpha', '$\\\\alpha$', <bound method fitparam.<locals>.wrapper of <taurex.data.profiles.temperature.guillot.Guillot2010 object at 0x0000024CAD7A4730>>, <bound method Guillot2010.opticalRatio of <taurex.data.profiles.temperature.guillot.Guillot2010 object at 0x0000024CAD7A4730>>, 'linear', False, [0.0, 1.0]), 'T_int_guillot': ('T_int_guillot', '$T^{g}_{int}$', <bound method fitparam.<locals>.wrapper of <taurex.data.profiles.temperature.guillot.Guillot2010 object at 0x0000024CAD7A4730>>, <bound method Guillot2010.internalTemperature of <taurex.data.profiles.temperature.guillot.Guillot2010 object at 0x0000024CAD7A4730>>, 'linear', False, [0.0, 1.0]), 'H2O': ('H2O', 'H$_2$O', <bound method ConstantGas.add_active_gas_param.<locals>.read_mol of <taurex.data.profiles.chemistry.gas.constantgas.ConstantGas object at 0x0000024CAD7A44C0>>, <bound method ConstantGas.add_active_gas_param.<locals>.write_mol of <taurex.data.profiles.chemistry.gas.constantgas.ConstantGas object at 0x0000024CAD7A44C0>>, 'log', False, [1e-12, 0.1]), 'CH4': ('CH4', 'CH$_4$', <bound method ConstantGas.add_active_gas_param.<locals>.read_mol of <taurex.data.profiles.chemistry.gas.constantgas.ConstantGas object at 0x0000024CAD7D20D0>>, <bound method ConstantGas.add_active_gas_param.<locals>.write_mol of <taurex.data.profiles.chemistry.gas.constantgas.ConstantGas object at 0x0000024CAD7D20D0>>, 'log', False, [1e-12, 0.1]), 'NH3': ('NH3', 'NH$_3$', <bound method ConstantGas.add_active_gas_param.<locals>.read_mol of <taurex.data.profiles.chemistry.gas.constantgas.ConstantGas object at 0x0000024CADB0E0A0>>, <bound method ConstantGas.add_active_gas_param.<locals>.write_mol of <taurex.data.profiles.chemistry.gas.constantgas.ConstantGas object at 0x0000024CADB0E0A0>>, 'log', False, [1e-12, 0.1]), 'CO': ('CO', 'CO', <bound method ConstantGas.add_active_gas_param.<locals>.read_mol of <taurex.data.profiles.chemistry.gas.constantgas.ConstantGas object at 0x0000024CADB0EAC0>>, <bound method ConstantGas.add_active_gas_param.<locals>.write_mol of <taurex.data.profiles.chemistry.gas.constantgas.ConstantGas object at 0x0000024CADB0EAC0>>, 'log', False, [1e-12, 0.1]), 'CO2': ('CO2', 'CO$_2$', <bound method ConstantGas.add_active_gas_param.<locals>.read_mol of <taurex.data.profiles.chemistry.gas.constantgas.ConstantGas object at 0x0000024CAD7EAF40>>, <bound method ConstantGas.add_active_gas_param.<locals>.write_mol of <taurex.data.profiles.chemistry.gas.constantgas.ConstantGas object at 0x0000024CAD7EAF40>>, 'log', False, [1e-12, 0.1]), 'HCN': ('HCN', 'HCN', <bound method ConstantGas.add_active_gas_param.<locals>.read_mol of <taurex.data.profiles.chemistry.gas.constantgas.ConstantGas object at 0x0000024CAD7EAB20>>, <bound method ConstantGas.add_active_gas_param.<locals>.write_mol of <taurex.data.profiles.chemistry.gas.constantgas.ConstantGas object at 0x0000024CAD7EAB20>>, 'log', False, [1e-12, 0.1]), 'Na': ('Na', 'Na', <bound method ConstantGas.add_active_gas_param.<locals>.read_mol of <taurex.data.profiles.chemistry.gas.constantgas.ConstantGas object at 0x0000024CADB7C250>>, <bound method ConstantGas.add_active_gas_param.<locals>.write_mol of <taurex.data.profiles.chemistry.gas.constantgas.ConstantGas object at 0x0000024CADB7C250>>, 'log', False, [1e-12, 0.1]), 'K': ('K', 'K', <bound method ConstantGas.add_active_gas_param.<locals>.read_mol of <taurex.data.profiles.chemistry.gas.constantgas.ConstantGas object at 0x0000024CADB7C610>>, <bound method ConstantGas.add_active_gas_param.<locals>.write_mol of <taurex.data.profiles.chemistry.gas.constantgas.ConstantGas object at 0x0000024CADB7C610>>, 'log', False, [1e-12, 0.1]), 'TiO': ('TiO', 'TiO', <bound method ConstantGas.add_active_gas_param.<locals>.read_mol of <taurex.data.profiles.chemistry.gas.constantgas.ConstantGas object at 0x0000024CADB7C0D0>>, <bound method ConstantGas.add_active_gas_param.<locals>.write_mol of <taurex.data.profiles.chemistry.gas.constantgas.ConstantGas object at 0x0000024CADB7C0D0>>, 'log', False, [1e-12, 0.1]), 'VO': ('VO', 'VO', <bound method ConstantGas.add_active_gas_param.<locals>.read_mol of <taurex.data.profiles.chemistry.gas.constantgas.ConstantGas object at 0x0000024CADB7C520>>, <bound method ConstantGas.add_active_gas_param.<locals>.write_mol of <taurex.data.profiles.chemistry.gas.constantgas.ConstantGas object at 0x0000024CADB7C520>>, 'log', False, [1e-12, 0.1]), 'FeH': ('FeH', 'FeH', <bound method ConstantGas.add_active_gas_param.<locals>.read_mol of <taurex.data.profiles.chemistry.gas.constantgas.ConstantGas object at 0x0000024CADB7C910>>, <bound method ConstantGas.add_active_gas_param.<locals>.write_mol of <taurex.data.profiles.chemistry.gas.constantgas.ConstantGas object at 0x0000024CADB7C910>>, 'log', False, [1e-12, 0.1]), 'e-': ('e-', 'e-', <bound method ConstantGas.add_active_gas_param.<locals>.read_mol of <taurex.data.profiles.chemistry.gas.constantgas.ConstantGas object at 0x0000024CADB7CA00>>, <bound method ConstantGas.add_active_gas_param.<locals>.write_mol of <taurex.data.profiles.chemistry.gas.constantgas.ConstantGas object at 0x0000024CADB7CA00>>, 'log', False, [1e-12, 0.1]), 'He_H2': ('He_H2', 'He/H$_2$', <bound method TaurexChemistry.setup_fill_params.<locals>.read_mol of <taurex.data.profiles.chemistry.taurexchemistry.TaurexChemistry object at 0x0000024CADB7C9D0>>, <bound method TaurexChemistry.setup_fill_params.<locals>.write_mol of <taurex.data.profiles.chemistry.taurexchemistry.TaurexChemistry object at 0x0000024CADB7C9D0>>, 'log', False, [1e-12, 0.1])}\n"
     ]
    }
   ],
   "source": [
    "# pp.setup_optimizer(opt)\n",
    "\n",
    "# fitting_parameters = pp.generate_fitting_parameters()\n",
    "\n",
    " # NestleOptimizer(num_live_points=50)\n",
    "\n",
    "\n",
    "# print(fitting_parameters)\n",
    "print(tm.fittingParameters)"
   ],
   "metadata": {
    "collapsed": false,
    "pycharm": {
     "name": "#%%\n"
    }
   }
  },
  {
   "cell_type": "code",
   "execution_count": 42,
   "outputs": [
    {
     "name": "stderr",
     "output_type": "stream",
     "text": [
      "taurex.ParamParser - INFO - Setting up optimizer\n"
     ]
    },
    {
     "name": "stdout",
     "output_type": "stream",
     "text": [
      "<bound method Fittable.fitting_parameters of <taurex.model.transmission.TransmissionModel object at 0x0000024CADB7CF70>>\n",
      "Offset_1\n",
      "{'fit': False, 'bounds': None, 'mode': None, 'factor': None, 'prior': <taurex.core.priors.Uniform object at 0x0000024CADBAC3A0>}\n",
      "\n",
      "Slope_1\n",
      "{'fit': False, 'bounds': None, 'mode': None, 'factor': None, 'prior': <taurex.core.priors.Uniform object at 0x0000024CADBAC250>}\n",
      "\n",
      "Offset_2\n",
      "{'fit': True, 'bounds': None, 'mode': None, 'factor': None, 'prior': <taurex.core.priors.Uniform object at 0x0000024CADBAC910>}\n",
      "\n",
      "Slope_2\n",
      "{'fit': True, 'bounds': None, 'mode': None, 'factor': None, 'prior': <taurex.core.priors.Uniform object at 0x0000024CADBACA90>}\n",
      "\n",
      "H2O\n",
      "{'fit': True, 'bounds': None, 'mode': None, 'factor': None, 'prior': <taurex.core.priors.LogUniform object at 0x0000024CADBACDC0>}\n",
      "\n",
      "CH4\n",
      "{'fit': True, 'bounds': None, 'mode': None, 'factor': None, 'prior': <taurex.core.priors.LogUniform object at 0x0000024CADBACE80>}\n",
      "\n",
      "NH3\n",
      "{'fit': True, 'bounds': None, 'mode': None, 'factor': None, 'prior': <taurex.core.priors.LogUniform object at 0x0000024CADBACF40>}\n",
      "\n",
      "CO\n",
      "{'fit': True, 'bounds': None, 'mode': None, 'factor': None, 'prior': <taurex.core.priors.LogUniform object at 0x0000024CADBAC610>}\n",
      "\n",
      "CO2\n",
      "{'fit': True, 'bounds': None, 'mode': None, 'factor': None, 'prior': <taurex.core.priors.LogUniform object at 0x0000024CADBAC070>}\n",
      "\n",
      "HCN\n",
      "{'fit': True, 'bounds': None, 'mode': None, 'factor': None, 'prior': <taurex.core.priors.LogUniform object at 0x0000024CADBAC9A0>}\n",
      "\n",
      "Na\n",
      "{'fit': True, 'bounds': None, 'mode': None, 'factor': None, 'prior': <taurex.core.priors.LogUniform object at 0x0000024CADBAC040>}\n",
      "\n",
      "K\n",
      "{'fit': True, 'bounds': None, 'mode': None, 'factor': None, 'prior': <taurex.core.priors.LogUniform object at 0x0000024CADBAC370>}\n",
      "\n",
      "TiO\n",
      "{'fit': True, 'bounds': None, 'mode': None, 'factor': None, 'prior': <taurex.core.priors.LogUniform object at 0x0000024CADBACB50>}\n",
      "\n",
      "VO\n",
      "{'fit': True, 'bounds': None, 'mode': None, 'factor': None, 'prior': <taurex.core.priors.LogUniform object at 0x0000024CADACE040>}\n",
      "\n",
      "FeH\n",
      "{'fit': True, 'bounds': None, 'mode': None, 'factor': None, 'prior': <taurex.core.priors.LogUniform object at 0x0000024CADBACEE0>}\n",
      "\n",
      "e-\n",
      "{'fit': True, 'bounds': None, 'mode': None, 'factor': None, 'prior': <taurex.core.priors.LogUniform object at 0x0000024CADBAC6A0>}\n",
      "\n",
      "planet_radius\n",
      "{'fit': True, 'bounds': None, 'mode': None, 'factor': None, 'prior': <taurex.core.priors.Uniform object at 0x0000024CADBAC700>}\n",
      "\n",
      "T_irr\n",
      "{'fit': True, 'bounds': None, 'mode': None, 'factor': None, 'prior': <taurex.core.priors.Uniform object at 0x0000024CADBAC0A0>}\n",
      "\n",
      "Unexpected exception formatting exception. Falling back to standard exception\n"
     ]
    },
    {
     "name": "stderr",
     "output_type": "stream",
     "text": [
      "Traceback (most recent call last):\n",
      "  File \"C:\\Users\\lukas\\anaconda3\\envs\\compla\\lib\\site-packages\\IPython\\core\\interactiveshell.py\", line 3505, in run_code\n",
      "    exec(code_obj, self.user_global_ns, self.user_ns)\n",
      "  File \"C:\\Users\\lukas\\AppData\\Local\\Temp\\ipykernel_10840\\164745783.py\", line 8, in <module>\n",
      "    pp.setup_optimizer(opt)\n",
      "  File \"C:\\Users\\lukas\\anaconda3\\envs\\compla\\lib\\site-packages\\taurex\\parameter\\parameterparser.py\", line 196, in setup_optimizer\n",
      "    optimizer.disable_fit(key)\n",
      "  File \"C:\\Users\\lukas\\anaconda3\\envs\\compla\\lib\\site-packages\\taurex\\optimizer\\optimizer.py\", line 320, in disable_fit\n",
      "    self._model.fittingParameters[parameter]\n",
      "KeyError: 'Offset_1'\n",
      "\n",
      "During handling of the above exception, another exception occurred:\n",
      "\n",
      "Traceback (most recent call last):\n",
      "  File \"C:\\Users\\lukas\\anaconda3\\envs\\compla\\lib\\site-packages\\IPython\\core\\interactiveshell.py\", line 2102, in showtraceback\n",
      "    stb = self.InteractiveTB.structured_traceback(\n",
      "  File \"C:\\Users\\lukas\\anaconda3\\envs\\compla\\lib\\site-packages\\IPython\\core\\ultratb.py\", line 1310, in structured_traceback\n",
      "    return FormattedTB.structured_traceback(\n",
      "  File \"C:\\Users\\lukas\\anaconda3\\envs\\compla\\lib\\site-packages\\IPython\\core\\ultratb.py\", line 1199, in structured_traceback\n",
      "    return VerboseTB.structured_traceback(\n",
      "  File \"C:\\Users\\lukas\\anaconda3\\envs\\compla\\lib\\site-packages\\IPython\\core\\ultratb.py\", line 1052, in structured_traceback\n",
      "    formatted_exception = self.format_exception_as_a_whole(etype, evalue, etb, number_of_lines_of_context,\n",
      "  File \"C:\\Users\\lukas\\anaconda3\\envs\\compla\\lib\\site-packages\\IPython\\core\\ultratb.py\", line 978, in format_exception_as_a_whole\n",
      "    frames.append(self.format_record(record))\n",
      "  File \"C:\\Users\\lukas\\anaconda3\\envs\\compla\\lib\\site-packages\\IPython\\core\\ultratb.py\", line 878, in format_record\n",
      "    frame_info.lines, Colors, self.has_colors, lvals\n",
      "  File \"C:\\Users\\lukas\\anaconda3\\envs\\compla\\lib\\site-packages\\IPython\\core\\ultratb.py\", line 712, in lines\n",
      "    return self._sd.lines\n",
      "  File \"C:\\Users\\lukas\\anaconda3\\envs\\compla\\lib\\site-packages\\stack_data\\utils.py\", line 145, in cached_property_wrapper\n",
      "    value = obj.__dict__[self.func.__name__] = self.func(obj)\n",
      "  File \"C:\\Users\\lukas\\anaconda3\\envs\\compla\\lib\\site-packages\\stack_data\\core.py\", line 698, in lines\n",
      "    pieces = self.included_pieces\n",
      "  File \"C:\\Users\\lukas\\anaconda3\\envs\\compla\\lib\\site-packages\\stack_data\\utils.py\", line 145, in cached_property_wrapper\n",
      "    value = obj.__dict__[self.func.__name__] = self.func(obj)\n",
      "  File \"C:\\Users\\lukas\\anaconda3\\envs\\compla\\lib\\site-packages\\stack_data\\core.py\", line 649, in included_pieces\n",
      "    pos = scope_pieces.index(self.executing_piece)\n",
      "  File \"C:\\Users\\lukas\\anaconda3\\envs\\compla\\lib\\site-packages\\stack_data\\utils.py\", line 145, in cached_property_wrapper\n",
      "    value = obj.__dict__[self.func.__name__] = self.func(obj)\n",
      "  File \"C:\\Users\\lukas\\anaconda3\\envs\\compla\\lib\\site-packages\\stack_data\\core.py\", line 628, in executing_piece\n",
      "    return only(\n",
      "  File \"C:\\Users\\lukas\\anaconda3\\envs\\compla\\lib\\site-packages\\executing\\executing.py\", line 164, in only\n",
      "    raise NotOneValueFound('Expected one value, found 0')\n",
      "executing.executing.NotOneValueFound: Expected one value, found 0\n"
     ]
    }
   ],
   "source": [
    "print(tm.fitting_parameters)\n",
    "\n",
    "opt.set_model(tm)\n",
    "\n",
    "\n",
    "\n",
    "# opt.update_model(tm.fittingParameters)\n",
    "pp.setup_optimizer(opt)\n"
   ],
   "metadata": {
    "collapsed": false,
    "pycharm": {
     "name": "#%%\n"
    }
   }
  },
  {
   "cell_type": "code",
   "execution_count": null,
   "outputs": [],
   "source": [
    "import sys\n",
    "from taurex.log import setLogLevel\n",
    "from taurex.cache import OpacityCache\n",
    "from taurex.parameter import ParameterInput\n",
    "from taurex.retrieval import Retrieval\n",
    "from taurex.output import OutputFile\n",
    "\n",
    "\n",
    "from taurex.parameter import P\n",
    "# Set log level\n",
    "setLogLevel('info')\n",
    "\n",
    "# Load input .par file\n",
    "input_file = 'quickstart.par'\n",
    "parameter_input = ParameterInput.from_file(input_file)\n",
    "\n",
    "# Initialize opacity cache\n",
    "opacity_cache = OpacityCache()\n",
    "\n",
    "# Create a retrieval object\n",
    "retrieval = Retrieval.from_parameter_input(parameter_input, opacity_cache)\n",
    "\n",
    "# Run the retrieval\n",
    "retrieval()\n",
    "\n",
    "# Set output .hdf5 file\n",
    "output_file = 'myfile_retrieval.hdf5'\n",
    "\n",
    "# Save the output\n",
    "with OutputFile.create(output_file, retrieval) as of:\n",
    "    of.write()\n",
    "\n",
    "# Plot the results (optional)\n",
    "if parameter_input.retrieval.plot:\n",
    "    retrieval.plot()\n",
    "\n",
    "print(f\"Retrieval complete. Results saved to: {output_file}\")"
   ],
   "metadata": {
    "collapsed": false,
    "pycharm": {
     "name": "#%%\n"
    }
   }
  }
 ],
 "metadata": {
  "kernelspec": {
   "display_name": "Python 3",
   "language": "python",
   "name": "python3"
  },
  "language_info": {
   "codemirror_mode": {
    "name": "ipython",
    "version": 2
   },
   "file_extension": ".py",
   "mimetype": "text/x-python",
   "name": "python",
   "nbconvert_exporter": "python",
   "pygments_lexer": "ipython2",
   "version": "2.7.6"
  }
 },
 "nbformat": 4,
 "nbformat_minor": 0
}