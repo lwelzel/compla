{
 "cells": [
  {
   "cell_type": "code",
   "execution_count": 19,
   "metadata": {
    "collapsed": true
   },
   "outputs": [],
   "source": [
    "import numpy as np\n",
    "import warnings\n",
    "from pathlib import Path\n",
    "from typing import List, Dict, Tuple, Any, Union, Callable\n",
    "from tqdm import tqdm\n",
    "\n",
    "import taurex.log\n",
    "import logging\n",
    "# taurex.log.disableLogging()\n",
    "from taurex.parameter import ParameterParser\n",
    "from taurex import OutputSize\n",
    "from taurex.output.hdf5 import HDF5Output\n",
    "from taurex.util.output import store_contributions\n",
    "\n",
    "WDIR = Path().cwd().parent"
   ]
  },
  {
   "cell_type": "code",
   "execution_count": 20,
   "outputs": [],
   "source": [
    "input_file_path = str(WDIR / \"data/synthetic_spectra/DEFAULT/default_synthetic_ultranest.par\")\n",
    "output_file_path = str(WDIR / \"data/synthetic_spectra/DEFAULT/default_synthetic_out.hdf5\")"
   ],
   "metadata": {
    "collapsed": false,
    "pycharm": {
     "name": "#%%\n"
    }
   }
  },
  {
   "cell_type": "code",
   "execution_count": 21,
   "outputs": [
    {
     "name": "stderr",
     "output_type": "stream",
     "text": [
      "taurex.ParamParser - INFO - Interpolation mode set to linear\n",
      "taurex.ParamParser - WARNING - Xsecs will be loaded in memory\n",
      "taurex.ParamParser - WARNING - Radis is disabled\n",
      "taurex.ParamParser - WARNING - Radis default grid will be used\n",
      "taurex.TransmissionModel - INFO - Building model........\n",
      "taurex.TransmissionModel - INFO - Collecting paramters\n"
     ]
    },
    {
     "ename": "AttributeError",
     "evalue": "'str' object has no attribute 'fitting_parameters'",
     "output_type": "error",
     "traceback": [
      "\u001B[1;31m---------------------------------------------------------------------------\u001B[0m",
      "\u001B[1;31mAttributeError\u001B[0m                            Traceback (most recent call last)",
      "Cell \u001B[1;32mIn[21], line 12\u001B[0m\n\u001B[0;32m     10\u001B[0m \u001B[38;5;66;03m# make fw model\u001B[39;00m\n\u001B[0;32m     11\u001B[0m model \u001B[38;5;241m=\u001B[39m pp\u001B[38;5;241m.\u001B[39mgenerate_appropriate_model(obs\u001B[38;5;241m=\u001B[39mobservation)\n\u001B[1;32m---> 12\u001B[0m \u001B[43mmodel\u001B[49m\u001B[38;5;241;43m.\u001B[39;49m\u001B[43mbuild\u001B[49m\u001B[43m(\u001B[49m\u001B[43m)\u001B[49m\n\u001B[0;32m     14\u001B[0m wngrid \u001B[38;5;241m=\u001B[39m \u001B[38;5;28;01mNone\u001B[39;00m\n\u001B[0;32m     16\u001B[0m \u001B[38;5;28;01mif\u001B[39;00m binning \u001B[38;5;241m==\u001B[39m \u001B[38;5;124m'\u001B[39m\u001B[38;5;124mobserved\u001B[39m\u001B[38;5;124m'\u001B[39m \u001B[38;5;129;01mand\u001B[39;00m observation \u001B[38;5;129;01mis\u001B[39;00m \u001B[38;5;28;01mNone\u001B[39;00m:\n",
      "File \u001B[1;32m~\\anaconda3\\envs\\compla\\lib\\site-packages\\taurex\\model\\simplemodel.py:225\u001B[0m, in \u001B[0;36mSimpleForwardModel.build\u001B[1;34m(self)\u001B[0m\n\u001B[0;32m    223\u001B[0m \u001B[38;5;28mself\u001B[39m\u001B[38;5;241m.\u001B[39m_compute_inital_mu()\n\u001B[0;32m    224\u001B[0m \u001B[38;5;28mself\u001B[39m\u001B[38;5;241m.\u001B[39minfo(\u001B[38;5;124m'\u001B[39m\u001B[38;5;124mCollecting paramters\u001B[39m\u001B[38;5;124m'\u001B[39m)\n\u001B[1;32m--> 225\u001B[0m \u001B[38;5;28;43mself\u001B[39;49m\u001B[38;5;241;43m.\u001B[39;49m\u001B[43mcollect_fitting_parameters\u001B[49m\u001B[43m(\u001B[49m\u001B[43m)\u001B[49m\n\u001B[0;32m    226\u001B[0m \u001B[38;5;28mself\u001B[39m\u001B[38;5;241m.\u001B[39mcollect_derived_parameters()\n\u001B[0;32m    227\u001B[0m \u001B[38;5;28mself\u001B[39m\u001B[38;5;241m.\u001B[39minfo(\u001B[38;5;124m'\u001B[39m\u001B[38;5;124mSetting up profiles\u001B[39m\u001B[38;5;124m'\u001B[39m)\n",
      "File \u001B[1;32m~\\anaconda3\\envs\\compla\\lib\\site-packages\\taurex\\model\\simplemodel.py:185\u001B[0m, in \u001B[0;36mSimpleForwardModel.collect_fitting_parameters\u001B[1;34m(self)\u001B[0m\n\u001B[0;32m    182\u001B[0m \u001B[38;5;28;01mfor\u001B[39;00m contrib \u001B[38;5;129;01min\u001B[39;00m \u001B[38;5;28mself\u001B[39m\u001B[38;5;241m.\u001B[39mcontribution_list:\n\u001B[0;32m    183\u001B[0m     \u001B[38;5;28mself\u001B[39m\u001B[38;5;241m.\u001B[39m_fitting_parameters\u001B[38;5;241m.\u001B[39mupdate(contrib\u001B[38;5;241m.\u001B[39mfitting_parameters())\n\u001B[1;32m--> 185\u001B[0m \u001B[38;5;28mself\u001B[39m\u001B[38;5;241m.\u001B[39m_fitting_parameters\u001B[38;5;241m.\u001B[39mupdate(\u001B[38;5;28;43mself\u001B[39;49m\u001B[38;5;241;43m.\u001B[39;49m\u001B[43m_observation\u001B[49m\u001B[38;5;241;43m.\u001B[39;49m\u001B[43mfitting_parameters\u001B[49m())\n\u001B[0;32m    187\u001B[0m \u001B[38;5;28mself\u001B[39m\u001B[38;5;241m.\u001B[39mdebug(\u001B[38;5;124m'\u001B[39m\u001B[38;5;124mAvailable Fitting params: \u001B[39m\u001B[38;5;132;01m%s\u001B[39;00m\u001B[38;5;124m'\u001B[39m,\n\u001B[0;32m    188\u001B[0m            \u001B[38;5;28mlist\u001B[39m(\u001B[38;5;28mself\u001B[39m\u001B[38;5;241m.\u001B[39m_fitting_parameters\u001B[38;5;241m.\u001B[39mkeys()))\n",
      "\u001B[1;31mAttributeError\u001B[0m: 'str' object has no attribute 'fitting_parameters'"
     ]
    }
   ],
   "source": [
    "# setup config parser\n",
    "pp = ParameterParser()\n",
    "pp.read(input_file_path)\n",
    "pp.setup_globals()\n",
    "\n",
    "# setup observations\n",
    "observation = pp.generate_observation()\n",
    "binning = pp.generate_binning()\n",
    "\n",
    "# make fw model\n",
    "model = pp.generate_appropriate_model(obs=observation)\n",
    "model.build()\n",
    "\n",
    "wngrid = None\n",
    "\n",
    "if binning == 'observed' and observation is None:\n",
    "    logging.critical('Binning selected from Observation yet None provided')\n",
    "    quit()\n",
    "\n",
    "if binning is None:\n",
    "    if observation is None or observation == 'self':\n",
    "        binning = model.defaultBinner()\n",
    "        wngrid = model.nativeWavenumberGrid\n",
    "    else:\n",
    "        binning = observation.create_binner()\n",
    "        wngrid = observation.wavenumberGrid\n",
    "else:\n",
    "    if binning == 'native':\n",
    "        binning = model.defaultBinner()\n",
    "        wngrid = model.nativeWavenumberGrid\n",
    "    elif binning == 'observed':\n",
    "        binning = observation.create_binner()\n",
    "        wngrid = observation.wavenumberGrid\n",
    "    else:\n",
    "        binning, wngrid = binning\n",
    "\n",
    "instrument = pp.generate_instrument(binner=binning)\n",
    "\n",
    "num_obs = 1\n",
    "if instrument is not None:\n",
    "    instrument, num_obs = instrument\n",
    "\n",
    "if observation == 'self' and instrument is None:\n",
    "    logging.getLogger('taurex').critical(\n",
    "        'Instrument nust be specified when using self option')\n",
    "    raise ValueError('No instruemnt specified for self option')\n",
    "\n",
    "inst_result = None\n",
    "if instrument is not None:\n",
    "    inst_result = instrument.model_noise(\n",
    "        model,\n",
    "        model_res=model.model(),\n",
    "        num_observations=num_obs\n",
    "    )\n",
    "\n",
    "# Observation on self\n",
    "if observation == 'self':\n",
    "    from taurex.data.spectrum import ArraySpectrum\n",
    "    from taurex.util.util import wnwidth_to_wlwidth\n",
    "    inst_wngrid, inst_spectrum, inst_noise, inst_width = inst_result\n",
    "\n",
    "    inst_wlgrid = 10000 / inst_wngrid\n",
    "\n",
    "    inst_wlwidth = wnwidth_to_wlwidth(inst_wngrid, inst_width)\n",
    "    observation = ArraySpectrum(\n",
    "        np.vstack([inst_wlgrid, inst_spectrum,\n",
    "                   inst_noise, inst_wlwidth]).T)\n",
    "    binning = observation.create_binner()\n",
    "\n",
    "instrument = pp.generate_instrument(binner=binning)\n",
    "\n",
    "num_obs = 1\n",
    "if instrument is not None:\n",
    "    instrument, num_obs = instrument\n",
    "\n",
    "if observation == 'self' and instrument is None:\n",
    "    logging.getLogger('taurex').critical(\n",
    "        'Instrument nust be specified when using self option')\n",
    "    raise ValueError('No instruemnt specified for self option')\n",
    "\n",
    "inst_result = None\n",
    "if instrument is not None:\n",
    "    inst_result = instrument.model_noise(\n",
    "        model, model_res=model.model(), num_observations=num_obs)\n",
    "\n",
    "# Observation on self\n",
    "if observation == 'self':\n",
    "    from taurex.data.spectrum import ArraySpectrum\n",
    "    from taurex.util.util import wnwidth_to_wlwidth\n",
    "    inst_wngrid, inst_spectrum, inst_noise, inst_width = inst_result\n",
    "\n",
    "    inst_wlgrid = 10000 / inst_wngrid\n",
    "\n",
    "    inst_wlwidth = wnwidth_to_wlwidth(inst_wngrid, inst_width)\n",
    "    observation = ArraySpectrum(\n",
    "        np.vstack([inst_wlgrid, inst_spectrum,\n",
    "                   inst_noise, inst_wlwidth]).T)\n",
    "    binning = observation.create_binner()\n",
    "\n",
    "    model = model.model(wngrid=inst_wlwidth)\n",
    "\n",
    "# output hdf5\n",
    "with HDF5Output(output_file_path) as o:\n",
    "    model.write(o)"
   ],
   "metadata": {
    "collapsed": false,
    "pycharm": {
     "name": "#%%\n"
    }
   }
  },
  {
   "cell_type": "code",
   "execution_count": null,
   "outputs": [],
   "source": [],
   "metadata": {
    "collapsed": false,
    "pycharm": {
     "name": "#%%\n"
    }
   }
  }
 ],
 "metadata": {
  "kernelspec": {
   "display_name": "Python 3",
   "language": "python",
   "name": "python3"
  },
  "language_info": {
   "codemirror_mode": {
    "name": "ipython",
    "version": 2
   },
   "file_extension": ".py",
   "mimetype": "text/x-python",
   "name": "python",
   "nbconvert_exporter": "python",
   "pygments_lexer": "ipython2",
   "version": "2.7.6"
  }
 },
 "nbformat": 4,
 "nbformat_minor": 0
}