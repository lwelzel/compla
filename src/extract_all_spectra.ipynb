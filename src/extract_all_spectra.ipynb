{
 "cells": [
  {
   "cell_type": "markdown",
   "source": [
    "### Read all spectra into same format\n",
    "1. Get all saved spectra and try to force them into same namespace with uniform metadata\n",
    "2. Check if there are the same spectra (or subparts in the spectra and note these)\n",
    "3. Try to remove the same spectra\n",
    "4. Save all spectra to uniform name space"
   ],
   "metadata": {
    "collapsed": false
   }
  },
  {
   "cell_type": "code",
   "execution_count": 60,
   "outputs": [],
   "source": [
    "import numpy as np\n",
    "import pandas as pd\n",
    "from pandas.errors import ParserWarning\n",
    "import re\n",
    "from pathlib import Path\n",
    "import warnings"
   ],
   "metadata": {
    "collapsed": false,
    "ExecuteTime": {
     "start_time": "2023-04-03T11:57:14.973936Z",
     "end_time": "2023-04-03T11:57:15.028255Z"
    }
   }
  },
  {
   "cell_type": "code",
   "execution_count": 3,
   "outputs": [],
   "source": [
    "# local setup\n",
    "WDIR = Path().cwd().parent"
   ],
   "metadata": {
    "collapsed": false,
    "ExecuteTime": {
     "start_time": "2023-04-03T10:54:44.355694Z",
     "end_time": "2023-04-03T10:54:44.370778Z"
    }
   }
  },
  {
   "cell_type": "code",
   "execution_count": 4,
   "outputs": [],
   "source": [
    "# load data of all planets with transmission or emission data from exoplanet archive\n",
    "EMISSION_DATABASE_PATH = WDIR / \"data/emissionspec.csv\"\n",
    "TRANSMISSION_DATABASE_PATH = WDIR / \"data/transitspec.csv\"\n",
    "\n",
    "df_emission = pd.read_csv(EMISSION_DATABASE_PATH, header=18, index_col=0)\n",
    "df_transmission = pd.read_csv(TRANSMISSION_DATABASE_PATH, header=26, index_col=0)\n"
   ],
   "metadata": {
    "collapsed": false,
    "ExecuteTime": {
     "start_time": "2023-04-03T10:54:45.125395Z",
     "end_time": "2023-04-03T10:54:45.142876Z"
    }
   }
  },
  {
   "cell_type": "code",
   "execution_count": 5,
   "outputs": [],
   "source": [
    "# read all spectra\n",
    "# BE spectra\n",
    "SPECTRA_BE_PATH = WDIR / \"data/SpectraBE\"\n",
    "# Transmission spectra\n",
    "TRANSMISSION_SPECTRA_PATH = WDIR / \"data/transmission\"\n",
    "# Emission spectra\n",
    "EMISSION_SPECTRA_PATH = WDIR / \"data/emission\"\n"
   ],
   "metadata": {
    "collapsed": false,
    "ExecuteTime": {
     "start_time": "2023-04-03T10:54:45.882912Z",
     "end_time": "2023-04-03T10:54:45.894161Z"
    }
   }
  },
  {
   "cell_type": "code",
   "execution_count": 111,
   "outputs": [],
   "source": [
    "exts = [\".txt\", \".csv\"]\n",
    "def get_all_spectra_files_in_path(path, ):\n",
    "    paths = list([\n",
    "        p for p in Path(path).glob('*') if (p.suffix in exts and p.is_file())\n",
    "    ])\n",
    "    return paths"
   ],
   "metadata": {
    "collapsed": false,
    "ExecuteTime": {
     "start_time": "2023-04-03T15:23:44.824146Z",
     "end_time": "2023-04-03T15:23:44.865286Z"
    }
   }
  },
  {
   "cell_type": "code",
   "execution_count": 121,
   "outputs": [],
   "source": [
    "re_author = \"\"\n",
    "\n",
    "class Spectrum:\n",
    "    \"\"\"\n",
    "    Class to read and write uniform spectrum files from diverse input data.\n",
    "    \"\"\"\n",
    "\n",
    "    cases = {\n",
    "        \"SpectraBE\": {\n",
    "            \"type\": \".txt\",\n",
    "            \"case\": \"SpectraBE\",\n",
    "            # \"data_reader\": None,\n",
    "            \"pd_kws\": {\n",
    "                \"header\": None,\n",
    "                \"index_col\": False,\n",
    "                \"delimiter\": \"\\\\s+\",\n",
    "                \"engine\": \"python\",\n",
    "                \"comment\": \"#\",\n",
    "                \"names\": [\"Wavelength (microns)\", \"Delta Wavelength (microns)\", \"(Rp/Rs)^2\", \"(Rp/Rs)^2 +/-uncertainty\"],\n",
    "            }\n",
    "        },\n",
    "        \"transmission\": {\n",
    "            \"case\": \"transmission\",\n",
    "        },\n",
    "        \"transmission.txt\": {\n",
    "            \"type\": \".txt\",\n",
    "            \"case\": \"transmission.txt\",\n",
    "            # \"data_reader\": None,\n",
    "            \"pd_kws\": {\n",
    "                \"skiprows\": 15,\n",
    "                \"header\": None,\n",
    "                \"index_col\": False,\n",
    "                \"delimiter\": \"\\\\s+\",\n",
    "                \"engine\": \"python\",\n",
    "                \"comment\": \"#\",\n",
    "                \"names\": [\"Wavelength (microns)\", \"Delta Wavelength (microns)\", \"(Rp/Rs)^2\", \"(Rp/Rs)^2 +/-uncertainty\"],\n",
    "            }\n",
    "        },\n",
    "        \"transmission.csv\": {\n",
    "            \"type\": \".csv\",\n",
    "            \"case\": \"transmission.csv\",\n",
    "            # \"data_reader\": None,\n",
    "            \"pd_kws\": {\n",
    "                # \"skiprows\": 15,\n",
    "                \"header\": 0,\n",
    "                \"index_col\": False,\n",
    "                # \"delimiter\": \",\",\n",
    "                \"engine\": \"python\",\n",
    "                \"names\": [\"Wavelength (microns)\", \"Delta Wavelength (microns)\", \"(Rp/Rs)^2\", \"(Rp/Rs)^2 +/-uncertainty\"],\n",
    "            }\n",
    "        },\n",
    "    }\n",
    "\n",
    "    def __init__(self, path: Path):\n",
    "        if isinstance(path, str):\n",
    "            path = Path(path)\n",
    "        self.path = path\n",
    "        self.name = path.name\n",
    "        self.origin = path.parent.name\n",
    "        self.in_dtype = path.suffix\n",
    "\n",
    "        self.case = None\n",
    "        self.data_reader = None\n",
    "        self.in_data = None\n",
    "\n",
    "        self.out_filename = None\n",
    "        self.out_data = None\n",
    "\n",
    "        self.infer_case()\n",
    "        warnings.filterwarnings(\"error\")\n",
    "        try:\n",
    "            self.data_reader()\n",
    "        except ParserWarning:\n",
    "            warnings.resetwarnings()\n",
    "            self.case[\"pd_kws\"] = self.__class__.cases[\"SpectraBE\"][\"pd_kws\"]\n",
    "            self.case[\"pd_kws\"][\"delimiter\"] =  \"\\\\s+\" # \"    \" # None # \"    \"\n",
    "            self.case[\"pd_kws\"][\"engine\"] =  \"python\"\n",
    "            self.case[\"pd_kws\"][\"comment\"] =  \"#\"\n",
    "            if self.name == \"WASP-121b_Transmission_STIS_WFC3_Evans2018_AJ.txt\":\n",
    "                self.case[\"pd_kws\"][\"names\"] = ['Wavelength (microns)',\n",
    "                                                'Channel 1/2-width(microns)',\n",
    "                                                'Rpl/Rstar',\n",
    "                                                'Rpl/Rstar -1sigma error',\n",
    "                                                'Rpl/Rstar+1sigma error']\n",
    "            self.data_reader()\n",
    "        warnings.resetwarnings()\n",
    "\n",
    "    def __repr__(self):\n",
    "        s = f\"Spectrum object: \" \\\n",
    "            f\"Name: {self.name} \" \\\n",
    "            f\"Type: {self.in_dtype} \" \\\n",
    "            f\"Origin: {self.origin} \" \\\n",
    "            f\"at {self.path}\"\n",
    "        return s\n",
    "\n",
    "    def infer_case(self):\n",
    "        self.case = self.__class__.cases[self.origin]\n",
    "        if self.case[\"case\"] == \"transmission\":\n",
    "            self.case = self.__class__.cases[self.origin + self.in_dtype]\n",
    "\n",
    "        if self.case[\"case\"] == \"SpectraBE\":\n",
    "            self.data_reader = self.read_txt\n",
    "        elif self.case[\"case\"] == \"transmission.txt\":\n",
    "            self.data_reader = self.read_txt\n",
    "        elif self.case[\"case\"] == \"transmission.csv\":\n",
    "            self.data_reader = self.read_csv\n",
    "        else:\n",
    "            raise NotImplementedError(\"infer_case could not infer case\")\n",
    "\n",
    "    def read_txt(self, ):\n",
    "        self.in_data = pd.read_table(self.path, **self.case[\"pd_kws\"])\n",
    "        # print(self.in_data)\n",
    "\n",
    "    def read_csv(self, ):\n",
    "        self.in_data = pd.read_csv(self.path, **self.case[\"pd_kws\"])\n",
    "        # print(self.in_data)\n",
    "\n",
    "    def _info_from_file_name(self, uid=0):\n",
    "        split_name = str(self.name).split(\"_\")\n",
    "        planet = split_name[0]\n",
    "        instrument = \"\" # default NA\n",
    "        author = \"\" # default NA\n",
    "        year = \"\" # default NA\n",
    "\n",
    "        self.out_filename = f\"{planet}_{uid}.txt\"\n",
    "\n",
    "\n",
    "    def _write_out_data(self):\n",
    "        self.out_data = self.in_data.copy(deep=True)\n",
    "\n",
    "        if self.name == \"WASP-121b_Transmission_STIS_WFC3_Evans2018_AJ.txt\":\n",
    "            # \"Wavelength (microns)\", \"Delta Wavelength (microns)\", \"(Rp/Rs)^2\", \"(Rp/Rs)^2 +/-uncertainty\"\n",
    "            self.out_data[\"Delta Wavelength (microns)\"] = 2 * self.out_data['Channel 1/2-width(microns)']\n",
    "            self.out_data[\"(Rp/Rs)^2\"] = self.out_data['Rpl/Rstar'] ** 2\n",
    "            self.out_data[\"(Rp/Rs)^2 +/-uncertainty\"] = self.out_data[['Rpl/Rstar -1sigma error', 'Rpl/Rstar+1sigma error']].max(axis=1)\n",
    "\n",
    "            self.out_data = self.out_data[[\"Wavelength (microns)\", \"Delta Wavelength (microns)\", \"(Rp/Rs)^2\", \"(Rp/Rs)^2 +/-uncertainty\"]]\n",
    "\n",
    "        # TODO write out data for other cases which have mismatched entries\n",
    "        # match conversions using dict mapping\n",
    "\n",
    "\n",
    "    def save_data(self, dir_path=WDIR / \"data/out_data\", uid=0):\n",
    "        self._info_from_file_name(uid=uid)\n",
    "        self._write_out_data()\n",
    "\n",
    "        file_path = dir_path / self.out_filename\n",
    "        self.out_data.to_csv(file_path,\n",
    "                             sep=\" \", header=False, index=False,\n",
    "                             float_format=\"%.32e\") # 32 digit precision, overkill\n",
    "\n"
   ],
   "metadata": {
    "collapsed": false,
    "ExecuteTime": {
     "start_time": "2023-04-03T16:33:04.763082Z",
     "end_time": "2023-04-03T16:33:04.840134Z"
    }
   }
  },
  {
   "cell_type": "code",
   "execution_count": 123,
   "outputs": [
    {
     "name": "stderr",
     "output_type": "stream",
     "text": [
      "/tmp/ipykernel_1086046/3030999262.py:111: ParserWarning: Length of header or names does not match length of data. This leads to a loss of data with index_col=False.\n",
      "  self.in_data = pd.read_table(self.path, **self.case[\"pd_kws\"])\n"
     ]
    }
   ],
   "source": [
    "files_be = get_all_spectra_files_in_path(SPECTRA_BE_PATH)\n",
    "files_transmission = get_all_spectra_files_in_path(TRANSMISSION_SPECTRA_PATH)\n",
    "\n",
    "all_files = [*files_be, *files_transmission]\n",
    "\n",
    "all_spectra = [Spectrum(file) for file in all_files]\n",
    "\n",
    "[spec.save_data(uid=i) for i, spec in enumerate(all_spectra)];"
   ],
   "metadata": {
    "collapsed": false,
    "ExecuteTime": {
     "start_time": "2023-04-03T16:58:41.774533Z",
     "end_time": "2023-04-03T16:58:42.666347Z"
    }
   }
  },
  {
   "cell_type": "code",
   "execution_count": 56,
   "outputs": [
    {
     "ename": "ParserWarning",
     "evalue": "",
     "output_type": "error",
     "traceback": [
      "\u001B[0;31m---------------------------------------------------------------------------\u001B[0m",
      "\u001B[0;31mParserWarning\u001B[0m                             Traceback (most recent call last)",
      "Cell \u001B[0;32mIn[56], line 3\u001B[0m\n\u001B[1;32m      1\u001B[0m \u001B[38;5;28;01mfrom\u001B[39;00m \u001B[38;5;21;01mpandas\u001B[39;00m\u001B[38;5;21;01m.\u001B[39;00m\u001B[38;5;21;01merrors\u001B[39;00m \u001B[38;5;28;01mimport\u001B[39;00m ParserWarning\n\u001B[0;32m----> 3\u001B[0m \u001B[38;5;28;01mraise\u001B[39;00m ParserWarning\n",
      "\u001B[0;31mParserWarning\u001B[0m: "
     ]
    }
   ],
   "source": [],
   "metadata": {
    "collapsed": false
   }
  },
  {
   "cell_type": "code",
   "execution_count": 116,
   "outputs": [
    {
     "ename": "MissingSectionHeaderError",
     "evalue": "File contains no section headers.\nfile: PosixPath('/home/lukasw/Documents/git/compla/data/transmission/HAT-P-1b_transmission_Sing2016.txt'), line: 13\n'         0.3625000    0.03750000   0.01412295   0.00010458  \\n'",
     "output_type": "error",
     "traceback": [
      "\u001B[0;31m---------------------------------------------------------------------------\u001B[0m",
      "\u001B[0;31mMissingSectionHeaderError\u001B[0m                 Traceback (most recent call last)",
      "Cell \u001B[0;32mIn[116], line 4\u001B[0m\n\u001B[1;32m      1\u001B[0m \u001B[38;5;28;01mfrom\u001B[39;00m \u001B[38;5;21;01mconfigparser\u001B[39;00m \u001B[38;5;28;01mimport\u001B[39;00m ConfigParser\n\u001B[1;32m      2\u001B[0m config \u001B[38;5;241m=\u001B[39m ConfigParser()\n\u001B[0;32m----> 4\u001B[0m \u001B[43mconfig\u001B[49m\u001B[38;5;241;43m.\u001B[39;49m\u001B[43mread\u001B[49m\u001B[43m(\u001B[49m\u001B[43m(\u001B[49m\u001B[43mWDIR\u001B[49m\u001B[43m \u001B[49m\u001B[38;5;241;43m/\u001B[39;49m\u001B[43m \u001B[49m\u001B[38;5;124;43m\"\u001B[39;49m\u001B[38;5;124;43mdata/transmission/HAT-P-1b_transmission_Sing2016.txt\u001B[39;49m\u001B[38;5;124;43m\"\u001B[39;49m\u001B[43m)\u001B[49m\u001B[43m)\u001B[49m\n\u001B[1;32m      6\u001B[0m \u001B[38;5;28mprint\u001B[39m(config)\n",
      "File \u001B[0;32m~/miniconda3/envs/compla/lib/python3.9/configparser.py:697\u001B[0m, in \u001B[0;36mRawConfigParser.read\u001B[0;34m(self, filenames, encoding)\u001B[0m\n\u001B[1;32m    695\u001B[0m \u001B[38;5;28;01mtry\u001B[39;00m:\n\u001B[1;32m    696\u001B[0m     \u001B[38;5;28;01mwith\u001B[39;00m \u001B[38;5;28mopen\u001B[39m(filename, encoding\u001B[38;5;241m=\u001B[39mencoding) \u001B[38;5;28;01mas\u001B[39;00m fp:\n\u001B[0;32m--> 697\u001B[0m         \u001B[38;5;28;43mself\u001B[39;49m\u001B[38;5;241;43m.\u001B[39;49m\u001B[43m_read\u001B[49m\u001B[43m(\u001B[49m\u001B[43mfp\u001B[49m\u001B[43m,\u001B[49m\u001B[43m \u001B[49m\u001B[43mfilename\u001B[49m\u001B[43m)\u001B[49m\n\u001B[1;32m    698\u001B[0m \u001B[38;5;28;01mexcept\u001B[39;00m \u001B[38;5;167;01mOSError\u001B[39;00m:\n\u001B[1;32m    699\u001B[0m     \u001B[38;5;28;01mcontinue\u001B[39;00m\n",
      "File \u001B[0;32m~/miniconda3/envs/compla/lib/python3.9/configparser.py:1085\u001B[0m, in \u001B[0;36mRawConfigParser._read\u001B[0;34m(self, fp, fpname)\u001B[0m\n\u001B[1;32m   1083\u001B[0m \u001B[38;5;66;03m# no section header in the file?\u001B[39;00m\n\u001B[1;32m   1084\u001B[0m \u001B[38;5;28;01melif\u001B[39;00m cursect \u001B[38;5;129;01mis\u001B[39;00m \u001B[38;5;28;01mNone\u001B[39;00m:\n\u001B[0;32m-> 1085\u001B[0m     \u001B[38;5;28;01mraise\u001B[39;00m MissingSectionHeaderError(fpname, lineno, line)\n\u001B[1;32m   1086\u001B[0m \u001B[38;5;66;03m# an option line?\u001B[39;00m\n\u001B[1;32m   1087\u001B[0m \u001B[38;5;28;01melse\u001B[39;00m:\n\u001B[1;32m   1088\u001B[0m     mo \u001B[38;5;241m=\u001B[39m \u001B[38;5;28mself\u001B[39m\u001B[38;5;241m.\u001B[39m_optcre\u001B[38;5;241m.\u001B[39mmatch(value)\n",
      "\u001B[0;31mMissingSectionHeaderError\u001B[0m: File contains no section headers.\nfile: PosixPath('/home/lukasw/Documents/git/compla/data/transmission/HAT-P-1b_transmission_Sing2016.txt'), line: 13\n'         0.3625000    0.03750000   0.01412295   0.00010458  \\n'"
     ]
    }
   ],
   "source": [
    "# parser cannot properly handle # commented lines -> useless\n",
    "\n",
    "from configparser import ConfigParser\n",
    "config = ConfigParser()\n",
    "\n",
    "config.read((WDIR / \"data/transmission/HAT-P-1b_transmission_Sing2016.txt\"))\n",
    "\n",
    "print(config)"
   ],
   "metadata": {
    "collapsed": false
   }
  },
  {
   "cell_type": "code",
   "execution_count": null,
   "outputs": [],
   "source": [
    "# pattern:\n",
    "# [(STIS)|(WFC3)|(WFC)]\n",
    "# [GE][0-9][0-9][0-9][MLH(MB)(LB)]\n",
    "# GO [0-9]{5}\n"
   ],
   "metadata": {
    "collapsed": false
   }
  },
  {
   "cell_type": "code",
   "execution_count": 127,
   "outputs": [
    {
     "name": "stdout",
     "output_type": "stream",
     "text": [
      "    Wavelength (microns)  Channel 1/2-width(microns)  Rpl/Rstar  \\\n",
      "0                1.12625                    0.011557   0.000054   \n",
      "1                1.14775                    0.011585   0.000052   \n",
      "2                1.16860                    0.011570   0.000047   \n",
      "3                1.18880                    0.011551   0.000041   \n",
      "4                1.20835                    0.011534   0.000048   \n",
      "5                1.22750                    0.011614   0.000050   \n",
      "6                1.24645                    0.011578   0.000042   \n",
      "7                1.26550                    0.011572   0.000047   \n",
      "8                1.28475                    0.011574   0.000044   \n",
      "9                1.30380                    0.011414   0.000048   \n",
      "10               1.32260                    0.011480   0.000036   \n",
      "11               1.34145                    0.011686   0.000050   \n",
      "12               1.36050                    0.011713   0.000043   \n",
      "13               1.38005                    0.011721   0.000046   \n",
      "14               1.40000                    0.011649   0.000044   \n",
      "15               1.42015                    0.011714   0.000046   \n",
      "16               1.44060                    0.011691   0.000042   \n",
      "17               1.46150                    0.011701   0.000043   \n",
      "18               1.48310                    0.011689   0.000048   \n",
      "19               1.50530                    0.011737   0.000042   \n",
      "20               1.52800                    0.011707   0.000042   \n",
      "21               1.55155                    0.011652   0.000054   \n",
      "22               1.57625                    0.011518   0.000048   \n",
      "23               1.60210                    0.011598   0.000040   \n",
      "24               1.62945                    0.011535   0.000056   \n",
      "\n",
      "    Rpl/Rstar -1sigma error  Rpl/Rstar+1sigma error  \n",
      "0                    0.0219                     NaN  \n",
      "1                    0.0211                     NaN  \n",
      "2                    0.0206                     NaN  \n",
      "3                    0.0198                     NaN  \n",
      "4                    0.0193                     NaN  \n",
      "5                    0.0190                     NaN  \n",
      "6                    0.0189                     NaN  \n",
      "7                    0.0192                     NaN  \n",
      "8                    0.0193                     NaN  \n",
      "9                    0.0188                     NaN  \n",
      "10                   0.0188                     NaN  \n",
      "11                   0.0189                     NaN  \n",
      "12                   0.0192                     NaN  \n",
      "13                   0.0199                     NaN  \n",
      "14                   0.0200                     NaN  \n",
      "15                   0.0203                     NaN  \n",
      "16                   0.0206                     NaN  \n",
      "17                   0.0212                     NaN  \n",
      "18                   0.0220                     NaN  \n",
      "19                   0.0224                     NaN  \n",
      "20                   0.0230                     NaN  \n",
      "21                   0.0241                     NaN  \n",
      "22                   0.0253                     NaN  \n",
      "23                   0.0264                     NaN  \n",
      "24                   0.0283                     NaN  \n"
     ]
    },
    {
     "data": {
      "text/plain": "<Figure size 640x480 with 1 Axes>",
      "image/png": "[encoded data removed]"
     },
     "metadata": {},
     "output_type": "display_data"
    }
   ],
   "source": [
    "import matplotlib.pyplot as plt\n",
    "import seaborn as sns\n",
    "\n",
    "data = all_spectra[0].out_data\n",
    "\n",
    "print(data)\n",
    "\n",
    "fig, ax = plt.subplots()\n",
    "# [\"Wavelength (microns)\", \"Delta Wavelength (microns)\", \"(Rp/Rs)^2\", \"(Rp/Rs)^2 +/-uncertainty\"]\n",
    "sns.scatterplot(data=data,\n",
    "                x=\"Wavelength (microns)\",\n",
    "                y=\"Rpl/Rstar\")\n",
    "plt.show()"
   ],
   "metadata": {
    "collapsed": false,
    "ExecuteTime": {
     "start_time": "2023-04-03T17:00:50.977006Z",
     "end_time": "2023-04-03T17:00:51.110460Z"
    }
   }
  },
  {
   "cell_type": "code",
   "execution_count": null,
   "outputs": [],
   "source": [],
   "metadata": {
    "collapsed": false
   }
  }
 ],
 "metadata": {
  "kernelspec": {
   "display_name": "Python 3",
   "language": "python",
   "name": "python3"
  },
  "language_info": {
   "codemirror_mode": {
    "name": "ipython",
    "version": 2
   },
   "file_extension": ".py",
   "mimetype": "text/x-python",
   "name": "python",
   "nbconvert_exporter": "python",
   "pygments_lexer": "ipython2",
   "version": "2.7.6"
  }
 },
 "nbformat": 4,
 "nbformat_minor": 0
}
