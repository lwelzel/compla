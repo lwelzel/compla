{
 "cells": [
  {
   "cell_type": "code",
   "execution_count": 1,
   "metadata": {
    "collapsed": true,
    "ExecuteTime": {
     "start_time": "2023-05-08T15:29:23.228806Z",
     "end_time": "2023-05-08T15:29:24.276265Z"
    }
   },
   "outputs": [
    {
     "name": "stderr",
     "output_type": "stream",
     "text": [
      "Ignoring PCI device with non-16bit domain.\n",
      "Pass --enable-32bits-pci-domain to configure to support such devices\n",
      "(warning: it would break the library ABI, don't enable unless really needed).\n",
      "Ignoring PCI device with non-16bit domain.\n",
      "Pass --enable-32bits-pci-domain to configure to support such devices\n",
      "(warning: it would break the library ABI, don't enable unless really needed).\n"
     ]
    }
   ],
   "source": [
    "from divergence_plotting import *\n",
    "from basic_plotting import get_target_results\n",
    "from universal_divergence import estimate\n",
    "\n",
    "# Autoreload extension\n",
    "if 'autoreload' not in get_ipython().extension_manager.loaded:\n",
    "    %load_ext autoreload\n",
    "\n",
    "%autoreload 2\n",
    "\n",
    "WDIR = Path().cwd().parent"
   ]
  },
  {
   "cell_type": "code",
   "execution_count": 2,
   "outputs": [
    {
     "name": "stderr",
     "output_type": "stream",
     "text": [
      "                      \r"
     ]
    }
   ],
   "source": [
    "_dirs = [\n",
    "    \"WASP-19b\",\n",
    "    \"WASP-17b\",\n",
    "    \"WASP-12b\",\n",
    "    \"HD-189733b\",\n",
    "    \"HAT-P-26b\",\n",
    "    \"HAT-P-12b\",\n",
    "    \"HAT-P-1b\",\n",
    "    # \"WASP-39b\",\n",
    "    # \"WASP-121b\",\n",
    "]\n",
    "\n",
    "# dirs = [WDIR / \"data/retrievals\" / d for d in _dirs]\n",
    "\n",
    "dirs = [WDIR / \"data/synthetic_spectra\" / d for d in _dirs]\n",
    "\n",
    "planets = []\n",
    "\n",
    "for d in dirs:\n",
    "    # par_names, traces, weights, truths, subsamples, divergences_truth, cross_divergences\n",
    "    divs = get_high_weight_subsample(d)\n",
    "\n",
    "    planets.append(divs)\n",
    "\n"
   ],
   "metadata": {
    "collapsed": false,
    "ExecuteTime": {
     "start_time": "2023-05-08T15:29:44.758403Z",
     "end_time": "2023-05-08T15:30:35.561320Z"
    }
   }
  },
  {
   "cell_type": "code",
   "execution_count": 5,
   "outputs": [
    {
     "name": "stdout",
     "output_type": "stream",
     "text": [
      "(7, 7)\n"
     ]
    }
   ],
   "source": [
    "data = np.array(planets, dtype=object).T\n",
    "print(data.shape)"
   ],
   "metadata": {
    "collapsed": false,
    "ExecuteTime": {
     "start_time": "2023-05-08T15:32:26.676748Z",
     "end_time": "2023-05-08T15:32:26.727350Z"
    }
   }
  },
  {
   "cell_type": "code",
   "execution_count": 7,
   "outputs": [
    {
     "name": "stdout",
     "output_type": "stream",
     "text": [
      "[array(['planet_radius', 'T', 'ace_metallicity', 'ace_co_ratio'],\n",
      "      dtype='<U15'), array(['planet_radius', 'T', 'ace_metallicity', 'ace_co_ratio',\n",
      "       'Offset_2'], dtype='<U15'), array(['planet_radius', 'T', 'ace_metallicity', 'ace_co_ratio'],\n",
      "      dtype='<U15')]\n"
     ]
    },
    {
     "ename": "ValueError",
     "evalue": "The truth value of an array with more than one element is ambiguous. Use a.any() or a.all()",
     "output_type": "error",
     "traceback": [
      "\u001B[0;31m---------------------------------------------------------------------------\u001B[0m",
      "\u001B[0;31mValueError\u001B[0m                                Traceback (most recent call last)",
      "Cell \u001B[0;32mIn[7], line 22\u001B[0m\n\u001B[1;32m     18\u001B[0m         \u001B[38;5;28mprint\u001B[39m(truth, divergence_truth, cross_divergences)\n\u001B[1;32m     20\u001B[0m         \u001B[38;5;66;03m# ax.scatter()\u001B[39;00m\n\u001B[0;32m---> 22\u001B[0m \u001B[43mplot_divergence_par\u001B[49m\u001B[43m(\u001B[49m\u001B[38;5;124;43m\"\u001B[39;49m\u001B[38;5;124;43mace_co_ratio\u001B[39;49m\u001B[38;5;124;43m\"\u001B[39;49m\u001B[43m,\u001B[49m\u001B[43m \u001B[49m\u001B[43mdata\u001B[49m\u001B[43m)\u001B[49m\n",
      "Cell \u001B[0;32mIn[7], line 9\u001B[0m, in \u001B[0;36mplot_divergence_par\u001B[0;34m(par_name, data)\u001B[0m\n\u001B[1;32m      5\u001B[0m \u001B[38;5;28;01mfor\u001B[39;00m p \u001B[38;5;129;01min\u001B[39;00m \u001B[38;5;28mrange\u001B[39m(data\u001B[38;5;241m.\u001B[39mshape[\u001B[38;5;241m1\u001B[39m]):\n\u001B[1;32m      7\u001B[0m     \u001B[38;5;28mprint\u001B[39m(data[\u001B[38;5;241m0\u001B[39m, p])\n\u001B[0;32m----> 9\u001B[0m     \u001B[38;5;28;01mif\u001B[39;00m \u001B[38;5;129;01mnot\u001B[39;00m \u001B[43mpar_name\u001B[49m\u001B[43m \u001B[49m\u001B[38;5;129;43;01min\u001B[39;49;00m\u001B[43m \u001B[49m\u001B[43mdata\u001B[49m\u001B[43m[\u001B[49m\u001B[38;5;241;43m0\u001B[39;49m\u001B[43m,\u001B[49m\u001B[43m \u001B[49m\u001B[43mp\u001B[49m\u001B[43m]\u001B[49m:\n\u001B[1;32m     10\u001B[0m         \u001B[38;5;28;01mcontinue\u001B[39;00m\n\u001B[1;32m     12\u001B[0m     idx \u001B[38;5;241m=\u001B[39m np\u001B[38;5;241m.\u001B[39margwhere(data[\u001B[38;5;241m0\u001B[39m, p] \u001B[38;5;241m==\u001B[39m par_name)\n",
      "\u001B[0;31mValueError\u001B[0m: The truth value of an array with more than one element is ambiguous. Use a.any() or a.all()"
     ]
    }
   ],
   "source": [
    "def plot_divergence_par(par_name, data):\n",
    "\n",
    "    # fig, ax = plt.subplots(1,1)\n",
    "\n",
    "    for p in range(data.shape[1]):\n",
    "\n",
    "        print(data[0, p])\n",
    "\n",
    "        if not par_name in data[0, p]:\n",
    "            continue\n",
    "\n",
    "        idx = np.argwhere(data[0, p] == par_name)\n",
    "\n",
    "        truth = data[3, p][idx]\n",
    "        divergence_truth = data[5, p][par_name]\n",
    "        cross_divergences = data[6, p][par_name]\n",
    "\n",
    "        print(truth, divergence_truth, cross_divergences)\n",
    "\n",
    "        # ax.scatter()\n",
    "\n",
    "plot_divergence_par(\"ace_co_ratio\", data)"
   ],
   "metadata": {
    "collapsed": false
   }
  },
  {
   "cell_type": "code",
   "execution_count": null,
   "outputs": [],
   "source": [],
   "metadata": {
    "collapsed": false
   }
  }
 ],
 "metadata": {
  "kernelspec": {
   "display_name": "Python 3",
   "language": "python",
   "name": "python3"
  },
  "language_info": {
   "codemirror_mode": {
    "name": "ipython",
    "version": 2
   },
   "file_extension": ".py",
   "mimetype": "text/x-python",
   "name": "python",
   "nbconvert_exporter": "python",
   "pygments_lexer": "ipython2",
   "version": "2.7.6"
  }
 },
 "nbformat": 4,
 "nbformat_minor": 0
}
