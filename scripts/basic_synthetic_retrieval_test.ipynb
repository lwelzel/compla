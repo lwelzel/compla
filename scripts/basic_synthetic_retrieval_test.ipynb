{
 "cells": [
  {
   "cell_type": "code",
   "execution_count": 9,
   "metadata": {
    "collapsed": true
   },
   "outputs": [
    {
     "name": "stdout",
     "output_type": "stream",
     "text": [
      "The autoreload extension is already loaded. To reload it, use:\n",
      "  %reload_ext autoreload\n"
     ]
    }
   ],
   "source": [
    "from pathlib import Path\n",
    "from src.par_file_writer import write_par_file, get_target_data\n",
    "from src.retrieval_runner import run_retrieval\n",
    "# Autoreload extension\n",
    "if 'autoreload' not in get_ipython().extension_manager.loaded:\n",
    "    %load_ext autoreload\n",
    "\n",
    "%autoreload 2\n",
    "\n",
    "WDIR = Path().cwd().parent"
   ]
  },
  {
   "cell_type": "code",
   "execution_count": 2,
   "outputs": [],
   "source": [
    "test1_files = [\n",
    "    str(WDIR / \"data/synthetic_spectra/HAT-P-1b\" / \"synthetic_HAT-P-1-b_HST_STIS_G430L_52X2_Nikolov+2014_transmission_spectrum_0.txt\"),\n",
    "]\n",
    "\n",
    "test2_files = [\n",
    "    str(WDIR / \"data/synthetic_spectra/HAT-P-1b\" / \"synthetic_HAT-P-1-b_HST_STIS_G430L_52X2_Sing+2016_transmission_spectrum_1.txt\"),\n",
    "]\n",
    "\n",
    "test3_files = [\n",
    "    str(WDIR / \"data/synthetic_spectra/HAT-P-1b\" / \"synthetic_HAT-P-1-b_HST_STIS_G430L_52X2_Nikolov+2014_transmission_spectrum_0.txt\"),\n",
    "    str(WDIR / \"data/synthetic_spectra/HAT-P-1b\" / \"synthetic_HAT-P-1-b_HST_STIS_G430L_52X2_Sing+2016_transmission_spectrum_1.txt\"),\n",
    "]\n",
    "\n",
    "files = [\n",
    "    test1_files,\n",
    "    test2_files,\n",
    "    test3_files\n",
    "]\n",
    "\n",
    "target = get_target_data(\"HAT-P-1 b\")\n",
    "\n",
    "# TODO: generate spectra?\n",
    "\n",
    "par_file_paths = []\n",
    "\n",
    "# write par files\n",
    "for f in files:\n",
    "    outf = write_par_file(f, target=target, fastchem=True, synthetic=True)\n",
    "    par_file_paths.append(outf)"
   ],
   "metadata": {
    "collapsed": false
   }
  },
  {
   "cell_type": "code",
   "execution_count": 3,
   "outputs": [
    {
     "name": "stdout",
     "output_type": "stream",
     "text": [
      "[WindowsPath('C:/Users/lukas/Documents/git/compla/data/synthetic_spectra/HAT-P-1b/HAT-P-1b_HST_STIS_G430L_52X2_Nikolov+2014,TM0/HAT-P-1b_HST_STIS_G430L_52X2_Nikolov+2014,TM0_time-2023-04-18-11-57-15.par'), WindowsPath('C:/Users/lukas/Documents/git/compla/data/synthetic_spectra/HAT-P-1b/HAT-P-1b_HST_STIS_G430L_52X2_Sing+2016,TM1/HAT-P-1b_HST_STIS_G430L_52X2_Sing+2016,TM1_time-2023-04-18-11-57-15.par'), WindowsPath('C:/Users/lukas/Documents/git/compla/data/synthetic_spectra/HAT-P-1b/HAT-P-1b_HST_STIS_G430L_52X2_source(Nikolov+2014,TM0_Sing+2016,TM1)/HAT-P-1b_HST_STIS_G430L_52X2_source(Nikolov+2014,TM0_Sing+2016,TM1)_time-2023-04-18-11-57-15.par')]\n"
     ]
    }
   ],
   "source": [
    "print(par_file_paths)"
   ],
   "metadata": {
    "collapsed": false
   }
  },
  {
   "cell_type": "code",
   "execution_count": null,
   "outputs": [],
   "source": [
    "# for path in par_file_paths:\n",
    "#     run_retrieval(input_file_path=str(path))\n"
   ],
   "metadata": {
    "collapsed": false
   }
  },
  {
   "cell_type": "code",
   "execution_count": 10,
   "outputs": [
    {
     "name": "stdout",
     "output_type": "stream",
     "text": [
      "Creating directory for new run C:\\Users\\lukas\\Documents\\git\\compla\\data\\synthetic_spectra\\HAT-P-1b\\HAT-P-1b_HST_STIS_G430L_52X2_source(Nikolov+2014,TM0_Sing+2016,TM1)\\HAT-P-1b_HST_STIS_G430L_52X2_source(Nikolov+2014,TM0_Sing+2016,TM1)_time-2023-04-18-11-57-15\\run2\n",
      "[ultranest] Sampling 400 live points from prior ...\n",
      "Unexpected exception formatting exception. Falling back to standard exception\n"
     ]
    },
    {
     "name": "stderr",
     "output_type": "stream",
     "text": [
      "Traceback (most recent call last):\n",
      "  File \"C:\\Users\\lukas\\miniconda3\\envs\\compla\\lib\\site-packages\\IPython\\core\\interactiveshell.py\", line 3460, in run_code\n",
      "    exec(code_obj, self.user_global_ns, self.user_ns)\n",
      "  File \"C:\\Users\\lukas\\AppData\\Local\\Temp\\ipykernel_13032\\2765175363.py\", line 1, in <module>\n",
      "    run_retrieval(input_file_path=str(par_file_paths[-1]))\n",
      "  File \"C:\\Users\\lukas\\Documents\\git\\compla\\src\\retrieval_runner.py\", line 145, in run_retrieval\n",
      "    solution = optimizer.fit(output_size=output_size)\n",
      "  File \"c:\\users\\lukas\\documents\\git\\taurex3\\taurex\\optimizer\\optimizer.py\", line 590, in fit\n",
      "    self.compute_fit()\n",
      "  File \"C:\\Users\\lukas\\miniconda3\\envs\\compla\\lib\\site-packages\\taurex_ultranest\\ultranestoptimizer.py\", line 120, in compute_fit\n",
      "    result = sampler.run(dlogz=self.dlogz, dKL=self.dkl,\n",
      "  File \"C:\\Users\\lukas\\miniconda3\\envs\\compla\\lib\\site-packages\\ultranest\\integrator.py\", line 2311, in run\n",
      "    for result in self.run_iter(\n",
      "  File \"C:\\Users\\lukas\\miniconda3\\envs\\compla\\lib\\site-packages\\ultranest\\integrator.py\", line 2406, in run_iter\n",
      "    self._widen_roots_beyond_initial_plateau(min_num_live_points)\n",
      "  File \"C:\\Users\\lukas\\miniconda3\\envs\\compla\\lib\\site-packages\\ultranest\\integrator.py\", line 1396, in _widen_roots_beyond_initial_plateau\n",
      "    self._widen_roots(nroots_needed)\n",
      "  File \"C:\\Users\\lukas\\miniconda3\\envs\\compla\\lib\\site-packages\\ultranest\\integrator.py\", line 1465, in _widen_roots\n",
      "    active_logl = self.loglike(active_v)\n",
      "  File \"C:\\Users\\lukas\\miniconda3\\envs\\compla\\lib\\site-packages\\ultranest\\utils.py\", line 131, in vectorized\n",
      "    return np.asarray([function(arg) for arg in args])\n",
      "  File \"C:\\Users\\lukas\\miniconda3\\envs\\compla\\lib\\site-packages\\ultranest\\utils.py\", line 131, in <listcomp>\n",
      "    return np.asarray([function(arg) for arg in args])\n",
      "  File \"C:\\Users\\lukas\\miniconda3\\envs\\compla\\lib\\site-packages\\taurex_ultranest\\ultranestoptimizer.py\", line 73, in ultranest_loglike\n",
      "    chi_t = self.chisq_trans(fit_params_container, data, datastd)\n",
      "  File \"C:\\Users\\lukas\\miniconda3\\envs\\compla\\lib\\site-packages\\taurex_ultranest\\ultranestoptimizer.py\", line 212, in chisq_trans\n",
      "    res = super().chisq_trans(fit_params, data, datastd)\n",
      "  File \"c:\\users\\lukas\\documents\\git\\taurex3\\taurex\\optimizer\\optimizer.py\", line 534, in chisq_trans\n",
      "    self._model.model(wngrid=obs_bins))\n",
      "  File \"c:\\users\\lukas\\documents\\git\\taurex3\\taurex\\model\\simplemodel.py\", line 450, in model\n",
      "    contrib.prepare(self, native_grid)\n",
      "  File \"c:\\users\\lukas\\documents\\git\\taurex3\\taurex\\contributions\\absorption.py\", line 126, in prepare\n",
      "    for gas, sigma in self.prepare_each(model, wngrid):\n",
      "  File \"c:\\users\\lukas\\documents\\git\\taurex3\\taurex\\contributions\\absorption.py\", line 96, in prepare_each\n",
      "    sigma_xsec[idx_layer] += xsec.opacity(temperature, pressure, wngrid)*gas_mix[idx_layer]\n",
      "  File \"c:\\users\\lukas\\documents\\git\\taurex3\\taurex\\opacity\\opacity.py\", line 58, in opacity\n",
      "    wngrid_filter = np.where((self.wavenumberGrid >= wngrid.min()) & (\n",
      "  File \"<__array_function__ internals>\", line 180, in where\n",
      "KeyboardInterrupt\n",
      "\n",
      "During handling of the above exception, another exception occurred:\n",
      "\n",
      "Traceback (most recent call last):\n",
      "  File \"C:\\Users\\lukas\\miniconda3\\envs\\compla\\lib\\site-packages\\IPython\\core\\interactiveshell.py\", line 2057, in showtraceback\n",
      "    stb = self.InteractiveTB.structured_traceback(\n",
      "  File \"C:\\Users\\lukas\\miniconda3\\envs\\compla\\lib\\site-packages\\IPython\\core\\ultratb.py\", line 1118, in structured_traceback\n",
      "    return FormattedTB.structured_traceback(\n",
      "  File \"C:\\Users\\lukas\\miniconda3\\envs\\compla\\lib\\site-packages\\IPython\\core\\ultratb.py\", line 1012, in structured_traceback\n",
      "    return VerboseTB.structured_traceback(\n",
      "  File \"C:\\Users\\lukas\\miniconda3\\envs\\compla\\lib\\site-packages\\IPython\\core\\ultratb.py\", line 865, in structured_traceback\n",
      "    formatted_exception = self.format_exception_as_a_whole(etype, evalue, etb, number_of_lines_of_context,\n",
      "  File \"C:\\Users\\lukas\\miniconda3\\envs\\compla\\lib\\site-packages\\IPython\\core\\ultratb.py\", line 818, in format_exception_as_a_whole\n",
      "    frames.append(self.format_record(r))\n",
      "  File \"C:\\Users\\lukas\\miniconda3\\envs\\compla\\lib\\site-packages\\IPython\\core\\ultratb.py\", line 736, in format_record\n",
      "    result += ''.join(_format_traceback_lines(frame_info.lines, Colors, self.has_colors, lvals))\n",
      "  File \"C:\\Users\\lukas\\miniconda3\\envs\\compla\\lib\\site-packages\\stack_data\\utils.py\", line 145, in cached_property_wrapper\n",
      "    value = obj.__dict__[self.func.__name__] = self.func(obj)\n",
      "  File \"C:\\Users\\lukas\\miniconda3\\envs\\compla\\lib\\site-packages\\stack_data\\core.py\", line 698, in lines\n",
      "    pieces = self.included_pieces\n",
      "  File \"C:\\Users\\lukas\\miniconda3\\envs\\compla\\lib\\site-packages\\stack_data\\utils.py\", line 145, in cached_property_wrapper\n",
      "    value = obj.__dict__[self.func.__name__] = self.func(obj)\n",
      "  File \"C:\\Users\\lukas\\miniconda3\\envs\\compla\\lib\\site-packages\\stack_data\\core.py\", line 649, in included_pieces\n",
      "    pos = scope_pieces.index(self.executing_piece)\n",
      "  File \"C:\\Users\\lukas\\miniconda3\\envs\\compla\\lib\\site-packages\\stack_data\\utils.py\", line 145, in cached_property_wrapper\n",
      "    value = obj.__dict__[self.func.__name__] = self.func(obj)\n",
      "  File \"C:\\Users\\lukas\\miniconda3\\envs\\compla\\lib\\site-packages\\stack_data\\core.py\", line 628, in executing_piece\n",
      "    return only(\n",
      "  File \"C:\\Users\\lukas\\miniconda3\\envs\\compla\\lib\\site-packages\\executing\\executing.py\", line 164, in only\n",
      "    raise NotOneValueFound('Expected one value, found 0')\n",
      "executing.executing.NotOneValueFound: Expected one value, found 0\n"
     ]
    }
   ],
   "source": [
    "run_retrieval(input_file_path=str(par_file_paths[-1]))"
   ],
   "metadata": {
    "collapsed": false
   }
  },
  {
   "cell_type": "code",
   "execution_count": null,
   "outputs": [],
   "source": [],
   "metadata": {
    "collapsed": false
   }
  }
 ],
 "metadata": {
  "kernelspec": {
   "display_name": "Python 3",
   "language": "python",
   "name": "python3"
  },
  "language_info": {
   "codemirror_mode": {
    "name": "ipython",
    "version": 2
   },
   "file_extension": ".py",
   "mimetype": "text/x-python",
   "name": "python",
   "nbconvert_exporter": "python",
   "pygments_lexer": "ipython2",
   "version": "2.7.6"
  }
 },
 "nbformat": 4,
 "nbformat_minor": 0
}
