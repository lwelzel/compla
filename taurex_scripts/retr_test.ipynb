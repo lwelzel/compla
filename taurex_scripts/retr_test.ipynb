{
 "cells": [
  {
   "cell_type": "code",
   "execution_count": null,
   "metadata": {
    "collapsed": true
   },
   "outputs": [],
   "source": [
    "import numpy as np\n",
    "import pandas as pd\n",
    "from scipy import stats\n",
    "import pprint\n",
    "import warnings\n",
    "from pandas.errors import ParserWarning\n",
    "\n",
    "pd.set_option('display.max_columns', 8)\n",
    "pd.set_option('display.width', 1000)\n",
    "\n",
    "import re\n",
    "import os\n",
    "from pathlib import Path\n",
    "import warnings\n",
    "from typing import List, Dict, Tuple, Any, Union, Callable\n",
    "from astropy.table import Table, MaskedColumn\n",
    "\n",
    "from astroquery import mast\n",
    "from astroquery.mast import Observations\n",
    "from astropy.time import Time, TimeJD, TimeDelta\n",
    "from astroquery.mast.missions import MastMissions\n",
    "\n",
    "hst_mission = MastMissions(mission='hst')\n",
    "\n",
    "import matplotlib.pyplot as plt\n",
    "%matplotlib inline\n",
    "plt.rcParams['figure.figsize'] = [7, 7]\n",
    "plt.rcParams['figure.dpi'] = 300\n",
    "\n",
    "from tqdm import tqdm\n",
    "\n",
    "# Autoreload extension\n",
    "if 'autoreload' not in get_ipython().extension_manager.loaded:\n",
    "    %load_ext autoreload\n",
    "\n",
    "%autoreload 2"
   ]
  },
  {
   "cell_type": "code",
   "execution_count": null,
   "outputs": [],
   "source": [
    "import pandas as pd\n",
    "import h5py\n",
    "import matplotlib.pyplot as plt\n",
    "import numpy as np\n",
    "\n",
    "from taurex.binning.fluxbinner import FluxBinner\n",
    "from taurex.util.util import wnwidth_to_wlwidth\n",
    "\n",
    "import taurex\n",
    "import os\n",
    "from taurex.log import disableLogging\n",
    "\n",
    "disableLogging()\n",
    "from taurex.cache import OpacityCache, CIACache\n",
    "from taurex.data.profiles.temperature import Isothermal, NPoint\n",
    "from taurex.data import Planet\n",
    "from taurex.data.stellar import BlackbodyStar\n",
    "from taurex.data.profiles.chemistry import TaurexChemistry\n",
    "from taurex.data.profiles.chemistry import ConstantGas\n",
    "from taurex.data.profiles.chemistry import TwoLayerGas\n",
    "from taurex.model import TransmissionModel, EmissionModel\n",
    "from taurex.contributions import *\n",
    "from taurex.data.spectrum.observed import ObservedSpectrum\n",
    "from astropy.io.fits.verify import VerifyWarning\n",
    "import warnings\n",
    "\n",
    "warnings.simplefilter('ignore', category=VerifyWarning)\n",
    "import gzip"
   ],
   "metadata": {
    "collapsed": false,
    "pycharm": {
     "name": "#%%\n"
    }
   }
  },
  {
   "cell_type": "code",
   "execution_count": null,
   "outputs": [],
   "source": [
    "# local setup\n",
    "WDIR = Path().cwd().parent\n",
    "\n",
    "CLEAN_TRANSMISSION_PATH = WDIR / \"data/transitspec_with_spectral_elements.csv\"\n",
    "TAUREX_LIGHTCURVE_PATH = WDIR / \"data/taurex_lightcurves_LW\"\n",
    "\n",
    "LINELISTS_PATH = str(WDIR / \"data/Linelists/xsec/TauRex_sampled_xsecs_R10000_0.3-15\")\n",
    "CIA_PATH = str(WDIR / \"data/Linelists/cia/hitran\")\n",
    "\n",
    "LINELISTS_PATH = WDIR / \"data/Linelists/xsec/TauRex_sampled_xsecs_R10000_0.3-15\"\n",
    "CIA_PATH = WDIR / \"data/Linelists/cia/hitran\""
   ],
   "metadata": {
    "collapsed": false,
    "pycharm": {
     "name": "#%%\n"
    }
   }
  },
  {
   "cell_type": "code",
   "execution_count": null,
   "outputs": [],
   "source": [],
   "metadata": {
    "collapsed": false,
    "pycharm": {
     "name": "#%%\n"
    }
   }
  }
 ],
 "metadata": {
  "kernelspec": {
   "display_name": "Python 3",
   "language": "python",
   "name": "python3"
  },
  "language_info": {
   "codemirror_mode": {
    "name": "ipython",
    "version": 2
   },
   "file_extension": ".py",
   "mimetype": "text/x-python",
   "name": "python",
   "nbconvert_exporter": "python",
   "pygments_lexer": "ipython2",
   "version": "2.7.6"
  }
 },
 "nbformat": 4,
 "nbformat_minor": 0
}